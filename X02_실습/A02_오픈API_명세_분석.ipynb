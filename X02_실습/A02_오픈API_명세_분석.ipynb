{
 "cells": [
  {
   "cell_type": "markdown",
   "id": "3a3f0665-ce56-41c3-8868-b66960af00c0",
   "metadata": {},
   "source": [
    "## 경기데이터드림 OpenApi 응답 명세\n",
    "- [경기데이터드림 OpenApi 응답 명세 URL](https://data.gg.go.kr/portal/data/service/selectServicePage.do?page=1&rows=10&sortColumn=&sortDirection=&infId=V3FXHJNFCLAVBMQTBRRI29844183&infSeq=1&order=&cateId=GG29)\n",
    "- csv 파일 다운로드 > csv 파일 utf8로 로컬저장 > db 스키마 생성 > db 저장 > db 분석"
   ]
  },
  {
   "cell_type": "code",
   "execution_count": 1,
   "id": "74a2e667-72ab-4a88-9529-34bbd7f6240f",
   "metadata": {},
   "outputs": [],
   "source": [
    "import pandas as pd\n",
    "import numpy as np\n",
    "from util.myUtil import MySQLDao\n",
    "dao = MySQLDao()"
   ]
  },
  {
   "cell_type": "markdown",
   "id": "3544ffa6-4dd4-4a64-852a-8b0c58d06e55",
   "metadata": {},
   "source": [
    "### [문제-01] 데이터 구조(스펙)을 데이터프레임 형태로 변환하시오. 단, 데이터 출력은 좌측정렬 하시오.\n",
    "- [데이터 구조확인](https://data.gg.go.kr/portal/data/service/selectServicePage.do?page=1&rows=10&sortColumn=&sortDirection=&infId=V3FXHJNFCLAVBMQTBRRI29844183&infSeq=2&order=&loc=&cateId=GG29)"
   ]
  },
  {
   "cell_type": "code",
   "execution_count": 19,
   "id": "99a614c1-7ee9-4392-8187-44d4328cdfc1",
   "metadata": {},
   "outputs": [
    {
     "data": {
      "text/html": [
       "<style type=\"text/css\">\n",
       "#T_74129_row0_col0, #T_74129_row0_col1, #T_74129_row1_col0, #T_74129_row1_col1, #T_74129_row2_col0, #T_74129_row2_col1, #T_74129_row3_col0, #T_74129_row3_col1, #T_74129_row4_col0, #T_74129_row4_col1, #T_74129_row5_col0, #T_74129_row5_col1, #T_74129_row6_col0, #T_74129_row6_col1 {\n",
       "  text-align: left;\n",
       "}\n",
       "</style>\n",
       "<table id=\"T_74129\">\n",
       "  <thead>\n",
       "    <tr>\n",
       "      <th class=\"blank level0\" >&nbsp;</th>\n",
       "      <th id=\"T_74129_level0_col0\" class=\"col_heading level0 col0\" >영문명</th>\n",
       "      <th id=\"T_74129_level0_col1\" class=\"col_heading level0 col1\" >한글명</th>\n",
       "    </tr>\n",
       "  </thead>\n",
       "  <tbody>\n",
       "    <tr>\n",
       "      <th id=\"T_74129_level0_row0\" class=\"row_heading level0 row0\" >0</th>\n",
       "      <td id=\"T_74129_row0_col0\" class=\"data row0 col0\" >INF_ID</td>\n",
       "      <td id=\"T_74129_row0_col1\" class=\"data row0 col1\" >공공데이터ID</td>\n",
       "    </tr>\n",
       "    <tr>\n",
       "      <th id=\"T_74129_level0_row1\" class=\"row_heading level0 row1\" >1</th>\n",
       "      <td id=\"T_74129_row1_col0\" class=\"data row1 col0\" >INF_NM</td>\n",
       "      <td id=\"T_74129_row1_col1\" class=\"data row1 col1\" >공공데이터명</td>\n",
       "    </tr>\n",
       "    <tr>\n",
       "      <th id=\"T_74129_level0_row2\" class=\"row_heading level0 row2\" >2</th>\n",
       "      <td id=\"T_74129_row2_col0\" class=\"data row2 col0\" >CALL_URL</td>\n",
       "      <td id=\"T_74129_row2_col1\" class=\"data row2 col1\" >호출URL</td>\n",
       "    </tr>\n",
       "    <tr>\n",
       "      <th id=\"T_74129_level0_row3\" class=\"row_heading level0 row3\" >3</th>\n",
       "      <td id=\"T_74129_row3_col0\" class=\"data row3 col0\" >COL_ID</td>\n",
       "      <td id=\"T_74129_row3_col1\" class=\"data row3 col1\" >항목ID</td>\n",
       "    </tr>\n",
       "    <tr>\n",
       "      <th id=\"T_74129_level0_row4\" class=\"row_heading level0 row4\" >4</th>\n",
       "      <td id=\"T_74129_row4_col0\" class=\"data row4 col0\" >COL_NM</td>\n",
       "      <td id=\"T_74129_row4_col1\" class=\"data row4 col1\" >항목명</td>\n",
       "    </tr>\n",
       "    <tr>\n",
       "      <th id=\"T_74129_level0_row5\" class=\"row_heading level0 row5\" >5</th>\n",
       "      <td id=\"T_74129_row5_col0\" class=\"data row5 col0\" >COL_TYPE</td>\n",
       "      <td id=\"T_74129_row5_col1\" class=\"data row5 col1\" >항목타입</td>\n",
       "    </tr>\n",
       "    <tr>\n",
       "      <th id=\"T_74129_level0_row6\" class=\"row_heading level0 row6\" >6</th>\n",
       "      <td id=\"T_74129_row6_col0\" class=\"data row6 col0\" >REQ_YN</td>\n",
       "      <td id=\"T_74129_row6_col1\" class=\"data row6 col1\" >요청인자여부</td>\n",
       "    </tr>\n",
       "  </tbody>\n",
       "</table>\n"
      ],
      "text/plain": [
       "<pandas.io.formats.style.Styler at 0x29728999df0>"
      ]
     },
     "execution_count": 19,
     "metadata": {},
     "output_type": "execute_result"
    }
   ],
   "source": [
    "spec = pd.DataFrame([{\"영문명\":\"INF_ID\",\"한글명\":\"공공데이터ID\"},{\"영문명\":\"INF_NM\",\"한글명\":\"공공데이터명\"},{\"영문명\":\"CALL_URL\",\"한글명\":\"호출URL\"},{\"영문명\":\"COL_ID\",\"한글명\":\"항목ID\"},{\"영문명\":\"COL_NM\",\"한글명\":\"항목명\"},{\"영문명\":\"COL_TYPE\",\"한글명\":\"항목타입\"},\n",
    "{\"영문명\":\"REQ_YN\",\"한글명\":\"요청인자여부\"}])\n",
    "spec.style.set_properties(**{'text-align': 'left'}) # 데이터 좌측정렬"
   ]
  },
  {
   "cell_type": "markdown",
   "id": "5655d47c-3507-44a4-b99d-d73d04d9ad8b",
   "metadata": {},
   "source": [
    "### [문제-02] csv 파일을 받은 받아서, 인코딩을 utf-8로 변경하여 저장하시오.(cp949 > utf-8)\n",
    "- [다운로드 페이지](https://data.gg.go.kr/portal/data/service/selectServicePage.do?page=1&rows=10&sortColumn=&sortDirection=&infId=V3FXHJNFCLAVBMQTBRRI29844183&infSeq=1&order=&loc=&cateId=GG29) CSV 파일 다운로드"
   ]
  },
  {
   "cell_type": "code",
   "execution_count": null,
   "id": "ef97fe11-f097-4c99-ba28-1cd3de4b6c28",
   "metadata": {},
   "outputs": [],
   "source": [
    "# df = pd.read_csv(\"data/02_경기데이터드림OpenApi응답명세.csv\", encoding=\"cp949\")\n",
    "# df.to_csv(\"data/02_경기데이터드림OpenApi응답명세.csv\", encoding=\"utf-8\", index=False) # 데이터프레임에서 자동 생성한 index 제거"
   ]
  },
  {
   "cell_type": "markdown",
   "id": "4d4ca537-b3a4-474c-9056-35de1aea0695",
   "metadata": {},
   "source": [
    "### [문제-03] 저장한 csv 파일을 데이터프렘으로 변환해서 출력하시오."
   ]
  },
  {
   "cell_type": "code",
   "execution_count": 2,
   "id": "48c319b0-9138-4401-ad00-635418001e51",
   "metadata": {
    "tags": []
   },
   "outputs": [
    {
     "data": {
      "text/html": [
       "<div>\n",
       "<style scoped>\n",
       "    .dataframe tbody tr th:only-of-type {\n",
       "        vertical-align: middle;\n",
       "    }\n",
       "\n",
       "    .dataframe tbody tr th {\n",
       "        vertical-align: top;\n",
       "    }\n",
       "\n",
       "    .dataframe thead th {\n",
       "        text-align: right;\n",
       "    }\n",
       "</style>\n",
       "<table border=\"1\" class=\"dataframe\">\n",
       "  <thead>\n",
       "    <tr style=\"text-align: right;\">\n",
       "      <th></th>\n",
       "      <th>공공데이터ID</th>\n",
       "      <th>공공데이터명</th>\n",
       "      <th>호출URL</th>\n",
       "      <th>항목ID</th>\n",
       "      <th>항목명</th>\n",
       "      <th>항목타입</th>\n",
       "      <th>요청인자여부</th>\n",
       "    </tr>\n",
       "  </thead>\n",
       "  <tbody>\n",
       "    <tr>\n",
       "      <th>0</th>\n",
       "      <td>KE22KP2IJFD15YD0W4BU29615963</td>\n",
       "      <td>0세아 전용 어린이집 현황</td>\n",
       "      <td>https://openapi.gg.go.kr/Age0PrvuuseKidgartn</td>\n",
       "      <td>SIGUN_CD</td>\n",
       "      <td>시군코드</td>\n",
       "      <td>TEXT</td>\n",
       "      <td>N</td>\n",
       "    </tr>\n",
       "    <tr>\n",
       "      <th>1</th>\n",
       "      <td>KE22KP2IJFD15YD0W4BU29615963</td>\n",
       "      <td>0세아 전용 어린이집 현황</td>\n",
       "      <td>https://openapi.gg.go.kr/Age0PrvuuseKidgartn</td>\n",
       "      <td>SIGUN_NM</td>\n",
       "      <td>시군명</td>\n",
       "      <td>TEXT</td>\n",
       "      <td>Y</td>\n",
       "    </tr>\n",
       "  </tbody>\n",
       "</table>\n",
       "</div>"
      ],
      "text/plain": [
       "                        공공데이터ID          공공데이터명  \\\n",
       "0  KE22KP2IJFD15YD0W4BU29615963  0세아 전용 어린이집 현황   \n",
       "1  KE22KP2IJFD15YD0W4BU29615963  0세아 전용 어린이집 현황   \n",
       "\n",
       "                                          호출URL      항목ID   항목명  항목타입 요청인자여부  \n",
       "0  https://openapi.gg.go.kr/Age0PrvuuseKidgartn  SIGUN_CD  시군코드  TEXT      N  \n",
       "1  https://openapi.gg.go.kr/Age0PrvuuseKidgartn  SIGUN_NM   시군명  TEXT      Y  "
      ]
     },
     "execution_count": 2,
     "metadata": {},
     "output_type": "execute_result"
    }
   ],
   "source": [
    "df = pd.read_csv(\"data/02_경기데이터드림OpenApi응답명세.csv\")\n",
    "df.head(2)"
   ]
  },
  {
   "cell_type": "markdown",
   "id": "0a19827f-cdd7-4027-9900-fab244281a55",
   "metadata": {
    "tags": []
   },
   "source": [
    "### [문제-04] 각 열의 문자열 최대 길이를 구하시오."
   ]
  },
  {
   "cell_type": "code",
   "execution_count": 17,
   "id": "877c0c4b-42ae-4291-9b28-4f8713e66e28",
   "metadata": {
    "collapsed": true,
    "jupyter": {
     "outputs_hidden": true
    },
    "tags": []
   },
   "outputs": [
    {
     "name": "stdout",
     "output_type": "stream",
     "text": [
      "공공데이터ID  max:  28\n",
      "공공데이터명  max:  49\n",
      "호출URL  max:  55\n",
      "항목ID  max:  30\n",
      "항목명  max:  30\n",
      "항목타입  max:  6\n",
      "요청인자여부  max:  1\n"
     ]
    }
   ],
   "source": [
    "# 문자열 길이 max 구하기\n",
    "items = df.columns.values\n",
    "def get_text_max(name):\n",
    "    len_max = 0\n",
    "    df1 = df.filter([name])\n",
    "    for v in df1.values:\n",
    "        if len(v[0]) > len_max:\n",
    "            len_max = len(v[0])\n",
    "    return len_max\n",
    "for v in items:\n",
    "    print(v,' max: ', get_text_max(v))"
   ]
  },
  {
   "cell_type": "markdown",
   "id": "436cad19-fd0d-42e6-8d3b-dd6c04736b5c",
   "metadata": {},
   "source": [
    "### [문제-05] 테이블을 생성하시오. API_MST(마스터), API_DTL(상세), API_TMP(임시)"
   ]
  },
  {
   "cell_type": "code",
   "execution_count": null,
   "id": "2a8c02b1-e313-4ace-841b-8f51e2634d86",
   "metadata": {},
   "outputs": [],
   "source": [
    "# 1.1. API_MST 삭제\n",
    "dao.execute(\"drop table API_MST\")\n",
    "# 1.2. API_MST 생성\n",
    "dao.execute(\"\"\"\n",
    "CREATE TABLE API_MST (\n",
    "  API_MST_ID INT unsigned not null auto_increment COMMENT 'API_마스터_기본키',\n",
    "  INF_ID CHAR(28) NOT NULL                        COMMENT '공공데이터ID',\n",
    "  INF_NM VARCHAR(49) not null                     COMMENT '공공데이터명',\n",
    "  CALL_URL VARCHAR(55) not null                   COMMENT '호출URL',\n",
    "  PRIMARY KEY (API_MST_ID)\n",
    ")\n",
    "COMMENT='API_마스터'\n",
    "\"\"\")\n",
    "\n",
    "# 2.1. API_DTL 삭제\n",
    "dao.execute(\"drop table API_DTL\")\n",
    "# 2.2. API_DTL 생성\n",
    "dao.execute(\"\"\"\n",
    "CREATE TABLE API_DTL (\n",
    "  API_MST_ID INT unsigned not null                COMMENT 'API_마스터_참조키',\n",
    "  API_DTL_ID INT unsigned not null auto_increment COMMENT 'API_상세_기본키',\n",
    "  COL_ID CHAR(30) NOT NULL                        COMMENT '항목ID',\n",
    "  COL_NM VARCHAR(30) not null                     COMMENT '항목명',\n",
    "  COL_TYPE VARCHAR(6) not null                    COMMENT '항목타입',\n",
    "  REQ_YN CHAR(1) not null                         COMMENT '요청인자여부',\n",
    "  PRIMARY KEY (API_DTL_ID),\n",
    "  foreign KEY(API_MST_ID) references API_MST(API_MST_ID)\n",
    ")\n",
    "COMMENT='API_상세'\n",
    "\"\"\")\n",
    "\n",
    "# 3.1. API_TMP 삭제\n",
    "dao.execute(\"drop table API_TMP\")\n",
    "# 3.2. API_TMP 생성\n",
    "dao.execute(\"\"\"\n",
    "CREATE TABLE API_TMP (\n",
    "  INF_ID CHAR(28) NOT NULL                        COMMENT '공공데이터ID',\n",
    "  INF_NM VARCHAR(49) not null                     COMMENT '공공데이터명',\n",
    "  CALL_URL VARCHAR(55) not null                   COMMENT '호출URL',\n",
    "  COL_ID CHAR(30) NOT NULL                        COMMENT '항목ID',\n",
    "  COL_NM VARCHAR(30) not null                     COMMENT '항목명',\n",
    "  COL_TYPE VARCHAR(6) not null                    COMMENT '항목타입',\n",
    "  REQ_YN CHAR(1) not null                         COMMENT '요청인자여부'\n",
    ")\n",
    "\"\"\")"
   ]
  },
  {
   "cell_type": "code",
   "execution_count": null,
   "id": "87b61a75-ccc7-4bbc-9c83-874af4596ef3",
   "metadata": {},
   "outputs": [],
   "source": [
    "# DB 목록 출력하시오.\n",
    "pd.DataFrame(dao.getDBList())"
   ]
  },
  {
   "cell_type": "code",
   "execution_count": null,
   "id": "7d3c38d1-0638-4864-bc7d-f1a158962dd5",
   "metadata": {},
   "outputs": [],
   "source": [
    "# 테이블 목록을 출력하시오.\n",
    "pd.DataFrame(dao.getTableList3('analysis'))"
   ]
  },
  {
   "cell_type": "markdown",
   "id": "32345f00-cc62-4df3-9ba5-bc7703850854",
   "metadata": {},
   "source": [
    "### [문제-06] API_TMP 테이블에 데이터 삭제 후 등록 하시오."
   ]
  },
  {
   "cell_type": "code",
   "execution_count": 8,
   "id": "b7317ef4-4897-47e3-aa74-f0665545ce69",
   "metadata": {},
   "outputs": [
    {
     "name": "stdout",
     "output_type": "stream",
     "text": [
      "0\n",
      "{'대상건수': 25079, '처리건수': 25079, '결과': True}\n"
     ]
    }
   ],
   "source": [
    "# 1단계: 데이터 삭제\n",
    "sql = 'truncate table api_tmp'\n",
    "print(\"삭제 후 건수: \", dao.execute(sql) )\n",
    "\n",
    "# 2단계: 데이터 등록\n",
    "sql = '''\n",
    "insert into API_TMP(\n",
    "  INF_ID, INF_NM, CALL_URL, COL_ID, COL_NM, COL_TYPE, REQ_YN\n",
    ") VALUES(\n",
    "  %s, %s, %s, %s, %s, %s, %s\n",
    ")\n",
    "'''\n",
    "target_cnt = len(df) # 대상건수\n",
    "proc_cnt = 0   # 처리건수\n",
    "def save(param): # [등록 / 수정] 단건 처리\n",
    "    return dao.execute(sql, param)\n",
    "\n",
    "for v in df.values:\n",
    "    proc_cnt += save(tuple(v))\n",
    "\n",
    "# 3단계 : 처리 결과 출력\n",
    "print(\"처리결과: \",{'대상건수':target_cnt, '처리건수':proc_cnt, '결과':(target_cnt==proc_cnt)})"
   ]
  },
  {
   "cell_type": "markdown",
   "id": "aefdaa42-9a4f-498f-a50b-f6ea7152f1ea",
   "metadata": {},
   "source": [
    "### [문제-07] API_TMP 데이터를 분활해서 API_MST, API_DTL에 데이터를 등록 후 API_TMP 테이블을 제거하시오."
   ]
  },
  {
   "cell_type": "code",
   "execution_count": null,
   "id": "6d037b3c-ac1a-457c-b99c-797fab5a1aef",
   "metadata": {},
   "outputs": [],
   "source": [
    "# 1.1. api_mst 데이터 삭제\n",
    "dao.execute(\"truncate table api_mst\")\n",
    "# 1.2. api_mst 등록\n",
    "dao.execute(\"\"\"\n",
    "insert into api_mst(inf_id, inf_nm, call_url)\n",
    "    select distinct inf_id, inf_nm, call_url -- distinct : 중복을 제거 한다.\n",
    "    from api_tmp\n",
    ")\n",
    "\"\"\")\n",
    "\n",
    "# 2.1. api_dtl 데이터 삭제\n",
    "dao.execute(\"truncate table api_dtl\")\n",
    "# 2.2. api_dtl 등록\n",
    "dao.execute(\"\"\"\n",
    "insert into api_dtl(api_mst_id, COL_ID, COL_NM, COL_TYPE, REQ_YN)\n",
    "\tselect api_mst_id, COL_ID, COL_NM, COL_TYPE, REQ_YN\n",
    "\t  from api_tmp a\n",
    "\t inner join api_mst b on a.inf_id = b.inf_id\n",
    ")\n",
    "\"\"\")\n",
    "\n",
    "# 3. API_TMP 테이블 제거\n",
    "dao.execute(\"drop table api_tmp\")"
   ]
  },
  {
   "cell_type": "markdown",
   "id": "221d6d42-e4f2-4e2b-a683-1b18f7ece86b",
   "metadata": {},
   "source": [
    "### [데이터분석-01] 오픈 API의 총 갯수를 구하시오."
   ]
  },
  {
   "cell_type": "code",
   "execution_count": 2,
   "id": "dde0b4c8-2a9c-4c0c-82fd-f10706d276af",
   "metadata": {},
   "outputs": [
    {
     "data": {
      "text/plain": [
       "{'CNT': 1437}"
      ]
     },
     "execution_count": 2,
     "metadata": {},
     "output_type": "execute_result"
    }
   ],
   "source": [
    "dao.row(\"select COUNT(*) as CNT from API_MST AM\")"
   ]
  },
  {
   "cell_type": "markdown",
   "id": "f93afb38-72ae-42b4-8a2c-343b1a1614f5",
   "metadata": {},
   "source": [
    "### [데이터분석-02] 공공데이터명 별 항목 총 갯수를 구하시오. 항목갯수로 내림차순으로 정렬"
   ]
  },
  {
   "cell_type": "code",
   "execution_count": 6,
   "id": "7f73ac4f-4d91-417b-86f8-61d978c3420d",
   "metadata": {},
   "outputs": [
    {
     "data": {
      "text/html": [
       "<div>\n",
       "<style scoped>\n",
       "    .dataframe tbody tr th:only-of-type {\n",
       "        vertical-align: middle;\n",
       "    }\n",
       "\n",
       "    .dataframe tbody tr th {\n",
       "        vertical-align: top;\n",
       "    }\n",
       "\n",
       "    .dataframe thead th {\n",
       "        text-align: right;\n",
       "    }\n",
       "</style>\n",
       "<table border=\"1\" class=\"dataframe\">\n",
       "  <thead>\n",
       "    <tr style=\"text-align: right;\">\n",
       "      <th></th>\n",
       "      <th>INF_NM</th>\n",
       "      <th>CNT</th>\n",
       "    </tr>\n",
       "  </thead>\n",
       "  <tbody>\n",
       "    <tr>\n",
       "      <th>0</th>\n",
       "      <td>유통제품수거(먹는샘물) 수질검사결과</td>\n",
       "      <td>112</td>\n",
       "    </tr>\n",
       "    <tr>\n",
       "      <th>1</th>\n",
       "      <td>제조업체원수(먹는샘물) 수질검사결과</td>\n",
       "      <td>104</td>\n",
       "    </tr>\n",
       "    <tr>\n",
       "      <th>2</th>\n",
       "      <td>입찰공고목록 정보(공사부분)</td>\n",
       "      <td>104</td>\n",
       "    </tr>\n",
       "    <tr>\n",
       "      <th>3</th>\n",
       "      <td>입찰공고목록 정보(용역부분)</td>\n",
       "      <td>102</td>\n",
       "    </tr>\n",
       "    <tr>\n",
       "      <th>4</th>\n",
       "      <td>입찰공고목록 정보(물품부분)</td>\n",
       "      <td>90</td>\n",
       "    </tr>\n",
       "  </tbody>\n",
       "</table>\n",
       "</div>"
      ],
      "text/plain": [
       "                INF_NM  CNT\n",
       "0  유통제품수거(먹는샘물) 수질검사결과  112\n",
       "1  제조업체원수(먹는샘물) 수질검사결과  104\n",
       "2      입찰공고목록 정보(공사부분)  104\n",
       "3      입찰공고목록 정보(용역부분)  102\n",
       "4      입찰공고목록 정보(물품부분)   90"
      ]
     },
     "execution_count": 6,
     "metadata": {},
     "output_type": "execute_result"
    }
   ],
   "source": [
    "pd.DataFrame(dao.rows(\"\"\"\n",
    "select A.INF_NM\n",
    "     , COUNT(*) as CNT\n",
    "  from API_MST A\n",
    " inner join API_DTL B on A.API_MST_ID = B.API_MST_ID  \n",
    " group by A.INF_NM\n",
    " order BY COUNT(*) DESC\n",
    "\"\"\")).head(5)"
   ]
  },
  {
   "cell_type": "markdown",
   "id": "2867c6c0-d4e5-4beb-99ce-9de65fec5189",
   "metadata": {},
   "source": [
    "### [데이터분석-03] 데이터(항목) 타입별 총 갯수를 구하시오.\n",
    "- number타입이 text타입의 1/3 이니 수치형 분석에 적합한 데이터는 작을것 같다."
   ]
  },
  {
   "cell_type": "code",
   "execution_count": 8,
   "id": "286a9cee-78be-4925-8a43-d818a9dc8ac8",
   "metadata": {},
   "outputs": [
    {
     "data": {
      "text/html": [
       "<div>\n",
       "<style scoped>\n",
       "    .dataframe tbody tr th:only-of-type {\n",
       "        vertical-align: middle;\n",
       "    }\n",
       "\n",
       "    .dataframe tbody tr th {\n",
       "        vertical-align: top;\n",
       "    }\n",
       "\n",
       "    .dataframe thead th {\n",
       "        text-align: right;\n",
       "    }\n",
       "</style>\n",
       "<table border=\"1\" class=\"dataframe\">\n",
       "  <thead>\n",
       "    <tr style=\"text-align: right;\">\n",
       "      <th></th>\n",
       "      <th>COL_TYPE</th>\n",
       "      <th>CNT</th>\n",
       "    </tr>\n",
       "  </thead>\n",
       "  <tbody>\n",
       "    <tr>\n",
       "      <th>0</th>\n",
       "      <td>NUMBER</td>\n",
       "      <td>6198</td>\n",
       "    </tr>\n",
       "    <tr>\n",
       "      <th>1</th>\n",
       "      <td>TEXT</td>\n",
       "      <td>18881</td>\n",
       "    </tr>\n",
       "  </tbody>\n",
       "</table>\n",
       "</div>"
      ],
      "text/plain": [
       "  COL_TYPE    CNT\n",
       "0   NUMBER   6198\n",
       "1     TEXT  18881"
      ]
     },
     "execution_count": 8,
     "metadata": {},
     "output_type": "execute_result"
    }
   ],
   "source": [
    "pd.DataFrame(dao.rows(\"\"\"\n",
    "select COL_TYPE, COUNT(*) as CNT\n",
    "  from API_DTL\n",
    " group by COL_TYPE\n",
    "\"\"\"))"
   ]
  },
  {
   "cell_type": "markdown",
   "id": "66bfa61d-347b-4cef-800d-091f5b56dd62",
   "metadata": {},
   "source": [
    "### [데이터분석-04] 공공데이터명을 항목타입이 텍스트보다 숫자형이 많은것을 기준으로 내림차순으로 정렬 하시오.\n",
    "- 단, 텍스트 갯수가 더 많은 것을 빼시오.\n",
    "- 수치형 항목이 많을 수록 수치분석에 적합할 확률이 높지 않을까?"
   ]
  },
  {
   "cell_type": "code",
   "execution_count": 10,
   "id": "5e8c20f8-47f6-4e02-a343-ad400e934923",
   "metadata": {},
   "outputs": [
    {
     "data": {
      "text/html": [
       "<div>\n",
       "<style scoped>\n",
       "    .dataframe tbody tr th:only-of-type {\n",
       "        vertical-align: middle;\n",
       "    }\n",
       "\n",
       "    .dataframe tbody tr th {\n",
       "        vertical-align: top;\n",
       "    }\n",
       "\n",
       "    .dataframe thead th {\n",
       "        text-align: right;\n",
       "    }\n",
       "</style>\n",
       "<table border=\"1\" class=\"dataframe\">\n",
       "  <thead>\n",
       "    <tr style=\"text-align: right;\">\n",
       "      <th></th>\n",
       "      <th>INF_NM</th>\n",
       "      <th>TEXT_CNT</th>\n",
       "      <th>NUMBER_CNT</th>\n",
       "      <th>NUMBER_DIFF</th>\n",
       "    </tr>\n",
       "  </thead>\n",
       "  <tbody>\n",
       "    <tr>\n",
       "      <th>0</th>\n",
       "      <td>특수학급 교원 집계현황</td>\n",
       "      <td>2</td>\n",
       "      <td>61</td>\n",
       "      <td>59</td>\n",
       "    </tr>\n",
       "    <tr>\n",
       "      <th>1</th>\n",
       "      <td>직위별 교원 현황</td>\n",
       "      <td>12</td>\n",
       "      <td>60</td>\n",
       "      <td>48</td>\n",
       "    </tr>\n",
       "    <tr>\n",
       "      <th>2</th>\n",
       "      <td>등록장애인 집계현황(시군별, 유형별, 성별)</td>\n",
       "      <td>3</td>\n",
       "      <td>46</td>\n",
       "      <td>43</td>\n",
       "    </tr>\n",
       "    <tr>\n",
       "      <th>3</th>\n",
       "      <td>표시과목별 교원 현황(초)</td>\n",
       "      <td>12</td>\n",
       "      <td>51</td>\n",
       "      <td>39</td>\n",
       "    </tr>\n",
       "    <tr>\n",
       "      <th>4</th>\n",
       "      <td>졸업생의 진로 현황(중과정, 중학교)</td>\n",
       "      <td>13</td>\n",
       "      <td>51</td>\n",
       "      <td>38</td>\n",
       "    </tr>\n",
       "  </tbody>\n",
       "</table>\n",
       "</div>"
      ],
      "text/plain": [
       "                     INF_NM TEXT_CNT NUMBER_CNT NUMBER_DIFF\n",
       "0              특수학급 교원 집계현황        2         61          59\n",
       "1                 직위별 교원 현황       12         60          48\n",
       "2  등록장애인 집계현황(시군별, 유형별, 성별)        3         46          43\n",
       "3            표시과목별 교원 현황(초)       12         51          39\n",
       "4      졸업생의 진로 현황(중과정, 중학교)       13         51          38"
      ]
     },
     "execution_count": 10,
     "metadata": {},
     "output_type": "execute_result"
    }
   ],
   "source": [
    "pd.DataFrame(dao.rows(\"\"\"\n",
    "select INF_NM, TEXT_CNT, NUMBER_CNT, (NUMBER_CNT-TEXT_CNT) as NUMBER_DIFF\n",
    "  from (\n",
    "\tselect A.INF_NM\n",
    "\t     , SUM( case when COL_TYPE='TEXT' then 1 else 0 END ) as TEXT_CNT\n",
    "\t     , SUM( case when COL_TYPE='NUMBER' then 1 else 0 END ) as NUMBER_CNT\n",
    "\t  from API_MST A\n",
    "\t inner join API_DTL B on A.API_MST_ID = B.API_MST_ID\n",
    "\t group by A.INF_NM\n",
    "   ) A1\n",
    "  where (NUMBER_CNT-TEXT_CNT) >= 1 \n",
    "  order by (NUMBER_CNT-TEXT_CNT) DESC\n",
    "\"\"\")).head(5)"
   ]
  },
  {
   "cell_type": "markdown",
   "id": "c8514888-392f-4e03-b836-f24f112ac9d9",
   "metadata": {},
   "source": [
    "### [데이터분석-05] 호출URL에서 API_KEY를 추출하여 출력하시오.SUBSTRING('문자열', 시작위치_숫자, 종료위치_숫자)"
   ]
  },
  {
   "cell_type": "code",
   "execution_count": 12,
   "id": "24c9e898-ff75-49be-9f22-de1aeaaedb03",
   "metadata": {},
   "outputs": [
    {
     "data": {
      "text/html": [
       "<div>\n",
       "<style scoped>\n",
       "    .dataframe tbody tr th:only-of-type {\n",
       "        vertical-align: middle;\n",
       "    }\n",
       "\n",
       "    .dataframe tbody tr th {\n",
       "        vertical-align: top;\n",
       "    }\n",
       "\n",
       "    .dataframe thead th {\n",
       "        text-align: right;\n",
       "    }\n",
       "</style>\n",
       "<table border=\"1\" class=\"dataframe\">\n",
       "  <thead>\n",
       "    <tr style=\"text-align: right;\">\n",
       "      <th></th>\n",
       "      <th>CALL_URL</th>\n",
       "      <th>AKP_KEY</th>\n",
       "    </tr>\n",
       "  </thead>\n",
       "  <tbody>\n",
       "    <tr>\n",
       "      <th>0</th>\n",
       "      <td>https://openapi.gg.go.kr/Age0PrvuuseKidgartn</td>\n",
       "      <td>Age0PrvuuseKidgartn</td>\n",
       "    </tr>\n",
       "    <tr>\n",
       "      <th>1</th>\n",
       "      <td>https://openapi.gg.go.kr/PerpersonParkarea</td>\n",
       "      <td>PerpersonParkarea</td>\n",
       "    </tr>\n",
       "    <tr>\n",
       "      <th>2</th>\n",
       "      <td>https://openapi.gg.go.kr/AboveH30Mainbi</td>\n",
       "      <td>AboveH30Mainbi</td>\n",
       "    </tr>\n",
       "    <tr>\n",
       "      <th>3</th>\n",
       "      <td>https://openapi.gg.go.kr/PredictTreat</td>\n",
       "      <td>PredictTreat</td>\n",
       "    </tr>\n",
       "    <tr>\n",
       "      <th>4</th>\n",
       "      <td>https://openapi.gg.go.kr/CCTV</td>\n",
       "      <td>CCTV</td>\n",
       "    </tr>\n",
       "  </tbody>\n",
       "</table>\n",
       "</div>"
      ],
      "text/plain": [
       "                                       CALL_URL              AKP_KEY\n",
       "0  https://openapi.gg.go.kr/Age0PrvuuseKidgartn  Age0PrvuuseKidgartn\n",
       "1    https://openapi.gg.go.kr/PerpersonParkarea    PerpersonParkarea\n",
       "2       https://openapi.gg.go.kr/AboveH30Mainbi       AboveH30Mainbi\n",
       "3         https://openapi.gg.go.kr/PredictTreat         PredictTreat\n",
       "4                 https://openapi.gg.go.kr/CCTV                 CCTV"
      ]
     },
     "execution_count": 12,
     "metadata": {},
     "output_type": "execute_result"
    }
   ],
   "source": [
    "pd.DataFrame(dao.rows(\"\"\"\n",
    "select CALL_URL, SUBSTRING(CALL_URL2, INSTR(CALL_URL2,'/')+1, END_IDX) as AKP_KEY\n",
    "  from (\n",
    "\tselect CALL_URL, REPLACE(CALL_URL,'//','||') as CALL_URL2, LENGTH(CALL_URL) as END_IDX\n",
    "\t  from API_MST\n",
    ") A1\n",
    "\"\"\")).head(5)"
   ]
  },
  {
   "cell_type": "code",
   "execution_count": null,
   "id": "449dd3bf-6b79-4bc2-8e9f-aa78a9c3a3b4",
   "metadata": {},
   "outputs": [],
   "source": []
  },
  {
   "cell_type": "code",
   "execution_count": null,
   "id": "e3887287-f7db-4968-8e69-38fb252a350f",
   "metadata": {},
   "outputs": [],
   "source": []
  },
  {
   "cell_type": "code",
   "execution_count": null,
   "id": "927c61dd-dce3-440c-975d-1c09bdef44be",
   "metadata": {},
   "outputs": [],
   "source": []
  }
 ],
 "metadata": {
  "kernelspec": {
   "display_name": "Python 3 (ipykernel)",
   "language": "python",
   "name": "python3"
  },
  "language_info": {
   "codemirror_mode": {
    "name": "ipython",
    "version": 3
   },
   "file_extension": ".py",
   "mimetype": "text/x-python",
   "name": "python",
   "nbconvert_exporter": "python",
   "pygments_lexer": "ipython3",
   "version": "3.9.10"
  }
 },
 "nbformat": 4,
 "nbformat_minor": 5
}
