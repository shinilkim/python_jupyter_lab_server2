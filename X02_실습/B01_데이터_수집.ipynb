{
 "cells": [
  {
   "cell_type": "markdown",
   "id": "46c5ad91",
   "metadata": {},
   "source": [
    "#### 중도탈락 학생 현황\n",
    "https://www.data.go.kr/data/15056921/openapi.do"
   ]
  },
  {
   "cell_type": "code",
   "execution_count": 2,
   "id": "98602c3c",
   "metadata": {
    "tags": []
   },
   "outputs": [
    {
     "name": "stdout",
     "output_type": "stream",
     "text": [
      "기존 데이터가 7494 건 삭제되었습니다.\n",
      "http status:  200\n",
      "총 건수:  7494\n",
      "1 )  500 건 등록 ==> 10.39 sec\n",
      "2 )  1000 건 등록 ==> 17.5 sec\n",
      "3 )  1500 건 등록 ==> 24.66 sec\n",
      "4 )  2000 건 등록 ==> 31.38 sec\n",
      "5 )  2500 건 등록 ==> 63.65 sec\n",
      "6 )  3000 건 등록 ==> 70.88 sec\n",
      "7 )  3500 건 등록 ==> 77.39 sec\n",
      "8 )  4000 건 등록 ==> 84.08 sec\n",
      "9 )  4500 건 등록 ==> 90.74 sec\n",
      "10 )  5000 건 등록 ==> 97.62 sec\n",
      "11 )  5500 건 등록 ==> 104.15 sec\n",
      "12 )  6000 건 등록 ==> 110.67 sec\n",
      "13 )  6500 건 등록 ==> 117.17 sec\n",
      "14 )  7000 건 등록 ==> 123.7 sec\n",
      "15 )  7494 건 등록 ==> 130.11 sec\n",
      "완료\n",
      "총 처리시간 =  130.29 sec\n"
     ]
    }
   ],
   "source": [
    "# https://www.data.go.kr/data/15056921/openapi.do\n",
    "from util.apiUtil import Api\n",
    "import json\n",
    "\n",
    "isSave = True # True: API 데이터 저장 | False: API 데이터 조회\n",
    "\n",
    "if isSave:\n",
    "    Api.Hfwydrotmasterdr()\n",
    "else:\n",
    "    url = \"https://openapi.gg.go.kr/Hfwydrotmasterdr?KEY=8efbd2b4faaa41d48b9c8328bb455ead&type=json&pIndex=\"\n",
    "    pIndex = 1 # 페이지 번호\n",
    "    pSize = 2  # 페이지 블럭\n",
    "    result = Api.get(url, pIndex, pSize)\n",
    "    #print(result)\n",
    "    print(\"http status: \", result['status'])\n",
    "    print(\"총 건수: \", result['total_cnt'])\n",
    "    print(\"데이터: \")\n",
    "    print(json.dumps(result['data'], indent=2, sort_keys=True, ensure_ascii=False))"
   ]
  },
  {
   "cell_type": "markdown",
   "id": "efc75d90",
   "metadata": {},
   "source": [
    "#### 졸업생의 취업현황(일반대학원)\n",
    "https://www.data.go.kr/data/15058233/openapi.do"
   ]
  },
  {
   "cell_type": "code",
   "execution_count": 1,
   "id": "d05e30eb",
   "metadata": {
    "tags": []
   },
   "outputs": [
    {
     "name": "stdout",
     "output_type": "stream",
     "text": [
      "기존 데이터가 2071 건 삭제되었습니다.\n",
      "http status:  200\n",
      "총 건수:  2071\n",
      "1 )  300 건 등록\n",
      "2 )  600 건 등록\n",
      "3 )  900 건 등록\n",
      "4 )  1200 건 등록\n",
      "5 )  1500 건 등록\n",
      "6 )  1800 건 등록\n",
      "7 )  2071 건 등록\n",
      "완료\n",
      "총 처리시간 =  27.27 sec\n"
     ]
    }
   ],
   "source": [
    "from util.apiUtil import Api\n",
    "import json\n",
    "\n",
    "isSave = True # True: API 데이터 저장 | False: API 데이터 조회\n",
    "\n",
    "if isSave:\n",
    "    Api.Grduemplymtgenrlgdhl()\n",
    "else:\n",
    "    url = \"https://openapi.gg.go.kr/Grduemplymtgenrlgdhl?KEY=d1e335be21894375b7b0a15146dcf761&type=json&pIndex=\"\n",
    "    pIndex = 1\n",
    "    pSize = 1\n",
    "    result = Api.get(url, pIndex, pSize)\n",
    "\n",
    "    print(\"http status: \", result['status'])\n",
    "    print(\"총 건수: \", result['total_cnt'])\n",
    "    print(\"데이터: \")\n",
    "    print(json.dumps(result['data'], indent=2, sort_keys=True, ensure_ascii=False))"
   ]
  },
  {
   "cell_type": "code",
   "execution_count": 2,
   "id": "b39a4abf-9ed8-479a-8a4c-00ae16aab90f",
   "metadata": {},
   "outputs": [
    {
     "name": "stdout",
     "output_type": "stream",
     "text": [
      "False\n"
     ]
    }
   ],
   "source": [
    "#sr = pd.Series(['0','1','2','3','4','5','6','7','8','9'], index=['zero','one','two','three','four','five','six','seven','eight','nine'], name='kakao')\n",
    "\n",
    "sr = {\n",
    "    \"zeor\":\"0\",\n",
    "    \"one\":\"1\",\n",
    "    \"seven\":\"7\"\n",
    "}\n",
    "\n",
    "def solution(one4seveneight):\n",
    "    answer = one4seveneight\n",
    "    for index, value in sr.items():\n",
    "        answer = answer.replace(index, value)\n",
    "    return answer\n",
    "\n",
    "str = solution('one4seveneight')\n",
    "print(str == '14seveneight')"
   ]
  }
 ],
 "metadata": {
  "kernelspec": {
   "display_name": "Python 3 (ipykernel)",
   "language": "python",
   "name": "python3"
  },
  "language_info": {
   "codemirror_mode": {
    "name": "ipython",
    "version": 3
   },
   "file_extension": ".py",
   "mimetype": "text/x-python",
   "name": "python",
   "nbconvert_exporter": "python",
   "pygments_lexer": "ipython3",
   "version": "3.9.10"
  }
 },
 "nbformat": 4,
 "nbformat_minor": 5
}
