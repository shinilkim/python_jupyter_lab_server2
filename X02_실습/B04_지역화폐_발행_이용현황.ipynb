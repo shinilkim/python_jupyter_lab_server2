{
 "cells": [
  {
   "cell_type": "markdown",
   "id": "7b1a3845-afb1-46b3-a834-57a033a99a15",
   "metadata": {},
   "source": [
    "지역화폐 발행 및 이용 현황 - 경기도 지역화폐 발행 및 이용 현황 입니다.\n",
    "- https://data.gg.go.kr/portal/data/service/selectServicePage.do?page=1&rows=10&sortColumn=&sortDirection=&infId=6FEDD6KGEJWYCY2G15OY29527318&infSeq=2&order=&loc=&searchWord=%ED%99%94%ED%8F%90\n",
    "- https://openapi.gg.go.kr/RegionMnyPublctUse?KEY=3e9686f9abff44de926e9f87c251d8b7&Type=json&pIndex=1&pSize=1"
   ]
  },
  {
   "cell_type": "code",
   "execution_count": 3,
   "id": "e722b927-82fe-48d2-a6ae-09a16739fb1a",
   "metadata": {},
   "outputs": [],
   "source": [
    "# libary\n",
    "import pandas as pd\n",
    "import numpy as np\n",
    "from util.apiUtil import Api\n",
    "import matplotlib.pyplot as plt\n",
    "import matplotlib as mp\n",
    "mp.rcParams['font.family'] = 'Malgun Gothic'\n",
    "mp.rcParams['axes.unicode_minus'] = False\n",
    "\n",
    "# 전역변수\n",
    "save_file_name = \"X01_지역화폐_발행_이용현황\";"
   ]
  },
  {
   "cell_type": "markdown",
   "id": "08811739-490a-415b-a681-d0f50a6e277d",
   "metadata": {},
   "source": [
    "#### 02. 수집 및 csv 파일 저장"
   ]
  },
  {
   "cell_type": "code",
   "execution_count": 4,
   "id": "bda326ba-78d9-4dab-9abc-ec569aebdeb2",
   "metadata": {},
   "outputs": [
    {
     "name": "stdout",
     "output_type": "stream",
     "text": [
      "[처리시간: 0.27 sec] 대상건수: 837, 처리건수: 837\n"
     ]
    }
   ],
   "source": [
    "# 01. 데이터 수집\n",
    "url = \"https://openapi.gg.go.kr/RegionMnyPublctUse?KEY=3e9686f9abff44de926e9f87c251d8b7&Type=json&pIndex=\"\n",
    "pSize = 500 # data fetch Size\n",
    "df = Api.get_dataframe(url, pSize) # return pd.DataFrame\n",
    "\n",
    "# 02. 수집결과 원본 csv 파일로 저장\n",
    "df.to_csv(\"./data/\"+save_file_name+\"_source.csv\", index=False)"
   ]
  },
  {
   "cell_type": "markdown",
   "id": "545211d4-a594-4a9f-ac0d-98b83d67691c",
   "metadata": {},
   "source": [
    "#### 03. 수집결과 데이터 전처리"
   ]
  },
  {
   "cell_type": "code",
   "execution_count": 5,
   "id": "322abf87-2ceb-4c78-bcc5-5a6af7ec6804",
   "metadata": {},
   "outputs": [
    {
     "data": {
      "text/html": [
       "<div>\n",
       "<style scoped>\n",
       "    .dataframe tbody tr th:only-of-type {\n",
       "        vertical-align: middle;\n",
       "    }\n",
       "\n",
       "    .dataframe tbody tr th {\n",
       "        vertical-align: top;\n",
       "    }\n",
       "\n",
       "    .dataframe thead th {\n",
       "        text-align: right;\n",
       "    }\n",
       "</style>\n",
       "<table border=\"1\" class=\"dataframe\">\n",
       "  <thead>\n",
       "    <tr style=\"text-align: right;\">\n",
       "      <th></th>\n",
       "      <th>SIGUN_CD</th>\n",
       "      <th>SIGUN_NM</th>\n",
       "      <th>STD_YM</th>\n",
       "      <th>CARD_PUBLCT_CNT</th>\n",
       "      <th>CARD_CHRGNG_AMT</th>\n",
       "      <th>CARD_USE_AMT</th>\n",
       "      <th>MOBILE_GIFTCERTF_USER_CNT</th>\n",
       "      <th>MOBILE_CHRGNG_AMT</th>\n",
       "      <th>MOBILE_USE_AMT</th>\n",
       "      <th>BRNHSTRM_GIFTCERTF_SALE_AMT</th>\n",
       "      <th>BRNHSTRM_GIFTCERTF_RETRVL_AMT</th>\n",
       "    </tr>\n",
       "  </thead>\n",
       "  <tbody>\n",
       "    <tr>\n",
       "      <th>0</th>\n",
       "      <td>41370</td>\n",
       "      <td>오산시</td>\n",
       "      <td>2019-07</td>\n",
       "      <td>1389.0</td>\n",
       "      <td>839823.0</td>\n",
       "      <td>625889.0</td>\n",
       "      <td>NaN</td>\n",
       "      <td>NaN</td>\n",
       "      <td>NaN</td>\n",
       "      <td>NaN</td>\n",
       "      <td>NaN</td>\n",
       "    </tr>\n",
       "    <tr>\n",
       "      <th>1</th>\n",
       "      <td>41630</td>\n",
       "      <td>양주시</td>\n",
       "      <td>2019-07</td>\n",
       "      <td>1860.0</td>\n",
       "      <td>1312669.0</td>\n",
       "      <td>1017916.0</td>\n",
       "      <td>NaN</td>\n",
       "      <td>NaN</td>\n",
       "      <td>NaN</td>\n",
       "      <td>NaN</td>\n",
       "      <td>NaN</td>\n",
       "    </tr>\n",
       "  </tbody>\n",
       "</table>\n",
       "</div>"
      ],
      "text/plain": [
       "   SIGUN_CD SIGUN_NM   STD_YM  CARD_PUBLCT_CNT  CARD_CHRGNG_AMT  CARD_USE_AMT  \\\n",
       "0     41370      오산시  2019-07           1389.0         839823.0      625889.0   \n",
       "1     41630      양주시  2019-07           1860.0        1312669.0     1017916.0   \n",
       "\n",
       "   MOBILE_GIFTCERTF_USER_CNT  MOBILE_CHRGNG_AMT  MOBILE_USE_AMT  \\\n",
       "0                        NaN                NaN             NaN   \n",
       "1                        NaN                NaN             NaN   \n",
       "\n",
       "   BRNHSTRM_GIFTCERTF_SALE_AMT  BRNHSTRM_GIFTCERTF_RETRVL_AMT  \n",
       "0                          NaN                            NaN  \n",
       "1                          NaN                            NaN  "
      ]
     },
     "metadata": {},
     "output_type": "display_data"
    },
    {
     "data": {
      "text/html": [
       "<div>\n",
       "<style scoped>\n",
       "    .dataframe tbody tr th:only-of-type {\n",
       "        vertical-align: middle;\n",
       "    }\n",
       "\n",
       "    .dataframe tbody tr th {\n",
       "        vertical-align: top;\n",
       "    }\n",
       "\n",
       "    .dataframe thead th {\n",
       "        text-align: right;\n",
       "    }\n",
       "</style>\n",
       "<table border=\"1\" class=\"dataframe\">\n",
       "  <thead>\n",
       "    <tr style=\"text-align: right;\">\n",
       "      <th></th>\n",
       "      <th>SIGUN_CD</th>\n",
       "      <th>SIGUN_NM</th>\n",
       "      <th>STD_YM</th>\n",
       "      <th>CARD_PUBLCT_CNT</th>\n",
       "      <th>CARD_CHRGNG_AMT</th>\n",
       "      <th>CARD_USE_AMT</th>\n",
       "      <th>MOBILE_GIFTCERTF_USER_CNT</th>\n",
       "      <th>MOBILE_CHRGNG_AMT</th>\n",
       "      <th>MOBILE_USE_AMT</th>\n",
       "      <th>BRNHSTRM_GIFTCERTF_SALE_AMT</th>\n",
       "      <th>BRNHSTRM_GIFTCERTF_RETRVL_AMT</th>\n",
       "    </tr>\n",
       "  </thead>\n",
       "  <tbody>\n",
       "    <tr>\n",
       "      <th>0</th>\n",
       "      <td>41370</td>\n",
       "      <td>오산시</td>\n",
       "      <td>2019-07</td>\n",
       "      <td>1389.0</td>\n",
       "      <td>839823.0</td>\n",
       "      <td>625889.0</td>\n",
       "      <td>0.0</td>\n",
       "      <td>0.0</td>\n",
       "      <td>0.0</td>\n",
       "      <td>0.0</td>\n",
       "      <td>0.0</td>\n",
       "    </tr>\n",
       "    <tr>\n",
       "      <th>1</th>\n",
       "      <td>41630</td>\n",
       "      <td>양주시</td>\n",
       "      <td>2019-07</td>\n",
       "      <td>1860.0</td>\n",
       "      <td>1312669.0</td>\n",
       "      <td>1017916.0</td>\n",
       "      <td>0.0</td>\n",
       "      <td>0.0</td>\n",
       "      <td>0.0</td>\n",
       "      <td>0.0</td>\n",
       "      <td>0.0</td>\n",
       "    </tr>\n",
       "  </tbody>\n",
       "</table>\n",
       "</div>"
      ],
      "text/plain": [
       "   SIGUN_CD SIGUN_NM   STD_YM  CARD_PUBLCT_CNT  CARD_CHRGNG_AMT  CARD_USE_AMT  \\\n",
       "0     41370      오산시  2019-07           1389.0         839823.0      625889.0   \n",
       "1     41630      양주시  2019-07           1860.0        1312669.0     1017916.0   \n",
       "\n",
       "   MOBILE_GIFTCERTF_USER_CNT  MOBILE_CHRGNG_AMT  MOBILE_USE_AMT  \\\n",
       "0                        0.0                0.0             0.0   \n",
       "1                        0.0                0.0             0.0   \n",
       "\n",
       "   BRNHSTRM_GIFTCERTF_SALE_AMT  BRNHSTRM_GIFTCERTF_RETRVL_AMT  \n",
       "0                          0.0                            0.0  \n",
       "1                          0.0                            0.0  "
      ]
     },
     "metadata": {},
     "output_type": "display_data"
    }
   ],
   "source": [
    "# 3.1. 수집결과 원본 데이터\n",
    "df_src = pd.read_csv(\"./data/\"+save_file_name+\"_source.csv\", encoding='utf8')\n",
    "\n",
    "# 3.2. 수집결과 원본 상위 2개 데이터 조회\n",
    "display(df_src.head(2))\n",
    "\n",
    "# 3.3. 전처리: 값이 없는 것을 0으로 치환\n",
    "df = df_src.fillna(0)\n",
    "\n",
    "# 3.4. 전처리 결과 파일 저장\n",
    "df.to_csv(\"./data/\"+save_file_name+\"_result.csv\", index=False)\n",
    "display(df.head(2))"
   ]
  },
  {
   "cell_type": "markdown",
   "id": "d95cf615-4d8b-4510-b336-0eb99f98f128",
   "metadata": {},
   "source": [
    "#### 04. 최종 결과"
   ]
  },
  {
   "cell_type": "code",
   "execution_count": 12,
   "id": "faef861b-d1fc-4db7-87a6-71e9ee921ea0",
   "metadata": {},
   "outputs": [
    {
     "name": "stdout",
     "output_type": "stream",
     "text": [
      "API 데이터 구조\n"
     ]
    },
    {
     "data": {
      "text/html": [
       "<div>\n",
       "<style scoped>\n",
       "    .dataframe tbody tr th:only-of-type {\n",
       "        vertical-align: middle;\n",
       "    }\n",
       "\n",
       "    .dataframe tbody tr th {\n",
       "        vertical-align: top;\n",
       "    }\n",
       "\n",
       "    .dataframe thead th {\n",
       "        text-align: right;\n",
       "    }\n",
       "</style>\n",
       "<table border=\"1\" class=\"dataframe\">\n",
       "  <thead>\n",
       "    <tr style=\"text-align: right;\">\n",
       "      <th></th>\n",
       "      <th>컬럼_ID</th>\n",
       "      <th>컬럼_명</th>\n",
       "    </tr>\n",
       "  </thead>\n",
       "  <tbody>\n",
       "    <tr>\n",
       "      <th>0</th>\n",
       "      <td>SIGUN_CD</td>\n",
       "      <td>시군코드</td>\n",
       "    </tr>\n",
       "    <tr>\n",
       "      <th>1</th>\n",
       "      <td>SIGUN_NM</td>\n",
       "      <td>시군명</td>\n",
       "    </tr>\n",
       "    <tr>\n",
       "      <th>2</th>\n",
       "      <td>STD_YM</td>\n",
       "      <td>기준년월</td>\n",
       "    </tr>\n",
       "    <tr>\n",
       "      <th>3</th>\n",
       "      <td>CARD_PUBLCT_CNT</td>\n",
       "      <td>월별카드발행수량(건)</td>\n",
       "    </tr>\n",
       "    <tr>\n",
       "      <th>4</th>\n",
       "      <td>CARD_CHRGNG_AMT</td>\n",
       "      <td>월별카드충전액(천원)</td>\n",
       "    </tr>\n",
       "    <tr>\n",
       "      <th>5</th>\n",
       "      <td>CARD_USE_AMT</td>\n",
       "      <td>월별카드사용액(천원)</td>\n",
       "    </tr>\n",
       "    <tr>\n",
       "      <th>6</th>\n",
       "      <td>MOBILE_GIFTCERTF_USER_CNT</td>\n",
       "      <td>월별모바일상품권이용등록자수(명)</td>\n",
       "    </tr>\n",
       "    <tr>\n",
       "      <th>7</th>\n",
       "      <td>MOBILE_CHRGNG_AMT</td>\n",
       "      <td>월별모바일충전액(천원)</td>\n",
       "    </tr>\n",
       "    <tr>\n",
       "      <th>8</th>\n",
       "      <td>MOBILE_USE_AMT</td>\n",
       "      <td>월별모바일사용액(천원)</td>\n",
       "    </tr>\n",
       "    <tr>\n",
       "      <th>9</th>\n",
       "      <td>BRNHSTRM_GIFTCERTF_SALE_AMT</td>\n",
       "      <td>월별지류상품권판매액(천원)</td>\n",
       "    </tr>\n",
       "    <tr>\n",
       "      <th>10</th>\n",
       "      <td>BRNHSTRM_GIFTCERTF_RETRVL_AMT</td>\n",
       "      <td>월별지류상품권회수액(천원)</td>\n",
       "    </tr>\n",
       "  </tbody>\n",
       "</table>\n",
       "</div>"
      ],
      "text/plain": [
       "                            컬럼_ID               컬럼_명\n",
       "0                        SIGUN_CD               시군코드\n",
       "1                        SIGUN_NM                시군명\n",
       "2                          STD_YM               기준년월\n",
       "3                 CARD_PUBLCT_CNT        월별카드발행수량(건)\n",
       "4                 CARD_CHRGNG_AMT        월별카드충전액(천원)\n",
       "5                    CARD_USE_AMT        월별카드사용액(천원)\n",
       "6       MOBILE_GIFTCERTF_USER_CNT  월별모바일상품권이용등록자수(명)\n",
       "7               MOBILE_CHRGNG_AMT       월별모바일충전액(천원)\n",
       "8                  MOBILE_USE_AMT       월별모바일사용액(천원)\n",
       "9     BRNHSTRM_GIFTCERTF_SALE_AMT     월별지류상품권판매액(천원)\n",
       "10  BRNHSTRM_GIFTCERTF_RETRVL_AMT     월별지류상품권회수액(천원)"
      ]
     },
     "metadata": {},
     "output_type": "display_data"
    }
   ],
   "source": [
    "print(\"API 데이터 구조\")\n",
    "df = pd.read_csv(\"./data/\"+save_file_name+\"_schema.csv\", encoding='utf8')    # 데이터 구조\n",
    "display(df.head(len(df)))"
   ]
  },
  {
   "cell_type": "markdown",
   "id": "8b0ae45d-e324-4a31-a955-a977ac058d1f",
   "metadata": {},
   "source": [
    "#### 04.01. 경기도 지역화폐 월별 사용량\n",
    "- 코로나 이후로 정부지원금이 늘면서 정비례하게 사용량이 늘어나는 것을 알 수 있다."
   ]
  },
  {
   "cell_type": "code",
   "execution_count": 65,
   "id": "966993a5-f267-445d-bc0b-f8f9481332df",
   "metadata": {},
   "outputs": [
    {
     "name": "stdout",
     "output_type": "stream",
     "text": [
      "#### 01. 경기도 지역화폐 월별 사용량\n"
     ]
    },
    {
     "data": {
      "text/html": [
       "<div>\n",
       "<style scoped>\n",
       "    .dataframe tbody tr th:only-of-type {\n",
       "        vertical-align: middle;\n",
       "    }\n",
       "\n",
       "    .dataframe tbody tr th {\n",
       "        vertical-align: top;\n",
       "    }\n",
       "\n",
       "    .dataframe thead th {\n",
       "        text-align: right;\n",
       "    }\n",
       "</style>\n",
       "<table border=\"1\" class=\"dataframe\">\n",
       "  <thead>\n",
       "    <tr style=\"text-align: right;\">\n",
       "      <th></th>\n",
       "      <th>충전금액</th>\n",
       "      <th>사용금액</th>\n",
       "      <th>잔액</th>\n",
       "      <th>사용율</th>\n",
       "    </tr>\n",
       "    <tr>\n",
       "      <th>기준년월</th>\n",
       "      <th></th>\n",
       "      <th></th>\n",
       "      <th></th>\n",
       "      <th></th>\n",
       "    </tr>\n",
       "  </thead>\n",
       "  <tbody>\n",
       "    <tr>\n",
       "      <th>2019-01</th>\n",
       "      <td>4792280</td>\n",
       "      <td>3963836</td>\n",
       "      <td>828444</td>\n",
       "      <td>82.71</td>\n",
       "    </tr>\n",
       "    <tr>\n",
       "      <th>2019-02</th>\n",
       "      <td>5602410</td>\n",
       "      <td>3674938</td>\n",
       "      <td>1927472</td>\n",
       "      <td>65.60</td>\n",
       "    </tr>\n",
       "    <tr>\n",
       "      <th>2019-03</th>\n",
       "      <td>6487053</td>\n",
       "      <td>5593724</td>\n",
       "      <td>893329</td>\n",
       "      <td>86.23</td>\n",
       "    </tr>\n",
       "    <tr>\n",
       "      <th>2019-04</th>\n",
       "      <td>17865048</td>\n",
       "      <td>7905257</td>\n",
       "      <td>9959791</td>\n",
       "      <td>44.25</td>\n",
       "    </tr>\n",
       "    <tr>\n",
       "      <th>2019-05</th>\n",
       "      <td>56935198</td>\n",
       "      <td>24948847</td>\n",
       "      <td>31986351</td>\n",
       "      <td>43.82</td>\n",
       "    </tr>\n",
       "  </tbody>\n",
       "</table>\n",
       "</div>"
      ],
      "text/plain": [
       "             충전금액      사용금액        잔액    사용율\n",
       "기준년월                                        \n",
       "2019-01   4792280   3963836    828444  82.71\n",
       "2019-02   5602410   3674938   1927472  65.60\n",
       "2019-03   6487053   5593724    893329  86.23\n",
       "2019-04  17865048   7905257   9959791  44.25\n",
       "2019-05  56935198  24948847  31986351  43.82"
      ]
     },
     "metadata": {},
     "output_type": "display_data"
    },
    {
     "name": "stdout",
     "output_type": "stream",
     "text": [
      "\n",
      "#### 02. 차트 출력\n"
     ]
    },
    {
     "data": {
      "text/plain": [
       "<AxesSubplot:title={'center':'경기도 지역화폐 월별 사용량'}, ylabel='기준년월'>"
      ]
     },
     "execution_count": 65,
     "metadata": {},
     "output_type": "execute_result"
    },
    {
     "data": {
      "image/png": "[encoded data removed]",
      "text/plain": [
       "<Figure size 1440x1440 with 1 Axes>"
      ]
     },
     "metadata": {
      "needs_background": "light"
     },
     "output_type": "display_data"
    }
   ],
   "source": [
    "# 00. 전처리 된 데이터를 load\n",
    "df = pd.read_csv(\"./data/\"+save_file_name+\"_result.csv\", encoding='utf8')    # 데이터\n",
    "# 01. 불필요 컬럼 삭제\n",
    "df.drop(columns=['SIGUN_CD'], inplace=True)\n",
    "# 02.01. 월별 사용량\n",
    "print(\"#### 01. 경기도 지역화폐 월별 사용량\")\n",
    "df = df.groupby(by='STD_YM').sum()\n",
    "df['충전금액'] = df.CARD_CHRGNG_AMT + df.MOBILE_CHRGNG_AMT\n",
    "df['사용금액'] = df.CARD_USE_AMT + df.MOBILE_USE_AMT\n",
    "df['잔액'] = df.충전금액 - df.사용금액\n",
    "df = df_ym.astype({'충전금액': int, '사용금액': int, '잔액': int})\n",
    "df['사용율'] = round(df.사용금액 / df.충전금액 * 100, 2)\n",
    "df = df.filter(items=[\"충전금액\",\"사용금액\",\"잔액\",\"사용율\"])\n",
    "display(df.head(5))\n",
    "print(\"\\n#### 02. 차트 출력\")\n",
    "df.index.name = '기준년월'\n",
    "df.filter(items=[\"충전금액\",\"사용금액\",\"잔액\"]).plot(kind='barh' # line, bar, barh, kde, density\n",
    "  , title=\"경기도 지역화폐 월별 사용량\"\n",
    "  , grid=False\n",
    "  , legend=True\n",
    "  , figsize = (20, 20)\n",
    ")"
   ]
  }
 ],
 "metadata": {
  "kernelspec": {
   "display_name": "Python 3 (ipykernel)",
   "language": "python",
   "name": "python3"
  },
  "language_info": {
   "codemirror_mode": {
    "name": "ipython",
    "version": 3
   },
   "file_extension": ".py",
   "mimetype": "text/x-python",
   "name": "python",
   "nbconvert_exporter": "python",
   "pygments_lexer": "ipython3",
   "version": "3.9.10"
  }
 },
 "nbformat": 4,
 "nbformat_minor": 5
}
