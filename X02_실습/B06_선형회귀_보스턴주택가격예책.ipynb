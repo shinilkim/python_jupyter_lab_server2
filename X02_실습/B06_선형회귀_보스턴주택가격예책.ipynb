{
 "cells": [
  {
   "cell_type": "markdown",
   "id": "677cd80e-358f-4490-821c-937cda395ae9",
   "metadata": {},
   "source": [
    "## 선형 회귀(Linear Regression) 예측 (ft.보스턴 주택 가격 예측)\n",
    "- Scikit-learn 라이브러리를 이용해서 회귀 예측\n",
    "- [시각화 matplot 홈페이지](https://matplotlib.org/stable/gallery/index.html)"
   ]
  },
  {
   "cell_type": "code",
   "execution_count": 39,
   "id": "8a9b5985-b624-425e-ae61-fb4300a7c979",
   "metadata": {},
   "outputs": [],
   "source": [
    "import pandas as pd                                  # 데이터셋 다루기\n",
    "import numpy as np\n",
    "from sklearn.datasets import load_boston             # 보스턴 주택 가격 데이터셋 불러오기\n",
    "from sklearn.model_selection import train_test_split # 데이터넷을 훈련 셋과 테스트 셋으로 나누기\n",
    "from sklearn.linear_model import LinearRegression    # 선형 회귀 다루기\n",
    "import matplotlib.pyplot as plt"
   ]
  },
  {
   "cell_type": "markdown",
   "id": "9f437638-14f6-48dc-804b-aa3fe40b0d9c",
   "metadata": {},
   "source": [
    "### 01. 보스터 데이터셋 불러오기 > csv 로 저장하기"
   ]
  },
  {
   "cell_type": "code",
   "execution_count": 24,
   "id": "e9a697f1-9bed-4c0b-ab2d-504c6949d920",
   "metadata": {
    "collapsed": true,
    "jupyter": {
     "outputs_hidden": true
    },
    "tags": []
   },
   "outputs": [
    {
     "name": "stderr",
     "output_type": "stream",
     "text": [
      "C:\\Python39\\lib\\site-packages\\sklearn\\utils\\deprecation.py:87: FutureWarning: Function load_boston is deprecated; `load_boston` is deprecated in 1.0 and will be removed in 1.2.\n",
      "\n",
      "    The Boston housing prices dataset has an ethical problem. You can refer to\n",
      "    the documentation of this function for further details.\n",
      "\n",
      "    The scikit-learn maintainers therefore strongly discourage the use of this\n",
      "    dataset unless the purpose of the code is to study and educate about\n",
      "    ethical issues in data science and machine learning.\n",
      "\n",
      "    In this special case, you can fetch the dataset from the original\n",
      "    source::\n",
      "\n",
      "        import pandas as pd\n",
      "        import numpy as np\n",
      "\n",
      "\n",
      "        data_url = \"http://lib.stat.cmu.edu/datasets/boston\"\n",
      "        raw_df = pd.read_csv(data_url, sep=\"\\s+\", skiprows=22, header=None)\n",
      "        data = np.hstack([raw_df.values[::2, :], raw_df.values[1::2, :2]])\n",
      "        target = raw_df.values[1::2, 2]\n",
      "\n",
      "    Alternative datasets include the California housing dataset (i.e.\n",
      "    :func:`~sklearn.datasets.fetch_california_housing`) and the Ames housing\n",
      "    dataset. You can load the datasets as follows::\n",
      "\n",
      "        from sklearn.datasets import fetch_california_housing\n",
      "        housing = fetch_california_housing()\n",
      "\n",
      "    for the California housing dataset and::\n",
      "\n",
      "        from sklearn.datasets import fetch_openml\n",
      "        housing = fetch_openml(name=\"house_prices\", as_frame=True)\n",
      "\n",
      "    for the Ames housing dataset.\n",
      "    \n",
      "  warnings.warn(msg, category=FutureWarning)\n"
     ]
    }
   ],
   "source": [
    "data = load_boston()\n",
    "df = pd.DataFrame(data['data'], columns=data['feature_names'])\n",
    "df['MEDV'] = data['target']\n",
    "df.to_csv('data/A01_보스턴_주택_가격_예측.csv', index=False)"
   ]
  },
  {
   "cell_type": "markdown",
   "id": "8bfcde08-f833-466b-877a-6492025184f3",
   "metadata": {},
   "source": [
    "### 02. 판다스 데이터 프레임으로 보기"
   ]
  },
  {
   "cell_type": "code",
   "execution_count": 25,
   "id": "a4aa7dad-6f3e-41e0-bf94-b985d959c2ca",
   "metadata": {},
   "outputs": [
    {
     "data": {
      "text/html": [
       "<div>\n",
       "<style scoped>\n",
       "    .dataframe tbody tr th:only-of-type {\n",
       "        vertical-align: middle;\n",
       "    }\n",
       "\n",
       "    .dataframe tbody tr th {\n",
       "        vertical-align: top;\n",
       "    }\n",
       "\n",
       "    .dataframe thead th {\n",
       "        text-align: right;\n",
       "    }\n",
       "</style>\n",
       "<table border=\"1\" class=\"dataframe\">\n",
       "  <thead>\n",
       "    <tr style=\"text-align: right;\">\n",
       "      <th></th>\n",
       "      <th>CRIM</th>\n",
       "      <th>범죄율</th>\n",
       "    </tr>\n",
       "  </thead>\n",
       "  <tbody>\n",
       "    <tr>\n",
       "      <th>0</th>\n",
       "      <td>ZN</td>\n",
       "      <td>25,000평방 피트 당 주거용 토지의 비율</td>\n",
       "    </tr>\n",
       "    <tr>\n",
       "      <th>1</th>\n",
       "      <td>INDUS</td>\n",
       "      <td>비소매(non-retail) 비즈니스 면적 비율</td>\n",
       "    </tr>\n",
       "    <tr>\n",
       "      <th>2</th>\n",
       "      <td>CHAS</td>\n",
       "      <td>찰스 강 더미 변수 (통로가 하천을 향하면 1, 그렇지 않으면 0)</td>\n",
       "    </tr>\n",
       "    <tr>\n",
       "      <th>3</th>\n",
       "      <td>NOX</td>\n",
       "      <td>산화 질소 농도 (천만 분의 일)</td>\n",
       "    </tr>\n",
       "    <tr>\n",
       "      <th>4</th>\n",
       "      <td>RM</td>\n",
       "      <td>주거 당 평균 객실 수</td>\n",
       "    </tr>\n",
       "    <tr>\n",
       "      <th>5</th>\n",
       "      <td>AGE</td>\n",
       "      <td>1940 년 이전에 건축된 자가 소유 점유 비율</td>\n",
       "    </tr>\n",
       "    <tr>\n",
       "      <th>6</th>\n",
       "      <td>DIS</td>\n",
       "      <td>5 개의 보스턴 고용 센터까지의 가중 거리</td>\n",
       "    </tr>\n",
       "    <tr>\n",
       "      <th>7</th>\n",
       "      <td>RAD</td>\n",
       "      <td>고속도로 접근성 지수</td>\n",
       "    </tr>\n",
       "    <tr>\n",
       "      <th>8</th>\n",
       "      <td>TAX</td>\n",
       "      <td>10,000 달러 당 전체 가치 재산 세율</td>\n",
       "    </tr>\n",
       "    <tr>\n",
       "      <th>9</th>\n",
       "      <td>PTRATIO</td>\n",
       "      <td>도시 별 학생-교사 비율</td>\n",
       "    </tr>\n",
       "    <tr>\n",
       "      <th>10</th>\n",
       "      <td>B</td>\n",
       "      <td>1000 (Bk-0.63) ^ 2 여기서 Bk는 도시 별 검정 비율입니다.</td>\n",
       "    </tr>\n",
       "    <tr>\n",
       "      <th>11</th>\n",
       "      <td>LSTAT</td>\n",
       "      <td>낮은 지위에 있는 인구의 비율(%)</td>\n",
       "    </tr>\n",
       "    <tr>\n",
       "      <th>12</th>\n",
       "      <td>MEDV</td>\n",
       "      <td>자가 주택의 중앙값 (1,000 달러 단위)</td>\n",
       "    </tr>\n",
       "  </tbody>\n",
       "</table>\n",
       "</div>"
      ],
      "text/plain": [
       "       CRIM                                        범죄율\n",
       "0        ZN                   25,000평방 피트 당 주거용 토지의 비율\n",
       "1     INDUS                 비소매(non-retail) 비즈니스 면적 비율\n",
       "2      CHAS      찰스 강 더미 변수 (통로가 하천을 향하면 1, 그렇지 않으면 0)\n",
       "3       NOX                         산화 질소 농도 (천만 분의 일)\n",
       "4        RM                               주거 당 평균 객실 수\n",
       "5       AGE                 1940 년 이전에 건축된 자가 소유 점유 비율\n",
       "6       DIS                    5 개의 보스턴 고용 센터까지의 가중 거리\n",
       "7       RAD                                고속도로 접근성 지수\n",
       "8       TAX                    10,000 달러 당 전체 가치 재산 세율\n",
       "9   PTRATIO                              도시 별 학생-교사 비율\n",
       "10        B  1000 (Bk-0.63) ^ 2 여기서 Bk는 도시 별 검정 비율입니다.\n",
       "11    LSTAT                        낮은 지위에 있는 인구의 비율(%)\n",
       "12     MEDV                   자가 주택의 중앙값 (1,000 달러 단위)"
      ]
     },
     "metadata": {},
     "output_type": "display_data"
    },
    {
     "data": {
      "text/html": [
       "<div>\n",
       "<style scoped>\n",
       "    .dataframe tbody tr th:only-of-type {\n",
       "        vertical-align: middle;\n",
       "    }\n",
       "\n",
       "    .dataframe tbody tr th {\n",
       "        vertical-align: top;\n",
       "    }\n",
       "\n",
       "    .dataframe thead th {\n",
       "        text-align: right;\n",
       "    }\n",
       "</style>\n",
       "<table border=\"1\" class=\"dataframe\">\n",
       "  <thead>\n",
       "    <tr style=\"text-align: right;\">\n",
       "      <th></th>\n",
       "      <th>CRIM</th>\n",
       "      <th>ZN</th>\n",
       "      <th>INDUS</th>\n",
       "      <th>CHAS</th>\n",
       "      <th>NOX</th>\n",
       "      <th>RM</th>\n",
       "      <th>AGE</th>\n",
       "      <th>DIS</th>\n",
       "      <th>RAD</th>\n",
       "      <th>TAX</th>\n",
       "      <th>PTRATIO</th>\n",
       "      <th>B</th>\n",
       "      <th>LSTAT</th>\n",
       "      <th>MEDV</th>\n",
       "    </tr>\n",
       "  </thead>\n",
       "  <tbody>\n",
       "    <tr>\n",
       "      <th>0</th>\n",
       "      <td>0.00632</td>\n",
       "      <td>18.0</td>\n",
       "      <td>2.31</td>\n",
       "      <td>0.0</td>\n",
       "      <td>0.538</td>\n",
       "      <td>6.575</td>\n",
       "      <td>65.2</td>\n",
       "      <td>4.0900</td>\n",
       "      <td>1.0</td>\n",
       "      <td>296.0</td>\n",
       "      <td>15.3</td>\n",
       "      <td>396.9</td>\n",
       "      <td>4.98</td>\n",
       "      <td>24.0</td>\n",
       "    </tr>\n",
       "    <tr>\n",
       "      <th>1</th>\n",
       "      <td>0.02731</td>\n",
       "      <td>0.0</td>\n",
       "      <td>7.07</td>\n",
       "      <td>0.0</td>\n",
       "      <td>0.469</td>\n",
       "      <td>6.421</td>\n",
       "      <td>78.9</td>\n",
       "      <td>4.9671</td>\n",
       "      <td>2.0</td>\n",
       "      <td>242.0</td>\n",
       "      <td>17.8</td>\n",
       "      <td>396.9</td>\n",
       "      <td>9.14</td>\n",
       "      <td>21.6</td>\n",
       "    </tr>\n",
       "  </tbody>\n",
       "</table>\n",
       "</div>"
      ],
      "text/plain": [
       "      CRIM    ZN  INDUS  CHAS    NOX     RM   AGE     DIS  RAD    TAX  \\\n",
       "0  0.00632  18.0   2.31   0.0  0.538  6.575  65.2  4.0900  1.0  296.0   \n",
       "1  0.02731   0.0   7.07   0.0  0.469  6.421  78.9  4.9671  2.0  242.0   \n",
       "\n",
       "   PTRATIO      B  LSTAT  MEDV  \n",
       "0     15.3  396.9   4.98  24.0  \n",
       "1     17.8  396.9   9.14  21.6  "
      ]
     },
     "execution_count": 25,
     "metadata": {},
     "output_type": "execute_result"
    }
   ],
   "source": [
    "hd = pd.read_table('data/A01_보스턴_테이블_구조.csv')  # 구분자: tab\n",
    "df = pd.read_csv('data/tables/A01_보스턴_주택_가격_예측.csv') # 구분자: ,\n",
    "display(hd)\n",
    "df.head(2)"
   ]
  },
  {
   "cell_type": "markdown",
   "id": "50c2d727-eb32-49d7-96be-96ace774752a",
   "metadata": {},
   "source": [
    "### 03. 훈련(Train) 셋과 테스트(Test) 셋으로 나누기"
   ]
  },
  {
   "cell_type": "code",
   "execution_count": 33,
   "id": "9492169f-53c5-4469-9dbe-d6927fba520c",
   "metadata": {},
   "outputs": [
    {
     "data": {
      "text/plain": [
       "((379, 13), (127, 13), (379,), (127,))"
      ]
     },
     "execution_count": 33,
     "metadata": {},
     "output_type": "execute_result"
    }
   ],
   "source": [
    "x_train, x_test, y_train, y_test = train_test_split(df.drop(labels=['MEDV'], axis=1), df['MEDV'])\n",
    "\n",
    "x_train.shape, x_test.shape, y_train.shape, y_test.shape"
   ]
  },
  {
   "cell_type": "markdown",
   "id": "77432ebe-2955-4bc8-8532-d948cf07b0ec",
   "metadata": {},
   "source": [
    "### 04. 선형 회구(Linear Regrssion) 모델 학습 시키기"
   ]
  },
  {
   "cell_type": "code",
   "execution_count": 44,
   "id": "5c6048ef-47f1-41bd-96c3-8209ed305689",
   "metadata": {},
   "outputs": [
    {
     "data": {
      "text/plain": [
       "[<matplotlib.lines.Line2D at 0x268e0b925e0>]"
      ]
     },
     "execution_count": 44,
     "metadata": {},
     "output_type": "execute_result"
    },
    {
     "data": {
      "image/png": "[encoded data removed]",
      "text/plain": [
       "<Figure size 432x288 with 1 Axes>"
      ]
     },
     "metadata": {
      "needs_background": "light"
     },
     "output_type": "display_data"
    }
   ],
   "source": [
    "# LinearRegression 모델을 선정\n",
    "model = LinearRegression(n_jobs = -1) #n_jobs = -1은 현재 컴퓨터의 CPU 코어를 모두 사용한다는 뜻\n",
    "# 모델 학습\n",
    "model.fit(x_train, y_train)\n",
    "# 학습된 모델에 x_test 데이터 입력\n",
    "pred = model.predict(x_test)\n",
    "\n",
    "# plt.plot(y_train)\n",
    "# plt.plot(x_train)\n",
    "# plt.plot(x_test)\n",
    "plt.plot(pred)"
   ]
  },
  {
   "cell_type": "code",
   "execution_count": 45,
   "id": "bdbb8eab-0059-43fe-8fd5-23af6b61a69f",
   "metadata": {},
   "outputs": [
    {
     "data": {
      "text/html": [
       "<div>\n",
       "<style scoped>\n",
       "    .dataframe tbody tr th:only-of-type {\n",
       "        vertical-align: middle;\n",
       "    }\n",
       "\n",
       "    .dataframe tbody tr th {\n",
       "        vertical-align: top;\n",
       "    }\n",
       "\n",
       "    .dataframe thead th {\n",
       "        text-align: right;\n",
       "    }\n",
       "</style>\n",
       "<table border=\"1\" class=\"dataframe\">\n",
       "  <thead>\n",
       "    <tr style=\"text-align: right;\">\n",
       "      <th></th>\n",
       "      <th>0</th>\n",
       "    </tr>\n",
       "  </thead>\n",
       "  <tbody>\n",
       "    <tr>\n",
       "      <th>2021-01-01</th>\n",
       "      <td>500</td>\n",
       "    </tr>\n",
       "    <tr>\n",
       "      <th>2021-02-02</th>\n",
       "      <td>1000</td>\n",
       "    </tr>\n",
       "    <tr>\n",
       "      <th>2021-03-03</th>\n",
       "      <td>2000</td>\n",
       "    </tr>\n",
       "    <tr>\n",
       "      <th>2021-04-04</th>\n",
       "      <td>4000</td>\n",
       "    </tr>\n",
       "  </tbody>\n",
       "</table>\n",
       "</div>"
      ],
      "text/plain": [
       "               0\n",
       "2021-01-01   500\n",
       "2021-02-02  1000\n",
       "2021-03-03  2000\n",
       "2021-04-04  4000"
      ]
     },
     "execution_count": 45,
     "metadata": {},
     "output_type": "execute_result"
    }
   ],
   "source": [
    "price = pd.Series([500, 1000, 2000, 4000], index =['2021-01-01', '2021-02-02', '2021-03-03', '2021-04-04'])\n",
    "pd.DataFrame(price)"
   ]
  }
 ],
 "metadata": {
  "kernelspec": {
   "display_name": "Python 3 (ipykernel)",
   "language": "python",
   "name": "python3"
  },
  "language_info": {
   "codemirror_mode": {
    "name": "ipython",
    "version": 3
   },
   "file_extension": ".py",
   "mimetype": "text/x-python",
   "name": "python",
   "nbconvert_exporter": "python",
   "pygments_lexer": "ipython3",
   "version": "3.9.10"
  }
 },
 "nbformat": 4,
 "nbformat_minor": 5
}
