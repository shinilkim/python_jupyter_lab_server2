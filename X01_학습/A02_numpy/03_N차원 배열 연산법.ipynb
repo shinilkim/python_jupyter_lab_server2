{
 "cells": [
  {
   "cell_type": "code",
   "execution_count": 2,
   "id": "f052273f-eeb7-463f-94a6-3cf80f27a425",
   "metadata": {},
   "outputs": [],
   "source": [
    "import numpy as np\n",
    "import time"
   ]
  },
  {
   "cell_type": "markdown",
   "id": "097281c9-a018-4171-ac0a-4074d3f214bd",
   "metadata": {},
   "source": [
    "#### 3.1. 배열의 연산1: 사칙연산, 제곱, 제곱근, 몫, 나머지"
   ]
  },
  {
   "cell_type": "code",
   "execution_count": null,
   "id": "6577f537-b2d4-4e4c-8279-17d89d3172dd",
   "metadata": {
    "tags": []
   },
   "outputs": [],
   "source": [
    "arr1 = np.array([[1, 2, 3],\n",
    "                 [4, 5, 6],\n",
    "                 [7, 8, 9]])\n",
    "arr2 = np.array([[1, 1, 1],\n",
    "                 [2, 2, 2],\n",
    "                 [3, 3, 3]])\n",
    "print(\"1. 덧셈\")\n",
    "print(arr1 + arr2) # np.add(arr1, arr2)\n",
    "print(\"2. 뺄셈\")\n",
    "print(arr1 - arr2) # np.subtract(arr1, arr2)\n",
    "print(\"3. 곱셈\")\n",
    "print(arr1 * arr2) # np.multiply(arr1, arr2)\n",
    "print(\"4. 나누셈\")\n",
    "print(arr1 / arr2) # np.divide(arr1, arr2)\n",
    "print(\"5. 제곱\")\n",
    "print(arr1 **2 ) # np.square(arr1)\n",
    "print(\"6. 제곱근\")\n",
    "print(np.sqrt(arr1))\n",
    "print(\"7. 몫\")\n",
    "print(arr1 // 2)\n",
    "print(\"8. 나머지\")\n",
    "print(arr1 % 2)"
   ]
  },
  {
   "cell_type": "markdown",
   "id": "fa0a4292-ad65-4d24-9017-ba00999da4ba",
   "metadata": {},
   "source": [
    "#### 3.2. 배열의 연산2: 내적(dot product), 절댓값, 올림, 내림, 반올림, 버림"
   ]
  },
  {
   "cell_type": "code",
   "execution_count": null,
   "id": "e697a780-60e5-4f07-b92c-517b3a57fb4d",
   "metadata": {
    "tags": []
   },
   "outputs": [],
   "source": [
    "print(\"1. 1차원 행렬\")\n",
    "arr1 = np.array([1,2,3])\n",
    "arr2 = np.array([2,3,4])\n",
    "print(np.dot(arr1, arr2))\n",
    "\n",
    "print(\"2. 2차원 행렬\")\n",
    "'''\n",
    "[[a, b], [[e, f]         [[ae + bg, af + bh]\n",
    " [c, d],  [g, h]]    =>   [ce + dg, cf + dh]\n",
    "'''\n",
    "arr1 = np.array([[1, 2],\n",
    "                 [4, 5]])\n",
    "arr2 = np.array([[1, 2],\n",
    "                 [0, 3]])\n",
    "print(np.dot(arr1, arr2))\n",
    "\n",
    "print(\"3. 절댓값\")\n",
    "arr1 = np.array([[ 1, -2],\n",
    "                [-4,  5]])\n",
    "print(np.abs(arr1))\n",
    "\n",
    "print(\"4. 올림\")\n",
    "arr1 = np.array([[1.1, -2.8],\n",
    "                 [-4.2, 5.7]])\n",
    "print(np.ceil(arr1))\n",
    "\n",
    "print(\"5. 내림\")\n",
    "print(np.floor(arr1))\n",
    "\n",
    "print(\"6. 반올림\")\n",
    "print(np.round(arr1))\n",
    "\n",
    "print(\"7. 버림\")\n",
    "print(np.trunc(arr1))"
   ]
  },
  {
   "cell_type": "markdown",
   "id": "a3629b66-54bc-4122-a57b-89d5be99978f",
   "metadata": {},
   "source": [
    "#### 3.3. 배열의 연산3: min, max, sum, mean, std, cumsum, median"
   ]
  },
  {
   "cell_type": "code",
   "execution_count": null,
   "id": "88fe4f44-9721-40a9-8418-72b7e612764d",
   "metadata": {},
   "outputs": [],
   "source": [
    "print(\"1. min 작은값\")\n",
    "arr = np.array([[1, 2, 3],\n",
    "                 [4, 5, 6],\n",
    "                 [7, 8, 9]])\n",
    "print(\"min: \", np.min(arr), arr.min())\n",
    "print(\"min: 열\", arr.min(axis=0)) # 열마다 작은값\n",
    "print(\"min: 행\", arr.min(axis=1)) # 행마다 작은값\n",
    "\n",
    "print(\"\\n2. max 큰값\")\n",
    "print(\"max: \", np.max(arr), arr.max())\n",
    "print(\"max: 열\", arr.max(axis=0)) # 열마다 큰값\n",
    "print(\"max: 행\", arr.max(axis=1)) # 행마다 큰값\n",
    "\n",
    "print(\"\\n3. sum 합\")\n",
    "print(\"sum: \", np.sum(arr), arr.sum())\n",
    "print(\"sum: 열\", arr.sum(axis=0)) # 열 sum\n",
    "print(\"sum 행: \", arr.sum(axis=1)) # 행 sum\n",
    "\n",
    "print(\"\\n4. mean 평균값\")\n",
    "print(\"mean: \", np.mean(arr), arr.mean())\n",
    "print(\"mean: 열\", arr.mean(axis=0)) # 열 mean\n",
    "print(\"mean 행: \", arr.mean(axis=1)) # 행 mean\n",
    "\n",
    "print(\"\\n5. std 표준편차(통계집단의 분배정도를 나타내는 수치)\")\n",
    "print(\"std: \", np.std(arr), arr.std())\n",
    "print(\"std: 열\", arr.std(axis=0)) # 열 std\n",
    "print(\"std 행: \", arr.std(axis=1)) # 행 std\n",
    "\n",
    "print(\"\\n6. cumsum 누적값\")\n",
    "print(\"cumsum: \", np.cumsum(arr), arr.cumsum())\n",
    "print(\"cumsum: 열\", arr.cumsum(axis=0)) # 열 cumsum\n",
    "print(\"cumsum 행: \", arr.cumsum(axis=1)) # 행 cumsum\n",
    "\n",
    "print(\"\\n7. median 정렬 후 중앙값\")\n",
    "print(\"median: \", np.median(arr))\n",
    "print(\"median: 열\", np.median(arr, axis=0)) # 열 median\n",
    "print(\"median 행: \", np.median(arr, axis=1)) # 행 median"
   ]
  },
  {
   "cell_type": "markdown",
   "id": "7335fbe8-35e9-4071-8ad0-18786b7d9270",
   "metadata": {},
   "source": [
    "#### 3.4. 배열의 연산4: 비교 연산/삼각 함수"
   ]
  },
  {
   "cell_type": "code",
   "execution_count": null,
   "id": "34595d9a-f764-4ebb-97f9-90836d30d30f",
   "metadata": {},
   "outputs": [],
   "source": [
    "print(\"1. 비교 연산\")\n",
    "arr1 = np.array([[1, 2, 3],\n",
    "                 [4, 5, 6]])\n",
    "arr2 = np.array([[1, 0, 3],\n",
    "                 [4, -1, 6]])\n",
    "print(arr1 == arr2)\n",
    "print(arr1 > arr2)\n",
    "print(\"arr1 / arr2 값 동일여부: \",np.array_equal(arr1, arr2))\n",
    "\n",
    "print(\"2. 삼각함수\")\n",
    "print(\"sin: \",np.sin(arr1))\n",
    "print(\"cos: \",np.cos(arr1))\n",
    "print(\"tan: \",np.tan(arr1))\n",
    "print(\"pi: \",np.pi)"
   ]
  },
  {
   "cell_type": "markdown",
   "id": "867424b0-4b2f-4ed3-abbf-8f50d5a3897b",
   "metadata": {},
   "source": [
    "#### 3.5. 브로드캐스팅(Broadcasting)"
   ]
  },
  {
   "cell_type": "code",
   "execution_count": null,
   "id": "df0dfe89-b3f4-4068-b9c4-734fe7cd8b5d",
   "metadata": {},
   "outputs": [],
   "source": [
    "arr1 = np.array([[0, 1, 2],\n",
    "                 [1, 1, 1],\n",
    "                 [2, 2, 2]])\n",
    "arr2 = np.array([[5, 6, 7]])\n",
    "print(\"arr1 + arr2: \\n\",arr1 + arr2)\n",
    "\n",
    "arr1 = np.array([[1, 1, 1, ]])\n",
    "arr2 = np.array([1])\n",
    "print(\"\\narr1 + arr2: \\n\",arr1 + arr2)"
   ]
  },
  {
   "cell_type": "markdown",
   "id": "08aaa835-2367-496d-b036-7208b9c90c62",
   "metadata": {},
   "source": [
    "#### 3.6. 벡터 연산의 장점"
   ]
  },
  {
   "cell_type": "code",
   "execution_count": 3,
   "id": "96787e71-5ddd-4a0c-a1b9-1c3830258e53",
   "metadata": {},
   "outputs": [
    {
     "name": "stderr",
     "output_type": "stream",
     "text": [
      "C:\\Users\\shini\\AppData\\Local\\Temp/ipykernel_11812/3255589537.py:5: RuntimeWarning: overflow encountered in long_scalars\n",
      "  sum += i\n"
     ]
    },
    {
     "name": "stdout",
     "output_type": "stream",
     "text": [
      "일반 연산:  -2143389439 11.914039850234985 초\n",
      "벡터 연산 :  -2143389439 0.02900242805480957 초\n"
     ]
    }
   ],
   "source": [
    "sum = 0\n",
    "arr1 = np.arange(39999999)\n",
    "before = time.time()\n",
    "for i in arr1:\n",
    "    sum += i\n",
    "after = time.time()\n",
    "print(\"일반 연산 : \",sum,  after-before,'초')\n",
    "\n",
    "# 벡터 연산\n",
    "sum = 0\n",
    "before = time.time()\n",
    "sum = np.sum(arr1)\n",
    "after = time.time()\n",
    "print(\"벡터 연산 : \",sum,  after-before,'초')"
   ]
  },
  {
   "cell_type": "code",
   "execution_count": 5,
   "id": "3e9ef1d9-a48d-49d4-9a75-da9727bcbc56",
   "metadata": {},
   "outputs": [
    {
     "name": "stderr",
     "output_type": "stream",
     "text": [
      "C:\\Users\\shini\\AppData\\Local\\Temp/ipykernel_11812/290790430.py:6: RuntimeWarning: overflow encountered in long_scalars\n",
      "  sum += i * j\n"
     ]
    },
    {
     "name": "stdout",
     "output_type": "stream",
     "text": [
      "일반 연산:  927414911 30.21810245513916 초\n",
      "벡터 연산 :  927414911 0.01499176025390625 초\n"
     ]
    }
   ],
   "source": [
    "sum = 0\n",
    "arr1 = np.arange(11999999)\n",
    "arr2 = np.arange(11999999)\n",
    "before = time.time()\n",
    "for a1, a2 in zip(arr1, arr2): # zip 배열을 묶어준다\n",
    "    sum += a1 * a2\n",
    "after = time.time()\n",
    "print(\"일반 연산 : \",sum,  after-before,'초')\n",
    "\n",
    "# 벡터 연산\n",
    "sum = 0\n",
    "before = time.time()\n",
    "sum = np.dot(arr1, arr2)\n",
    "after = time.time()\n",
    "print(\"벡터 연산 : \",sum,  after-before,'초')"
   ]
  }
 ],
 "metadata": {
  "kernelspec": {
   "display_name": "Python 3 (ipykernel)",
   "language": "python",
   "name": "python3"
  },
  "language_info": {
   "codemirror_mode": {
    "name": "ipython",
    "version": 3
   },
   "file_extension": ".py",
   "mimetype": "text/x-python",
   "name": "python",
   "nbconvert_exporter": "python",
   "pygments_lexer": "ipython3",
   "version": "3.9.1"
  }
 },
 "nbformat": 4,
 "nbformat_minor": 5
}
