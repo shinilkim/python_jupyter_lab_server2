{
 "cells": [
  {
   "cell_type": "code",
   "execution_count": 1,
   "id": "547c3c47-f0af-43d6-8fd1-04c080848322",
   "metadata": {},
   "outputs": [],
   "source": [
    "import numpy as np"
   ]
  },
  {
   "cell_type": "markdown",
   "id": "91f8794e-9115-4053-be7a-9b5e6de713d3",
   "metadata": {},
   "source": [
    "#### 5.1. 배열의 형태 변경1: reshape()"
   ]
  },
  {
   "cell_type": "code",
   "execution_count": 11,
   "id": "21439749-faa8-4270-8a9b-80ad83a31e7e",
   "metadata": {},
   "outputs": [
    {
     "name": "stdout",
     "output_type": "stream",
     "text": [
      "1 차원 배열:  [ 0  1  2  3  4  5  6  7  8  9 10 11]\n",
      "2 차원 배열: \n",
      " [[ 0  1  2  3]\n",
      " [ 4  5  6  7]\n",
      " [ 8  9 10 11]]\n",
      "4 차원 배열: \n",
      " [[[[ 0  1  2]]\n",
      "\n",
      "  [[ 3  4  5]]]\n",
      "\n",
      "\n",
      " [[[ 6  7  8]]\n",
      "\n",
      "  [[ 9 10 11]]]]\n"
     ]
    }
   ],
   "source": [
    "arr = np.arange(12)\n",
    "print(arr.ndim, \"차원 배열: \",arr)\n",
    "\n",
    "arr = arr.reshape(3,4)\n",
    "print(arr.ndim, \"차원 배열: \\n\",arr)\n",
    "\n",
    "arr = arr.reshape(2, 2, 1, 3)\n",
    "print(arr.ndim, \"차원 배열: \\n\",arr)"
   ]
  },
  {
   "cell_type": "markdown",
   "id": "4545b81c-7a5a-4ee8-b76a-4c2e9bd2ae30",
   "metadata": {},
   "source": [
    "#### 5.2. 배열의 형태 변경2: resize(), ravel()"
   ]
  },
  {
   "cell_type": "code",
   "execution_count": 18,
   "id": "626cdc3c-2eec-4c97-b0ef-4534d5a93140",
   "metadata": {},
   "outputs": [
    {
     "name": "stdout",
     "output_type": "stream",
     "text": [
      "1. 원본:  [ 1  2  3  4  5  6  7  8  9 10 11 12]\n",
      "\n",
      "2. 차원 변경: \n",
      " [[ 1  2  3  4]\n",
      " [ 5  6  7  8]\n",
      " [ 9 10 11 12]]\n",
      "\n",
      "3. 1차원으로 변경:  [ 1  2  3  4  5  6  7  8  9 10 11 12]\n"
     ]
    }
   ],
   "source": [
    "arr = np.arange(1, 13)\n",
    "print(\"1. 원본: \",arr)\n",
    "\n",
    "arr.resize(3, 4)\n",
    "print(\"\\n2. 차원 변경: \\n\",arr)\n",
    "\n",
    "arr = arr.ravel()\n",
    "print(\"\\n3. 1차원으로 변경: \",arr)"
   ]
  },
  {
   "cell_type": "markdown",
   "id": "2c141643-b6e4-4504-a78e-162bb8b02ce3",
   "metadata": {},
   "source": [
    "#### 5.3. 배열의 형태 변경3: expand_dims(), squeeze()"
   ]
  },
  {
   "cell_type": "code",
   "execution_count": 43,
   "id": "effe47a2-b18e-4ff6-a4cc-3340d2822c9d",
   "metadata": {},
   "outputs": [
    {
     "name": "stdout",
     "output_type": "stream",
     "text": [
      "# expand_dims() : 차원 확장\n",
      "1. 원본:  [1 2 3] (3,)\n",
      "\n",
      "2. 열 차원 추가:  [[1 2 3]] (1, 3)\n",
      "\n",
      "3. 행 차원 추가:  \n",
      " [[1]\n",
      " [2]\n",
      " [3]] (3, 1)\n",
      "\n",
      "# squeeze() : 차원 축소\n",
      "4.  2 차원:  [[1 2]] (1, 2)\n",
      "\n",
      "5.  1 차원:  [1 2] (2,)\n",
      "\n",
      "6.  3 차원:  [[[1 2 3]]] (1, 1, 3)\n",
      "\n",
      "7.  1 차원:  [1 2 3] (3,)\n"
     ]
    }
   ],
   "source": [
    "print(\"# expand_dims() : 차원 확장\")\n",
    "arr = np.array([1,2,3])\n",
    "print(\"1. 원본: \",arr, arr.shape)\n",
    "\n",
    "arr = np.expand_dims(arr, axis=0)\n",
    "print(\"\\n2. 열 차원 추가: \",arr, arr.shape)\n",
    "\n",
    "arr = np.array([1,2,3])\n",
    "arr = np.expand_dims(arr, axis=1)\n",
    "print(\"\\n3. 행 차원 추가:  \\n\",arr, arr.shape)\n",
    "\n",
    "print(\"\\n# squeeze() : 차원 축소\")\n",
    "arr = np.array([[1,2]])\n",
    "print(\"4. \", arr.ndim,\"차원: \",arr, arr.shape)\n",
    "\n",
    "arr = np.squeeze(arr, axis=0)\n",
    "print(\"\\n5. \", arr.ndim, \"차원: \", arr, arr.shape)\n",
    "\n",
    "arr = np.array([[[1,2,3]]])\n",
    "print(\"\\n6. \", arr.ndim,\"차원: \",arr, arr.shape)\n",
    "\n",
    "arr = np.squeeze(arr)\n",
    "print(\"\\n7. \", arr.ndim,\"차원: \",arr, arr.shape)"
   ]
  },
  {
   "cell_type": "markdown",
   "id": "6654858e-a914-49da-8609-d43b8e6accf8",
   "metadata": {},
   "source": [
    "#### 5.4. 전치행렬(Transpose Matrix)"
   ]
  },
  {
   "cell_type": "code",
   "execution_count": 61,
   "id": "80ef2239-2986-4c69-8899-c4aec28c4234",
   "metadata": {},
   "outputs": [
    {
     "name": "stdout",
     "output_type": "stream",
     "text": [
      "[전치 행렬 예제] 행과 열을 교환한다.\n",
      "A B        A C\n",
      "C D   =>   B D\n",
      "\n",
      "1. 예제: \n",
      " [['A' 'C']\n",
      " ['B' 'D']]\n",
      "\n",
      "2. 예제: \n",
      " [['A' 'C' 'E']\n",
      " ['B' 'D' 'F']] \n",
      "\n",
      "\n",
      "[[1 2]\n",
      " [3 4]\n",
      " [5 6]]\n",
      "[[2 2]\n",
      " [2 2]\n",
      " [2 2]]\n",
      "\n",
      "3. 행렬 곱: \n",
      " [[ 6  6  6]\n",
      " [14 14 14]\n",
      " [22 22 22]]\n"
     ]
    }
   ],
   "source": [
    "print(\"\"\"[전치 행렬 예제] 행과 열을 교환한다.\n",
    "A B        A C\n",
    "C D   =>   B D\n",
    "\"\"\")\n",
    "arr = np.array([['A', 'B'],\n",
    "                ['C', 'D']])\n",
    "print(\"1. 예제: \\n\", arr.T)\n",
    "\n",
    "arr = np.array([['A', 'B'],\n",
    "                ['C', 'D'],\n",
    "                ['E', 'F']])\n",
    "print(\"\\n2. 예제: \\n\",arr.T,\"\\n\\n\")\n",
    "\n",
    "# 행렬 곱\n",
    "arr1 = np.array([[1, 2],\n",
    "                [3, 4],\n",
    "                [5, 6]]);\n",
    "arr2 = np.full((3,2), 2)\n",
    "# print(arr1.dot(arr2)) # 오류: 행과 열이 일치해야 한다.\n",
    "print(arr1)\n",
    "print(arr2)\n",
    "print(\"\\n3. 행렬 곱: \\n\",(arr1).dot(arr2.T))"
   ]
  }
 ],
 "metadata": {
  "kernelspec": {
   "display_name": "Python 3 (ipykernel)",
   "language": "python",
   "name": "python3"
  },
  "language_info": {
   "codemirror_mode": {
    "name": "ipython",
    "version": 3
   },
   "file_extension": ".py",
   "mimetype": "text/x-python",
   "name": "python",
   "nbconvert_exporter": "python",
   "pygments_lexer": "ipython3",
   "version": "3.9.1"
  }
 },
 "nbformat": 4,
 "nbformat_minor": 5
}
