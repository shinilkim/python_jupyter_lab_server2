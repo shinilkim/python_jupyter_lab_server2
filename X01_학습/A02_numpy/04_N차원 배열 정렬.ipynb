{
 "cells": [
  {
   "cell_type": "code",
   "execution_count": 1,
   "id": "df8eda21-08e1-421e-b613-099cfa7d304e",
   "metadata": {},
   "outputs": [],
   "source": [
    "import numpy as np"
   ]
  },
  {
   "cell_type": "markdown",
   "id": "18f6fc4e-e868-4355-bac2-3f40b0f6ca20",
   "metadata": {},
   "source": [
    "#### 4.1. 1차원 배열의 정렬"
   ]
  },
  {
   "cell_type": "code",
   "execution_count": 7,
   "id": "9c744db7-b7fe-4626-a067-093c1d1dc7d5",
   "metadata": {},
   "outputs": [
    {
     "name": "stdout",
     "output_type": "stream",
     "text": [
      "1. 원본    :  [8 2 0 2 0 1 7 0 0 5]\n",
      "2. 올림차순:  [0 0 0 0 1 2 2 5 7 8]\n",
      "3. 내림차순:  [8 7 5 2 2 1 0 0 0 0]\n"
     ]
    }
   ],
   "source": [
    "arr = np.random.randint(10, size=10)\n",
    "print(\"1. 원본    : \",arr)\n",
    "print(\"2. 올림차순: \", np.sort(arr))         # 올림차순 정렬\n",
    "print(\"3. 내림차순: \", np.sort(arr)[::-1])   # 내림차순 정렬"
   ]
  },
  {
   "cell_type": "markdown",
   "id": "27b47ff6-bdc0-4245-b1ee-e7a7b8dc9dff",
   "metadata": {},
   "source": [
    "#### 4.2. 2차원 배열의 정렬"
   ]
  },
  {
   "cell_type": "code",
   "execution_count": 22,
   "id": "2bc01993-7ec6-4b20-b059-8259a6176687",
   "metadata": {},
   "outputs": [
    {
     "name": "stdout",
     "output_type": "stream",
     "text": [
      "1. 원본: \n",
      " [[ 3  4  7  5]\n",
      " [13  7 13  7]\n",
      " [ 8 13  0  4]]\n",
      "\n",
      "2. 1차원으로 정렬:  [ 0  3  4  4  5  7  7  7  8 13 13 13]\n",
      "\n",
      "3. 열 기준 정렬: \n",
      " [[ 3  4  0  4]\n",
      " [ 8  7  7  5]\n",
      " [13 13 13  7]]\n",
      "\n",
      "4. 행 기준 정렬: \n",
      " [[ 3  4  5  7]\n",
      " [ 7  7 13 13]\n",
      " [ 0  4  8 13]]\n",
      "\n",
      "5. 1차원으로 정렬:  [10  0  1 11  3  2  5  7  8  4  6  9]\n",
      "\n",
      "6. 열 기준 정렬: \n",
      " [[0 0 2 2]\n",
      " [2 1 0 0]\n",
      " [1 2 1 1]]\n",
      "\n",
      "7. 행 기준 정렬: \n",
      " [[0 1 3 2]\n",
      " [1 3 0 2]\n",
      " [2 3 0 1]]\n"
     ]
    }
   ],
   "source": [
    "arr = np.random.randint(15, size=(3,4))\n",
    "print(\"1. 원본: \\n\",arr)\n",
    "print(\"\\n2. 1차원으로 정렬: \", np.sort(arr, axis=None))\n",
    "print(\"\\n3. 열 기준 정렬: \\n\", np.sort(arr, axis=0))\n",
    "print(\"\\n4. 행 기준 정렬: \\n\", np.sort(arr, axis=1))\n",
    "\n",
    "# argsort : 정렬한 index 반환\n",
    "print(\"\\n5. 1차원으로 정렬: \",np.argsort(arr, axis=None))\n",
    "print(\"\\n6. 열 기준 정렬: \\n\", np.argsort(arr, axis=0))\n",
    "print(\"\\n7. 행 기준 정렬: \\n\", np.argsort(arr, axis=1))"
   ]
  }
 ],
 "metadata": {
  "kernelspec": {
   "display_name": "Python 3 (ipykernel)",
   "language": "python",
   "name": "python3"
  },
  "language_info": {
   "codemirror_mode": {
    "name": "ipython",
    "version": 3
   },
   "file_extension": ".py",
   "mimetype": "text/x-python",
   "name": "python",
   "nbconvert_exporter": "python",
   "pygments_lexer": "ipython3",
   "version": "3.9.1"
  }
 },
 "nbformat": 4,
 "nbformat_minor": 5
}
