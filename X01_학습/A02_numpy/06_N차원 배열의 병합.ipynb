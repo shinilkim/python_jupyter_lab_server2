{
 "cells": [
  {
   "cell_type": "code",
   "execution_count": 3,
   "id": "1e5806b9-44e6-486f-b0ec-6ee56a7a0d88",
   "metadata": {},
   "outputs": [],
   "source": [
    "import numpy as np"
   ]
  },
  {
   "cell_type": "markdown",
   "id": "1bb5c6a7-28f5-4444-a390-103688787722",
   "metadata": {},
   "source": [
    "#### 6.1. 배열에 원소 추가 및 삭제"
   ]
  },
  {
   "cell_type": "code",
   "execution_count": 20,
   "id": "edde5526-3f1e-43f5-89b7-1782be635df0",
   "metadata": {},
   "outputs": [
    {
     "name": "stdout",
     "output_type": "stream",
     "text": [
      "[1차원] 추가 insert\n",
      "1.1. List 예제:  [1, 2, 20, 3, 4]\n",
      "\n",
      "1.2. numpy array 예제:  [ 1  2 50  3  4]\n",
      "\n",
      "[2차원] 추가 insert\n",
      "2.1.  [ 1  2 20  3  4]\n",
      "2.2. \n",
      " [[ 1  2]\n",
      " [ 3  4]\n",
      " [20 20]]\n",
      "2.3. \n",
      " [[ 1  2 20]\n",
      " [ 3  4 20]]\n",
      "\n",
      "[2차원] 삭제 delete\n",
      "3.1. 원본\n",
      " [[1 2]\n",
      " [3 4]]\n",
      "\n",
      "3.2. \n",
      " [1 3 4]\n",
      "\n",
      "3.3. \n",
      " [[1 2]]\n",
      "\n",
      "3.4. \n",
      " [[1]\n",
      " [3]]\n"
     ]
    }
   ],
   "source": [
    "print(\"[1차원] 추가 insert\")\n",
    "arr = [1,2,3,4]\n",
    "arr.insert(2, 20)\n",
    "print(\"1.1. List 예제: \",arr)\n",
    "\n",
    "arr = np.arange(1, 5)\n",
    "arr = np.insert(arr, 2, 50)\n",
    "print(\"\\n1.2. numpy array 예제: \",arr)\n",
    "\n",
    "print(\"\\n[2차원] 추가 insert\")\n",
    "arr = np.arange(1, 5).reshape(2,2)\n",
    "print(\"2.1. \", np.insert(arr, 2, 20, axis=None))\n",
    "print(\"2.2. \\n\", np.insert(arr, 2, 20, axis=0))\n",
    "print(\"2.3. \\n\", np.insert(arr, 2, 20, axis=1))\n",
    "\n",
    "print(\"\\n[2차원] 삭제 delete\")\n",
    "arr = np.arange(1, 5).reshape(2,2)\n",
    "print(\"3.1. 원본\\n\",arr)\n",
    "print(\"\\n3.2. \\n\", np.delete(arr, 1, axis=None))\n",
    "print(\"\\n3.3. \\n\", np.delete(arr, 1, axis=0))\n",
    "print(\"\\n3.4. \\n\", np.delete(arr, 1, axis=1))"
   ]
  },
  {
   "cell_type": "markdown",
   "id": "2429a69a-646e-478f-8c43-27432724a594",
   "metadata": {},
   "source": [
    "#### 6.2. 배열 간의 병합(append, vstack, hstack, concatenate)"
   ]
  },
  {
   "cell_type": "code",
   "execution_count": 54,
   "id": "d563f0e6-51cb-46d6-b9a1-2e1524df835e",
   "metadata": {},
   "outputs": [
    {
     "name": "stdout",
     "output_type": "stream",
     "text": [
      "1.1. append: [1 2 3 4 1 2 3 4]\n",
      "\n",
      "1.2. append(vstack):\n",
      " [[1 2]\n",
      " [3 4]\n",
      " [1 2]\n",
      " [3 4]]\n",
      "\n",
      "1.3. append(hstack):\n",
      " [[1 2 1 2]\n",
      " [3 4 3 4]]\n",
      "\n",
      "2.1. vstack(axis=0):\n",
      " [[1 2]\n",
      " [3 4]\n",
      " [1 2]\n",
      " [3 4]]\n",
      "\n",
      "2.2. hstack(axis=1):\n",
      " [[1 2 1 2]\n",
      " [3 4 3 4]]\n",
      "\n",
      "3.1. concatenate:\n",
      " [1 2 3 4 1 2 3 4]\n",
      "\n",
      "3.2. concatenate:\n",
      " [[1 2]\n",
      " [3 4]\n",
      " [1 2]\n",
      " [3 4]]\n",
      "\n",
      "3.3. concatenate:\n",
      " [[1 2 1 2]\n",
      " [3 4 3 4]]\n"
     ]
    }
   ],
   "source": [
    "arr1 = np.arange(1,5).reshape(2,2)\n",
    "arr2 = np.arange(1,5).reshape(2,2)\n",
    "# append\n",
    "print(\"1.1. append:\", np.append(arr1, arr2, axis=None))\n",
    "print(\"\\n1.2. append(vstack):\\n\", np.append(arr1, arr2, axis=0)) # vstack\n",
    "print(\"\\n1.3. append(hstack):\\n\", np.append(arr1, arr2, axis=1)) # hstack\n",
    "# vstack, hstack\n",
    "print(\"\\n2.1. vstack(axis=0):\\n\", np.vstack((arr1, arr2)))\n",
    "print(\"\\n2.2. hstack(axis=1):\\n\", np.hstack((arr1, arr2)))\n",
    "# concatenate\n",
    "print(\"\\n3.1. concatenate:\\n\", np.concatenate([arr1, arr2], axis=None))\n",
    "print(\"\\n3.2. concatenate:\\n\", np.concatenate([arr1, arr2], axis=0))\n",
    "print(\"\\n3.3. concatenate:\\n\", np.concatenate([arr1, arr2], axis=1))"
   ]
  },
  {
   "cell_type": "markdown",
   "id": "95a8d97a-6adb-4173-8b74-03c2e265e4eb",
   "metadata": {},
   "source": [
    "#### 6.3. 배열 분할: vsplit, hsplit"
   ]
  },
  {
   "cell_type": "code",
   "execution_count": 75,
   "id": "76df0473-6af3-40a0-bd8b-8211e5811e10",
   "metadata": {},
   "outputs": [
    {
     "name": "stdout",
     "output_type": "stream",
     "text": [
      "1.1. 원본: \n",
      " [[1 2]\n",
      " [3 4]]\n",
      "\n",
      "1.2. vsplit: \n",
      " [array([[1, 2]]), array([[3, 4]])]\n",
      "\n",
      "1.3. hsplit: \n",
      " [array([[1, 2],\n",
      "       [3, 4]])]\n",
      "\n",
      "2.1. 원본: \n",
      " [[[5 8 9 5 7 2]\n",
      "  [2 4 1 5 5 3]\n",
      "  [3 5 0 8 1 2]\n",
      "  [3 9 5 8 3 4]]\n",
      "\n",
      " [[7 2 0 4 5 9]\n",
      "  [7 1 0 1 8 3]\n",
      "  [7 0 5 9 4 5]\n",
      "  [8 0 8 4 3 5]]]\n",
      "\n",
      "2.2. vsplit: \n",
      " [array([[[5, 8, 9, 5, 7, 2],\n",
      "        [2, 4, 1, 5, 5, 3],\n",
      "        [3, 5, 0, 8, 1, 2],\n",
      "        [3, 9, 5, 8, 3, 4]]]), array([[[7, 2, 0, 4, 5, 9],\n",
      "        [7, 1, 0, 1, 8, 3],\n",
      "        [7, 0, 5, 9, 4, 5],\n",
      "        [8, 0, 8, 4, 3, 5]]])]\n",
      "\n",
      "2.3. hsplit: \n",
      " [array([[[5, 8, 9, 5, 7, 2],\n",
      "        [2, 4, 1, 5, 5, 3]],\n",
      "\n",
      "       [[7, 2, 0, 4, 5, 9],\n",
      "        [7, 1, 0, 1, 8, 3]]]), array([[[3, 5, 0, 8, 1, 2],\n",
      "        [3, 9, 5, 8, 3, 4]],\n",
      "\n",
      "       [[7, 0, 5, 9, 4, 5],\n",
      "        [8, 0, 8, 4, 3, 5]]])]\n"
     ]
    }
   ],
   "source": [
    "# 2차원\n",
    "arr = np.arange(1,5).reshape(2,2)\n",
    "print(\"1.1. 원본: \\n\",arr)\n",
    "\n",
    "print(\"\\n1.2. vsplit: \\n\",np.vsplit(arr, 2)) # vsplit() => axis=0\n",
    "print(\"\\n1.3. hsplit: \\n\",np.hsplit(arr, 1)) # hsplit() => axis=1\n",
    "\n",
    "# 3차원\n",
    "arr = np.random.randint(0,10, (2,4,6))\n",
    "print(\"\\n2.1. 원본: \\n\",arr)\n",
    "print(\"\\n2.2. vsplit: \\n\",np.vsplit(arr, 2))\n",
    "print(\"\\n2.3. hsplit: \\n\",np.hsplit(arr, 2))"
   ]
  }
 ],
 "metadata": {
  "kernelspec": {
   "display_name": "Python 3 (ipykernel)",
   "language": "python",
   "name": "python3"
  },
  "language_info": {
   "codemirror_mode": {
    "name": "ipython",
    "version": 3
   },
   "file_extension": ".py",
   "mimetype": "text/x-python",
   "name": "python",
   "nbconvert_exporter": "python",
   "pygments_lexer": "ipython3",
   "version": "3.9.1"
  }
 },
 "nbformat": 4,
 "nbformat_minor": 5
}
