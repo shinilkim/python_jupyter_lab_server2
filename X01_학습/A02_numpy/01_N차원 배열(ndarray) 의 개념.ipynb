{
 "cells": [
  {
   "cell_type": "code",
   "execution_count": 17,
   "id": "feab6243-34b3-4c04-a2e0-f4e8e520bf4d",
   "metadata": {},
   "outputs": [],
   "source": [
    "import numpy as np\n",
    "import matplotlib.pyplot as plt"
   ]
  },
  {
   "cell_type": "markdown",
   "id": "148338ed-a0e3-406b-a3a4-f7106e6c2df0",
   "metadata": {},
   "source": [
    "#### N차원 배열의 데이터 타입"
   ]
  },
  {
   "cell_type": "code",
   "execution_count": null,
   "id": "bd58e71b-67c1-4df7-80f7-9a61f156c93e",
   "metadata": {
    "tags": []
   },
   "outputs": [],
   "source": [
    "# 1차원 배열\n",
    "arr1 = np.array([1, 2, 3])\n",
    "print(\"1차원 배열\\n\",arr1)\n",
    "\n",
    "# 2차원 배열\n",
    "arr2 = np.array([[1,2,3],[4,5,6]])\n",
    "print(\"2차원 배열\\n\",arr2)\n",
    "\n",
    "# 3차원 배열( 3차원 배열 이상을 tensor 이라고 함 )\n",
    "arr3 = np.array([[1,2,3],[4,5,6],[7,8,9]])\n",
    "print(\"3차원 배열\\n\",arr3)"
   ]
  },
  {
   "cell_type": "code",
   "execution_count": null,
   "id": "c198543c-a4af-4b94-b547-c67bc694bf7b",
   "metadata": {
    "tags": []
   },
   "outputs": [],
   "source": [
    "tpl = (1,2,3)        # 튜플\n",
    "arr = np.array(tpl)  # 튜플 > 1차원 배열로 변경\n",
    "print(tpl)\n",
    "print(arr)"
   ]
  },
  {
   "cell_type": "code",
   "execution_count": null,
   "id": "85f391cb-26a4-4887-b531-b776c381ab39",
   "metadata": {
    "tags": []
   },
   "outputs": [],
   "source": [
    "item = [1,2,3]             # 1차원 리스트\n",
    "arr1 = np.array(item)\n",
    "\n",
    "item1 = [[1,2,3], [4,5,6]] # 2차원 리스트\n",
    "arr1 = np.array(item1)\n",
    "print(arr1)\n",
    "print(arr2)"
   ]
  },
  {
   "cell_type": "code",
   "execution_count": null,
   "id": "465f5904-38a5-47b0-bdd5-f600ecc37880",
   "metadata": {
    "tags": []
   },
   "outputs": [],
   "source": [
    "# shape( 행렬의 차원 )\n",
    "arr1 = np.array([1,2,3])\n",
    "arr2 = np.array([[1,2,3,],[4,5,6]])\n",
    "\n",
    "print(arr1.shape, arr2.shape)\n",
    "\n",
    "# ndim => 몇 차원 배열인지 확인\n",
    "print(arr1.ndim, arr2.ndim, '', sep='차원 ')\n",
    "\n",
    "# size => 원소의 갯수\n",
    "print(arr1.size, arr2.size)"
   ]
  },
  {
   "cell_type": "code",
   "execution_count": null,
   "id": "f770c631-f303-4a09-98be-c3aa97d1ee51",
   "metadata": {
    "tags": []
   },
   "outputs": [],
   "source": [
    "# N차원 배열의 데이터 타입\n",
    "arr = np.array([1, 2, 3], dtype=np.float_)\n",
    "print(arr, arr.dtype)\n",
    "\n",
    "arr = np.array([1.1, 2.1, 3.1], dtype=np.int_)\n",
    "print(arr, arr.dtype)\n",
    "\n",
    "arr = np.array([0, True, False], dtype=np.bool_)\n",
    "print(arr, arr.dtype)\n",
    "\n",
    "arr = arr.astype(np.float32) # 타입 변경\n",
    "print(arr, arr.dtype)"
   ]
  },
  {
   "cell_type": "code",
   "execution_count": null,
   "id": "2d5e0bd4-90de-46dd-9449-d6509d3d5f39",
   "metadata": {},
   "outputs": [],
   "source": [
    "# 데이터 타입이 혼재하는 경우\n",
    "arr = np.array([1, 2, 3.4, '64'])\n",
    "print(arr)\n",
    "\n",
    "arr = np.array([1, 2, 3.4, \"64\"], dtype=int)\n",
    "print(arr)"
   ]
  },
  {
   "cell_type": "markdown",
   "id": "1d7c2c5d-ee47-454f-bebd-358a5cc23b42",
   "metadata": {},
   "source": [
    "#### 특정 범위의 값을 가지는 N차원 배열 생성"
   ]
  },
  {
   "cell_type": "code",
   "execution_count": null,
   "id": "e1555617-85a6-4fcb-b338-d7827be404ed",
   "metadata": {},
   "outputs": [],
   "source": [
    "# np.zeros() => 원소가 0 인 행렬을 만든다.\n",
    "arr = np.zeros([2,2])\n",
    "print(arr)\n",
    "\n",
    "# np.one2() => 원소가 1 인 행렬을 만든다.\n",
    "arr = np.ones([3,5])\n",
    "print(arr)\n",
    "\n",
    "# np.full() => 지정한 원소로 행렬을 만든다.\n",
    "arr = np.full((2,3), 5)\n",
    "print(arr)\n",
    "\n",
    "# np.eye()\n",
    "arr = np.eye(3,4, k=0)\n",
    "print(arr)"
   ]
  },
  {
   "cell_type": "code",
   "execution_count": null,
   "id": "abf0744b-f4d7-4178-a2d4-7079a67c1a26",
   "metadata": {},
   "outputs": [],
   "source": [
    "arr = np.array([[1,2,3],[4,5,6]])\n",
    "\n",
    "# np.zeros_like()\n",
    "arr_z = np.zeros_like(arr)\n",
    "print(arr_z)\n",
    "\n",
    "# np.ones_like()\n",
    "arr_o = np.ones_like(arr)\n",
    "print(arr_o)\n",
    "\n",
    "# np.full_like()\n",
    "arr_f = np.full_like(arr, 9)\n",
    "print(arr_f)"
   ]
  },
  {
   "cell_type": "markdown",
   "id": "4ac5f239-7401-4a2b-9030-0a426944e0e3",
   "metadata": {},
   "source": [
    "#### 특정 범위의 값을 가지는 N차월 배열 생성"
   ]
  },
  {
   "cell_type": "code",
   "execution_count": 6,
   "id": "1a5094ef-f4c1-4c8e-87bd-0998bf645741",
   "metadata": {},
   "outputs": [
    {
     "name": "stdout",
     "output_type": "stream",
     "text": [
      "[0, 2, 4, 6, 8]\n",
      "[0 1 2 3 4 5 6 7 8]\n",
      "[ 3  6  9 12]\n",
      "[0 2 4 6 8]\n"
     ]
    }
   ],
   "source": [
    "lst = list(range(0, 9, 2))\n",
    "print(lst)\n",
    "\n",
    "arr = np.arange(9)\n",
    "print(arr)\n",
    "\n",
    "arr = np.arange(3, 13, 3)\n",
    "print(arr)\n",
    "\n",
    "arr = np.arange(start=0, stop=9, step=2)\n",
    "print(arr)"
   ]
  },
  {
   "cell_type": "code",
   "execution_count": 13,
   "id": "ceb86954-d88f-454a-91d2-9601a34dca1d",
   "metadata": {},
   "outputs": [
    {
     "name": "stdout",
     "output_type": "stream",
     "text": [
      "[  1.   10.9  20.8  30.7  40.6  50.5  60.4  70.3  80.2  90.1 100. ]\n",
      "[ 0 10 20 30 40 50 60 70 80 90]\n"
     ]
    }
   ],
   "source": [
    "# np.linspace() # 균일된 간격으로 값을 만든다\n",
    "arr = np.linspace(1, 100, 11)\n",
    "print(arr)\n",
    "\n",
    "arr = np.linspace(start=0, stop=100, num=10, endpoint=False, dtype=int)\n",
    "print(arr)"
   ]
  },
  {
   "cell_type": "code",
   "execution_count": 16,
   "id": "e6314d8c-8512-4c65-aa53-51c8f3a5286b",
   "metadata": {},
   "outputs": [
    {
     "name": "stdout",
     "output_type": "stream",
     "text": [
      "[ 1.  2.  3.  4.  5.  6.  7.  8.  9. 10.]\n",
      "\n",
      "[   2.    4.    8.   16.   32.   64.  128.  256.  512. 1024.]\n",
      "\n",
      "[1.e+01 1.e+02 1.e+03 1.e+04 1.e+05 1.e+06 1.e+07 1.e+08 1.e+09 1.e+10]\n"
     ]
    }
   ],
   "source": [
    "# np.logspace()\n",
    "arr = np.linspace(1,10,10)\n",
    "print(arr, end='\\n\\n')\n",
    "\n",
    "arr = np.logspace(1, 10, 10, base=2)\n",
    "print(arr, end='\\n\\n')\n",
    "\n",
    "arr = np.logspace(1, 10, 10)\n",
    "print(arr)"
   ]
  },
  {
   "cell_type": "markdown",
   "id": "e64a6765-e002-4a9f-9754-2046227afd9d",
   "metadata": {},
   "source": [
    "#### 난수로 이루어진 N차원 배열 생성하기"
   ]
  },
  {
   "cell_type": "code",
   "execution_count": 24,
   "id": "f4f4bf6c-3bf8-4eba-a9c2-3a9aab283e4e",
   "metadata": {},
   "outputs": [
    {
     "name": "stdout",
     "output_type": "stream",
     "text": [
      "[ 0.86223359  0.27893532  0.48011757 -1.4672445   0.82819848  0.20285106\n",
      "  0.72829108  1.80686864  0.05952044 -0.07075293]\n",
      "\n",
      "[[ 0.39199312  0.45599775 -0.99400181]\n",
      " [ 1.58357965 -0.40989298 -0.14737048]]\n",
      "\n"
     ]
    },
    {
     "data": {
      "image/png": "[encoded data removed]",
      "text/plain": [
       "<Figure size 432x288 with 1 Axes>"
      ]
     },
     "metadata": {
      "needs_background": "light"
     },
     "output_type": "display_data"
    }
   ],
   "source": [
    "# np.random.normal() # 정규 분포\n",
    "arr = np.random.normal(loc=0, scale=1, size=10) # 평균, 표준편차, 사이즈\n",
    "print(arr, end='\\n\\n')\n",
    "\n",
    "arr = np.random.normal(0, 1, (2,3))\n",
    "print(arr, end='\\n\\n')\n",
    "\n",
    "arr = np.random.normal(0, 1, 1000)\n",
    "plt.hist(arr, bins=100) # bins=구간\n",
    "plt.show()"
   ]
  },
  {
   "cell_type": "code",
   "execution_count": 26,
   "id": "3c3f77e2-62c5-4e33-a1c7-b99da9838857",
   "metadata": {},
   "outputs": [
    {
     "data": {
      "image/png": "[encoded data removed]",
      "text/plain": [
       "<Figure size 432x288 with 1 Axes>"
      ]
     },
     "metadata": {
      "needs_background": "light"
     },
     "output_type": "display_data"
    }
   ],
   "source": [
    "# np.random.rand() # 균등 분포\n",
    "arr = np.random.rand(1000)\n",
    "plt.hist(arr, bins=100)\n",
    "plt.show()"
   ]
  },
  {
   "cell_type": "code",
   "execution_count": 27,
   "id": "6b53b4ad-c685-4ec8-ad95-8a8d20e485bc",
   "metadata": {},
   "outputs": [
    {
     "data": {
      "image/png": "[encoded data removed]",
      "text/plain": [
       "<Figure size 432x288 with 1 Axes>"
      ]
     },
     "metadata": {
      "needs_background": "light"
     },
     "output_type": "display_data"
    }
   ],
   "source": [
    "# np.random.randn() => 범위: -1 ~ 1 (가우시안 분포)\n",
    "arr = np.random.randn(1000)\n",
    "plt.hist(arr, bins=100)\n",
    "plt.show()"
   ]
  },
  {
   "cell_type": "code",
   "execution_count": 40,
   "id": "0475989e-884b-4dba-b890-9a08ad6fc7ff",
   "metadata": {},
   "outputs": [
    {
     "data": {
      "image/png": "[encoded data removed]",
      "text/plain": [
       "<Figure size 432x288 with 1 Axes>"
      ]
     },
     "metadata": {
      "needs_background": "light"
     },
     "output_type": "display_data"
    },
    {
     "name": "stdout",
     "output_type": "stream",
     "text": [
      "[[100  80 297]\n",
      " [391 271 302]]\n"
     ]
    },
    {
     "data": {
      "image/png": "[encoded data removed]",
      "text/plain": [
       "<Figure size 432x288 with 1 Axes>"
      ]
     },
     "metadata": {
      "needs_background": "light"
     },
     "output_type": "display_data"
    },
    {
     "name": "stdout",
     "output_type": "stream",
     "text": [
      "4\n"
     ]
    },
    {
     "data": {
      "image/png": "[encoded data removed]",
      "text/plain": [
       "<Figure size 432x288 with 1 Axes>"
      ]
     },
     "metadata": {
      "needs_background": "light"
     },
     "output_type": "display_data"
    }
   ],
   "source": [
    "# np.random.randint()  => 램덤 정수\n",
    "arr1 = np.random.randint(low=10, high=100, size=1000)\n",
    "plt.hist(arr1, bins=100)\n",
    "plt.show()\n",
    "\n",
    "arr2 = np.random.randint(low=10, high=500, size=(2,3))\n",
    "print(arr2)\n",
    "plt.hist(arr2, bins=100)\n",
    "plt.show()\n",
    "                        \n",
    "arr3 = np.random.randint(5)\n",
    "print(arr3)\n",
    "plt.hist(arr3, bins=100)\n",
    "plt.show()"
   ]
  },
  {
   "cell_type": "markdown",
   "id": "e3fcc1e4-38b2-420e-8e74-d3b82cd8f214",
   "metadata": {},
   "source": [
    "#### 시드(Seed) 값을 통한 난수 생성 제어"
   ]
  },
  {
   "cell_type": "code",
   "execution_count": 53,
   "id": "c6346454-9d6c-44a2-9c8b-df8380420dad",
   "metadata": {},
   "outputs": [
    {
     "name": "stdout",
     "output_type": "stream",
     "text": [
      "난수 발생1 \n",
      " [0.14675589 0.09233859 0.18626021 0.34556073]\n",
      "난수 발생1 \n",
      " [0.39676747 0.53881673 0.41919451 0.6852195 ]\n"
     ]
    }
   ],
   "source": [
    "arr = np.random.rand(4)\n",
    "print(\"난수 발생1 \\n\", arr)\n",
    "arr = np.random.rand(4)\n",
    "print(\"난수 발생1 \\n\", arr)"
   ]
  },
  {
   "cell_type": "code",
   "execution_count": 52,
   "id": "3ec92bc6-d8f0-472a-919f-101176dbbd2d",
   "metadata": {},
   "outputs": [
    {
     "name": "stdout",
     "output_type": "stream",
     "text": [
      "난수 발생1 \n",
      " [4.17022005e-01 7.20324493e-01 1.14374817e-04 3.02332573e-01]\n",
      "난수 발생1 \n",
      " [4.17022005e-01 7.20324493e-01 1.14374817e-04 3.02332573e-01]\n"
     ]
    }
   ],
   "source": [
    "np.random.seed(1) # 시작점 1로 지정\n",
    "arr = np.random.rand(4)\n",
    "print(\"난수 발생1 \\n\", arr)\n",
    "np.random.seed(1) # 시작점 1로 지정\n",
    "arr = np.random.rand(4)\n",
    "print(\"난수 발생1 \\n\", arr)"
   ]
  }
 ],
 "metadata": {
  "kernelspec": {
   "display_name": "Python 3 (ipykernel)",
   "language": "python",
   "name": "python3"
  },
  "language_info": {
   "codemirror_mode": {
    "name": "ipython",
    "version": 3
   },
   "file_extension": ".py",
   "mimetype": "text/x-python",
   "name": "python",
   "nbconvert_exporter": "python",
   "pygments_lexer": "ipython3",
   "version": "3.9.1"
  }
 },
 "nbformat": 4,
 "nbformat_minor": 5
}
