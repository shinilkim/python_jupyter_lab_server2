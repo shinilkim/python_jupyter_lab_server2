{
 "cells": [
  {
   "cell_type": "code",
   "execution_count": 2,
   "id": "e337cdf8-5e3e-4c41-b4c3-883a5e509815",
   "metadata": {},
   "outputs": [],
   "source": [
    "import numpy as np"
   ]
  },
  {
   "cell_type": "markdown",
   "id": "6ee23292-b330-49ce-96f5-a5f5e9010373",
   "metadata": {},
   "source": [
    "#### <실습예제 1>\n",
    "- 원소가 모두 3인(3,4,5) 형태의 numpy.array를 출력하시오."
   ]
  },
  {
   "cell_type": "code",
   "execution_count": 6,
   "id": "24b6178e-d688-45ee-b83d-90e929b05318",
   "metadata": {},
   "outputs": [
    {
     "name": "stdout",
     "output_type": "stream",
     "text": [
      "[[[3 3 3 3 3]\n",
      "  [3 3 3 3 3]\n",
      "  [3 3 3 3 3]\n",
      "  [3 3 3 3 3]]\n",
      "\n",
      " [[3 3 3 3 3]\n",
      "  [3 3 3 3 3]\n",
      "  [3 3 3 3 3]\n",
      "  [3 3 3 3 3]]\n",
      "\n",
      " [[3 3 3 3 3]\n",
      "  [3 3 3 3 3]\n",
      "  [3 3 3 3 3]\n",
      "  [3 3 3 3 3]]]\n"
     ]
    }
   ],
   "source": [
    "arr = np.full([3,4,5], 3)\n",
    "print(arr)"
   ]
  },
  {
   "cell_type": "markdown",
   "id": "4dcc072a-a4ad-404e-a0f3-f711c74e7549",
   "metadata": {},
   "source": [
    "#### <실습예제 2>\n",
    "- 정수 -50 ~ 50의 범위 안의 난수로 이루어진 (4,5) 형태의 numpy.array를 출력\n",
    "- 행을 기준으로 오름차순 정렬한 결과와\n",
    "- 전체 배열을 1차원 배열로 변경하여 오름차순 정렬한 결과를 출력하시오."
   ]
  },
  {
   "cell_type": "code",
   "execution_count": 20,
   "id": "1909f26d-a25c-4f24-9fec-42b5b72b8223",
   "metadata": {},
   "outputs": [
    {
     "name": "stdout",
     "output_type": "stream",
     "text": [
      "1. 원본: \n",
      " [[ -2   2 -43   8 -43]\n",
      " [ 17 -35   6  -2 -48]\n",
      " [ 39  15 -38  30 -17]\n",
      " [  5 -38  47 -22  -3]]\n",
      "\n",
      "2. 2차원 배열형태: \n",
      " [[ -2 -38 -43 -22 -48]\n",
      " [  5 -35 -38  -2 -43]\n",
      " [ 17   2   6   8 -17]\n",
      " [ 39  15  47  30  -3]]\n",
      "[[ -2 -38 -43 -22 -48]\n",
      " [  5 -35 -38  -2 -43]\n",
      " [ 17   2   6   8 -17]\n",
      " [ 39  15  47  30  -3]]\n",
      "\n",
      "3. 1차원 배열형태: \n",
      " [-48 -43 -43 -38 -38 -35 -22 -17  -3  -2  -2   2   5   6   8  15  17  30\n",
      "  39  47]\n"
     ]
    }
   ],
   "source": [
    "arr = np.random.randint(-50, 50, (4,5))\n",
    "print(\"1. 원본: \\n\", arr)\n",
    "print(\"\\n2. 2차원 배열형태: \\n\",np.sort(arr, axis=0))\n",
    "print(\"\\n3. 1차원 배열형태: \\n\",np.sort(arr, axis=None))"
   ]
  },
  {
   "cell_type": "markdown",
   "id": "8b2c33af-9050-4c10-9482-3335ca3634d3",
   "metadata": {},
   "source": [
    "#### <실습예제 3>\n",
    "- 다음과 같은 파이썬 list 가 존재한다.\n",
    "- list 안에 있는 각 numpy.array의 원소들의 평균값과 표준편찬, 중앙값을 순서대로 구하시오.\n",
    "- 구한 순서대로 원소가 이루어진 새로운 list를 구성하고 출력하시오."
   ]
  },
  {
   "cell_type": "code",
   "execution_count": 30,
   "id": "f6d1f9c0-2fdf-4472-90a7-2a30470c7531",
   "metadata": {},
   "outputs": [
    {
     "name": "stdout",
     "output_type": "stream",
     "text": [
      "1. 원본: \n",
      " [array([8, 8, 8]), array([ 33, -15,  26]), array([17. , 21.5, 26. ])]\n",
      "\n",
      "2. 결과: \n",
      " [8.0, 0.0, 8.0, 14.666666666666666, 21.171259344267224, 26.0, 21.5, 3.6742346141747673, 21.5]\n"
     ]
    }
   ],
   "source": [
    "lst = [\n",
    "    np.full(3,8),\n",
    "    np.array([33, -15, 26]),\n",
    "    np.linspace(17, 26, 3)\n",
    "]\n",
    "print(\"1. 원본: \\n\",lst)\n",
    "\n",
    "lst2 = []\n",
    "for el in lst:\n",
    "    lst2.append(np.mean(el))   # 평균값\n",
    "    lst2.append(np.std(el))    # 표준편차\n",
    "    lst2.append(np.median(el)) # 중앙값\n",
    "print(\"\\n2. 결과: \\n\", lst2)"
   ]
  },
  {
   "cell_type": "markdown",
   "id": "d434ac11-0199-48b5-8592-e90dba8b1e89",
   "metadata": {},
   "source": [
    "#### <실습예제 4>\n",
    "- arr = np.arange(2, 20, 2).reshape((3,3))\n",
    "- 다음과 같은 numpy.array 가 존재한다. \n",
    "- 이 배열을 행을 기준으로 3개의 배열로 분활한다.\n",
    "- 분할된 각 배열의 원소들을 제곱한 결과를 다시 원본 배열에 행을 기준으로 병합하시오.\n",
    "- 단, 마지막 출력 결과는 원본 배열과 차원이 같아야 한다"
   ]
  },
  {
   "cell_type": "code",
   "execution_count": 50,
   "id": "e2b11a76-4b19-4834-b8c3-9a6a4da08d18",
   "metadata": {},
   "outputs": [
    {
     "name": "stdout",
     "output_type": "stream",
     "text": [
      "1. 원본: \n",
      " [[ 2  4  6]\n",
      " [ 8 10 12]\n",
      " [14 16 18]]\n",
      "\n",
      "2. 3개로 분활: \n",
      " [array([[2, 4, 6]]), array([[ 8, 10, 12]]), array([[14, 16, 18]])]\n",
      "\n",
      "3. 각 원소를 제곱: \n",
      " [[[  4  16  36]]\n",
      "\n",
      " [[ 64 100 144]]\n",
      "\n",
      " [[196 256 324]]]\n",
      "\n",
      "4. 행 기준으로 병합: \n",
      " [[  2   4   6]\n",
      " [  8  10  12]\n",
      " [ 14  16  18]\n",
      " [  4  16  36]\n",
      " [ 64 100 144]\n",
      " [196 256 324]]\n"
     ]
    }
   ],
   "source": [
    "arr = np.arange(2, 20, 2).reshape((3,3))\n",
    "print(\"1. 원본: \\n\", arr)\n",
    "\n",
    "arr1 = np.vsplit(arr, 3)        # 3개로 분활\n",
    "print(\"\\n2. 3개로 분활: \\n\",arr1)\n",
    "\n",
    "arr2 = np.square(arr1)          # 각 원소를 제곱한다.\n",
    "print(\"\\n3. 각 원소를 제곱: \\n\",arr2)\n",
    "\n",
    "arr3 = np.squeeze(arr2, axis=1) # 차원 축소\n",
    "arr3 = np.vstack((arr, arr3))   # 원본과 제곱결과를 병합\n",
    "print(\"\\n4. 행 기준으로 병합: \\n\",arr3) "
   ]
  },
  {
   "cell_type": "markdown",
   "id": "51a070b1-7c34-49c4-8501-7409675009a5",
   "metadata": {},
   "source": [
    "#### <실습예제 5>\n",
    "- 삼각함수의 특수각(0,30,60,90)을 numpy.array로 생성\n",
    "- 특수각에 해당하는 sin, cos, tan 값을 각각 구하시오.\n",
    "- 파이썬 list에 담은 다음 해당 list에 들어있는 값들을 출력하시오.\n",
    "- 단, 값이 무한대라면 \"INF\" 문자열을 출력한다)\n",
    "- numpy에서 삼각함수는 radian 값을 사용하기 때문에 각을 radian으로 변경해야 한다.\n",
    "- < degree * PI / 180 >"
   ]
  },
  {
   "cell_type": "code",
   "execution_count": 59,
   "id": "b0bdc478-6118-4f9a-b3a0-020c095be7b3",
   "metadata": {},
   "outputs": [
    {
     "name": "stdout",
     "output_type": "stream",
     "text": [
      "[ 0 30 60 90]\n",
      "0.0\n",
      "0.49999999999999994\n",
      "0.8660254037844386\n",
      "1.0\n",
      "\n",
      "1.0\n",
      "0.8660254037844387\n",
      "0.5000000000000001\n",
      "6.123233995736766e-17\n",
      "\n",
      "0.0\n",
      "0.5773502691896257\n",
      "1.7320508075688767\n",
      "INF\n",
      "\n"
     ]
    }
   ],
   "source": [
    "arr = np.arange(0, 91, 30)\n",
    "print(arr)\n",
    "items = []\n",
    "items.append(np.sin( arr * np.pi / 180 ))\n",
    "items.append(np.cos( arr * np.pi / 180 ))\n",
    "items.append(np.tan( arr * np.pi / 180 ))\n",
    "\n",
    "for item in items:\n",
    "    for val in item:\n",
    "        if val > 999999:\n",
    "            print(\"INF\")\n",
    "            continue\n",
    "        print(val)\n",
    "    print()"
   ]
  },
  {
   "cell_type": "markdown",
   "id": "84af832e-d110-4aab-aa1a-87ea164cc8d5",
   "metadata": {},
   "source": [
    "#### <실습예제 6>\n",
    "- numpy.array를 이용하여 다음과 같은 패턴을 출력하시오.\n",
    "- 단, 출력 시 반복문을 사용하여 출력한다."
   ]
  },
  {
   "cell_type": "code",
   "execution_count": 68,
   "id": "4647536b-90dc-4bf5-9c58-294728daf170",
   "metadata": {},
   "outputs": [
    {
     "name": "stdout",
     "output_type": "stream",
     "text": [
      "1. 원본: \n",
      " [[0 0 0 0 0 0 0]\n",
      " [0 0 0 0 0 0 0]\n",
      " [0 0 0 0 0 0 0]\n",
      " [0 0 0 0 0 0 0]\n",
      " [0 0 0 0 0 0 0]\n",
      " [0 0 0 0 0 0 0]\n",
      " [0 0 0 0 0 0 0]]\n",
      "\n",
      "2. 결과:\n",
      "0 1 0 1 0 1 0 \n",
      "1 0 1 0 1 0 1 \n",
      "0 1 0 1 0 1 0 \n",
      "1 0 1 0 1 0 1 \n",
      "0 1 0 1 0 1 0 \n",
      "1 0 1 0 1 0 1 \n",
      "0 1 0 1 0 1 0 \n"
     ]
    }
   ],
   "source": [
    "arr = np.zeros((7,7), dtype=int)\n",
    "arr = np.full((7,7), 0)\n",
    "print(\"1. 원본: \\n\",arr)\n",
    "\n",
    "# 1로 치환\n",
    "arr[::2, 1::2] = 1\n",
    "arr[1::2, ::2] = 1\n",
    "# 반복하여 출력\n",
    "print(\"\\n2. 결과:\")\n",
    "for row in range(7):\n",
    "    for col in range(7):\n",
    "        print(arr[row, col], end=\" \")\n",
    "    print()"
   ]
  }
 ],
 "metadata": {
  "kernelspec": {
   "display_name": "Python 3 (ipykernel)",
   "language": "python",
   "name": "python3"
  },
  "language_info": {
   "codemirror_mode": {
    "name": "ipython",
    "version": 3
   },
   "file_extension": ".py",
   "mimetype": "text/x-python",
   "name": "python",
   "nbconvert_exporter": "python",
   "pygments_lexer": "ipython3",
   "version": "3.9.1"
  }
 },
 "nbformat": 4,
 "nbformat_minor": 5
}
