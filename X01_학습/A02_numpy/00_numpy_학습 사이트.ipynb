{
 "cells": [
  {
   "cell_type": "markdown",
   "id": "617ab64f-7c12-464d-b1e0-6d8f94077612",
   "metadata": {},
   "source": [
    "Codetorial: https://codetorial.net/numpy/index.html"
   ]
  }
 ],
 "metadata": {
  "kernelspec": {
   "display_name": "Python 3 (ipykernel)",
   "language": "python",
   "name": "python3"
  },
  "language_info": {
   "codemirror_mode": {
    "name": "ipython",
    "version": 3
   },
   "file_extension": ".py",
   "mimetype": "text/x-python",
   "name": "python",
   "nbconvert_exporter": "python",
   "pygments_lexer": "ipython3",
   "version": "3.9.1"
  }
 },
 "nbformat": 4,
 "nbformat_minor": 5
}
