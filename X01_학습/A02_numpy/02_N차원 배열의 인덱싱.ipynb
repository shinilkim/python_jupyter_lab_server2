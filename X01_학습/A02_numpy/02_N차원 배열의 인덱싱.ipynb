{
 "cells": [
  {
   "cell_type": "code",
   "execution_count": 3,
   "id": "99b7bfa0-a5b1-4516-921b-53084c8d055e",
   "metadata": {},
   "outputs": [],
   "source": [
    "import numpy as np"
   ]
  },
  {
   "cell_type": "markdown",
   "id": "f506d872-f9aa-4d9c-b722-ff04cd1f5aab",
   "metadata": {},
   "source": [
    "#### 2.1. 배열의 index 접근하기"
   ]
  },
  {
   "cell_type": "code",
   "execution_count": 29,
   "id": "433a2492-f53e-4099-a027-31daa001a62a",
   "metadata": {
    "collapsed": true,
    "jupyter": {
     "outputs_hidden": true
    },
    "tags": []
   },
   "outputs": [
    {
     "name": "stdout",
     "output_type": "stream",
     "text": [
      "1차원 배열\n",
      "[ True  True  True  True  True  True  True  True  True  True]\n",
      "[0 1 2 3 4 5 6 7 8 9]\n",
      "끝에서 2번째 값:  8\n",
      "arr1[3:8] =>  [3 4 5 6 7]\n",
      "arr1[3: ] =>  [3 4 5 6 7 8 9]\n",
      "arr1[ :7] =>  [0 1 2 3 4 5 6]\n",
      "arr1[:-1] =>  [0 1 2 3 4 5 6 7 8]\n",
      "\n",
      "2차원 배열\n",
      "[[1 2 3]\n",
      " [4 5 6]\n",
      " [7 8 9]] (3, 3) 2 9\n",
      "[1 2 3]\n",
      "[2 5 8]\n",
      "[[3]\n",
      " [6]]\n"
     ]
    }
   ],
   "source": [
    "print('1차원 배열')\n",
    "arr1 = np.array([0,1,2,3,4,5,6,7,8,9])\n",
    "arr2 = np.arange(10)\n",
    "print(arr1 == arr2)\n",
    "print(arr2)\n",
    "print(\"끝에서 2번째 값: \",arr1[-2]) # 끝에서 2번째 값\n",
    "print(\"arr1[3:8] => \",arr1[3:8])\n",
    "print(\"arr1[3: ] => \",arr1[3:])\n",
    "print(\"arr1[ :7] => \",arr1[:7])\n",
    "print(\"arr1[:-1] => \",arr1[:-1])\n",
    "\n",
    "print(\"\\n2차원 배열\")\n",
    "arr = np.array([[1,2,3], [4,5,6], [7,8,9]])\n",
    "print(arr, arr.shape, arr.ndim, arr[-1][-1])\n",
    "print(arr[0])\n",
    "print(arr[:, 1])\n",
    "print(arr[:2, 2:])"
   ]
  },
  {
   "cell_type": "markdown",
   "id": "699be5d9-2c70-4c92-a3c5-a9e97640a0d5",
   "metadata": {},
   "source": [
    "#### 2.2. Fancy 인덱싱(특정 원소를 지정)"
   ]
  },
  {
   "cell_type": "code",
   "execution_count": 34,
   "id": "f2f4aece-8ad1-4fbf-a320-18957092a62c",
   "metadata": {},
   "outputs": [
    {
     "name": "stdout",
     "output_type": "stream",
     "text": [
      "1차원 배열\n",
      "[ 5 15 25]\n",
      "\n",
      "2차원 배열\n",
      "[[3]\n",
      " [9]]\n",
      "[[5 6]\n",
      " [8 9]]\n"
     ]
    }
   ],
   "source": [
    "print('1차원 배열')\n",
    "arr = np.array([5, 10, 15, 20, 25, 30])\n",
    "print(arr[[0, 2, 4]])\n",
    "\n",
    "print(\"\\n2차원 배열\")\n",
    "arr = np.array([[1,2,3], [4,5,6], [7,8,9]])\n",
    "print(arr[[0, 2], 2:])\n",
    "print(arr[1:, [1,2]])"
   ]
  },
  {
   "cell_type": "markdown",
   "id": "d0f04db3-1c00-4420-affc-f369b16b1f0d",
   "metadata": {},
   "source": [
    "#### 2.3. Boolean 인덱싱"
   ]
  },
  {
   "cell_type": "code",
   "execution_count": 44,
   "id": "09f2462d-3db2-4485-a15d-6c59d7796298",
   "metadata": {},
   "outputs": [
    {
     "name": "stdout",
     "output_type": "stream",
     "text": [
      "1차원 배열\n",
      "[0 2 4]\n",
      "\n",
      "2차원 배열\n",
      "[[1 2 3]]\n",
      "\n",
      "범위지정:  [4 5 6]\n"
     ]
    }
   ],
   "source": [
    "print('1차원 배열')\n",
    "arr = np.array([0,1,2,3,4])\n",
    "print(arr[[True, False, True, False, True]])\n",
    "\n",
    "print(\"\\n2차원 배열\")\n",
    "arr = np.array([[1,2,3], [4,5,6]])\n",
    "print(arr[[True, False], True])\n",
    "\n",
    "print(\"\\n범위지정: \",arr[arr > 3])"
   ]
  }
 ],
 "metadata": {
  "kernelspec": {
   "display_name": "Python 3 (ipykernel)",
   "language": "python",
   "name": "python3"
  },
  "language_info": {
   "codemirror_mode": {
    "name": "ipython",
    "version": 3
   },
   "file_extension": ".py",
   "mimetype": "text/x-python",
   "name": "python",
   "nbconvert_exporter": "python",
   "pygments_lexer": "ipython3",
   "version": "3.9.1"
  }
 },
 "nbformat": 4,
 "nbformat_minor": 5
}
