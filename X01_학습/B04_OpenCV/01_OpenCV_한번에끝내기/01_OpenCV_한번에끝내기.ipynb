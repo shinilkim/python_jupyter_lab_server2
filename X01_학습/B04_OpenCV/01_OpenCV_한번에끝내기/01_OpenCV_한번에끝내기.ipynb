{
 "cells": [
  {
   "cell_type": "markdown",
   "id": "a669260d-e73c-4288-857a-b0db66c268b8",
   "metadata": {},
   "source": [
    "## OpenCV 한번에 끝내기\n",
    "- [Youtube URL](https://www.youtube.com/watch?v=XiwA10RfbDk&ab_channel=%EC%9D%B4%EC%88%98%EC%95%88%EC%BB%B4%ED%93%A8%ED%84%B0%EC%97%B0%EA%B5%AC%EC%86%8C)\n",
    "- [OpenCV Homepage](https://opencv.org/)"
   ]
  },
  {
   "cell_type": "markdown",
   "id": "3782f74a-42c5-4eb2-86d3-31323d02c880",
   "metadata": {},
   "source": [
    "> OpenCV 설치\n",
    "* pip install opencv-python\n",
    "* pip install opencv-contrib-python\n",
    "* pip install opencv-python-headless\n",
    "* pip install opencv-contrib-python-headless"
   ]
  },
  {
   "cell_type": "code",
   "execution_count": 2,
   "id": "a08087f6-19b2-4206-8bae-5dac606f5aaf",
   "metadata": {},
   "outputs": [
    {
     "name": "stdout",
     "output_type": "stream",
     "text": [
      "4.5.5\n"
     ]
    }
   ],
   "source": [
    "import cv2\n",
    "print(cv2.__version__)"
   ]
  },
  {
   "cell_type": "code",
   "execution_count": 4,
   "id": "36c3a46e-85b4-49d3-a741-43d9cb787573",
   "metadata": {},
   "outputs": [],
   "source": [
    "# 27:18\n",
    "img = cv2.imread(\"../data/img/example.jpeg\") # 이미지를 읽는다.\n",
    "img"
   ]
  }
 ],
 "metadata": {
  "kernelspec": {
   "display_name": "Python 3 (ipykernel)",
   "language": "python",
   "name": "python3"
  },
  "language_info": {
   "codemirror_mode": {
    "name": "ipython",
    "version": 3
   },
   "file_extension": ".py",
   "mimetype": "text/x-python",
   "name": "python",
   "nbconvert_exporter": "python",
   "pygments_lexer": "ipython3",
   "version": "3.9.10"
  }
 },
 "nbformat": 4,
 "nbformat_minor": 5
}
