{
 "cells": [
  {
   "cell_type": "code",
   "execution_count": 11,
   "id": "25ce4999",
   "metadata": {},
   "outputs": [],
   "source": [
    "import sys, random"
   ]
  },
  {
   "cell_type": "code",
   "execution_count": 4,
   "id": "ada83f2f",
   "metadata": {
    "scrolled": true
   },
   "outputs": [
    {
     "name": "stdout",
     "output_type": "stream",
     "text": [
      "['C:\\\\Users\\\\shini\\\\AppData\\\\Roaming\\\\Python\\\\Python39\\\\site-packages\\\\ipykernel_launcher.py', '-f', 'C:\\\\Users\\\\shini\\\\AppData\\\\Roaming\\\\jupyter\\\\runtime\\\\kernel-00d87562-5575-47d4-a22d-1b6573d2ea5d.json']\n"
     ]
    }
   ],
   "source": [
    "print(sys.argv) # cmd => test.py aa bb cc"
   ]
  },
  {
   "cell_type": "code",
   "execution_count": 2,
   "id": "67a5ef6c",
   "metadata": {},
   "outputs": [
    {
     "name": "stdout",
     "output_type": "stream",
     "text": [
      "2\n"
     ]
    }
   ],
   "source": [
    "myList = [1, 2, 3]\n",
    "print(sys.getrefcount(myList))"
   ]
  },
  {
   "cell_type": "code",
   "execution_count": 9,
   "id": "0ddddcc9",
   "metadata": {
    "scrolled": true
   },
   "outputs": [
    {
     "name": "stdout",
     "output_type": "stream",
     "text": [
      "aa\n",
      "bb"
     ]
    },
    {
     "ename": "SystemExit",
     "evalue": "",
     "output_type": "error",
     "traceback": [
      "An exception has occurred, use %tb to see the full traceback.\n",
      "\u001b[1;31mSystemExit\u001b[0m\n"
     ]
    },
    {
     "name": "stderr",
     "output_type": "stream",
     "text": [
      "C:\\Users\\shini\\AppData\\Roaming\\Python\\Python39\\site-packages\\IPython\\core\\interactiveshell.py:3465: UserWarning: To exit: use 'exit', 'quit', or Ctrl-D.\n",
      "  warn(\"To exit: use 'exit', 'quit', or Ctrl-D.\", stacklevel=1)\n"
     ]
    }
   ],
   "source": [
    "sys.stdout.write('aa\\n')\n",
    "sys.stdout.write('bb')\n",
    "sys.exit()"
   ]
  },
  {
   "cell_type": "code",
   "execution_count": 21,
   "id": "4bb6e56e",
   "metadata": {
    "scrolled": true
   },
   "outputs": [
    {
     "name": "stdout",
     "output_type": "stream",
     "text": [
      "5\n",
      "2\n",
      "1\n",
      "2\n",
      "4\n"
     ]
    }
   ],
   "source": [
    "for n in range(5):\n",
    "    print( random.randint(1,5)) # 1 ~ 5 까지 랜덤"
   ]
  },
  {
   "cell_type": "code",
   "execution_count": 23,
   "id": "8d9812a0",
   "metadata": {
    "scrolled": true
   },
   "outputs": [
    {
     "name": "stdout",
     "output_type": "stream",
     "text": [
      "[1, 2, 3, 4, 5]\n",
      "[2, 3, 1, 4, 5]\n"
     ]
    }
   ],
   "source": [
    "myList = [1, 2, 3, 4, 5]\n",
    "print(myList)\n",
    "random.shuffle(myList) # 리스트 요소 재배열\n",
    "print(myList)"
   ]
  },
  {
   "cell_type": "code",
   "execution_count": 24,
   "id": "bcff1776",
   "metadata": {},
   "outputs": [
    {
     "name": "stdout",
     "output_type": "stream",
     "text": [
      "4\n"
     ]
    }
   ],
   "source": [
    "myList = [1, 2, 3, 4, 5]\n",
    "print(random.choice(myList)) # 배열에서 랜덤하게 1개 추출"
   ]
  },
  {
   "cell_type": "code",
   "execution_count": 25,
   "id": "38a942c7",
   "metadata": {
    "scrolled": true
   },
   "outputs": [
    {
     "name": "stdout",
     "output_type": "stream",
     "text": [
      "[2, 5]\n"
     ]
    }
   ],
   "source": [
    "myList = [1, 2, 3, 4, 5]\n",
    "print(random.sample(myList, 2)) # 배열에서 랜덤하게 2개 추출"
   ]
  },
  {
   "cell_type": "code",
   "execution_count": 31,
   "id": "9e24802c",
   "metadata": {},
   "outputs": [
    {
     "name": "stdout",
     "output_type": "stream",
     "text": [
      "초기값:  [1, 2, 3, 4, 5, 6, 7, 8, 9, 10, 11, 12, 13, 14, 15, 16]\n",
      "1 차:  [8, 10, 4, 12, 9, 2]\n",
      "2 차:  [12, 3, 8, 9, 6, 2]\n",
      "3 차:  [12, 14, 16, 4, 9, 6]\n",
      "4 차:  [2, 8, 1, 6, 13, 16]\n",
      "5 차:  [15, 13, 11, 5, 9, 7]\n"
     ]
    }
   ],
   "source": [
    "# 로또 생성기\n",
    "rotto = [n for n in range(1,17)]\n",
    "print(\"초기값: \",rotto)\n",
    "for n in range(5):\n",
    "    print(n+1,'차: ', random.sample(rotto, 6) )"
   ]
  }
 ],
 "metadata": {
  "kernelspec": {
   "display_name": "Python 3 (ipykernel)",
   "language": "python",
   "name": "python3"
  },
  "language_info": {
   "codemirror_mode": {
    "name": "ipython",
    "version": 3
   },
   "file_extension": ".py",
   "mimetype": "text/x-python",
   "name": "python",
   "nbconvert_exporter": "python",
   "pygments_lexer": "ipython3",
   "version": "3.9.1"
  }
 },
 "nbformat": 4,
 "nbformat_minor": 5
}
