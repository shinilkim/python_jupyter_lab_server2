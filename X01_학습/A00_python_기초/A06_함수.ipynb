{
 "cells": [
  {
   "cell_type": "markdown",
   "id": "c3b56ff7",
   "metadata": {},
   "source": [
    "#### 함수 def 함수명(인자...): return"
   ]
  },
  {
   "cell_type": "code",
   "execution_count": null,
   "id": "e7152f68",
   "metadata": {},
   "outputs": [],
   "source": [
    "def getName():\n",
    "    name = '홍길동'\n",
    "    return name\n",
    "print(getName)\n",
    "print(getName())"
   ]
  },
  {
   "cell_type": "code",
   "execution_count": null,
   "id": "29ef67dc",
   "metadata": {},
   "outputs": [],
   "source": [
    "def getNumber(cnt):\n",
    "    cnt **= cnt # cnt 제곱근\n",
    "    return cnt\n",
    "print(getNumber(2))"
   ]
  },
  {
   "cell_type": "code",
   "execution_count": null,
   "id": "f2d7b631",
   "metadata": {},
   "outputs": [],
   "source": [
    "def fn1():\n",
    "    return 10, 20, 30 # 튜플 리턴 (패킹)\n",
    "print(fn1())\n",
    "a, b, c = fn1() # 언패킹\n",
    "print(a, b, c)"
   ]
  },
  {
   "cell_type": "code",
   "execution_count": null,
   "id": "83e45f52",
   "metadata": {},
   "outputs": [],
   "source": [
    "def fn2(a=1): # default 인자: 값이 넘어오지 않으면 default 값을 적용한다.\n",
    "    return a + 1\n",
    "print(fn2())\n",
    "print(fn2(2))"
   ]
  },
  {
   "cell_type": "code",
   "execution_count": null,
   "id": "c76d2751",
   "metadata": {},
   "outputs": [],
   "source": [
    "def fn3():\n",
    "    a = 1\n",
    "    b = 2\n",
    "    print(a,  b, sep=' >> ')\n",
    "fn3()"
   ]
  },
  {
   "cell_type": "code",
   "execution_count": null,
   "id": "658958ae",
   "metadata": {},
   "outputs": [],
   "source": [
    "print('hello') # end default \\n\n",
    "print('hello', end=' ')\n",
    "print(', world', sep=' << ')"
   ]
  },
  {
   "cell_type": "code",
   "execution_count": null,
   "id": "b9f7c8ed",
   "metadata": {},
   "outputs": [],
   "source": [
    "def fn4(*args): # 가변인자: 인자의 갯수가 정해지지 않았다.\n",
    "    return args # 튜플로 리턴한다.\n",
    "print(fn3())\n",
    "print(fn3(1, 2))\n",
    "print(fn3([1,2,3]))\n",
    "print(fn3({'name':'홍길동'}))"
   ]
  },
  {
   "cell_type": "code",
   "execution_count": null,
   "id": "b154406f",
   "metadata": {},
   "outputs": [],
   "source": [
    "def fn5(*args):\n",
    "    for n in args:\n",
    "        print(n,\"의 원의 면적\", n**2 * 3.14, sep=' => ')\n",
    "fn4(2)"
   ]
  },
  {
   "cell_type": "code",
   "execution_count": null,
   "id": "7f7ea7a2",
   "metadata": {},
   "outputs": [],
   "source": [
    "def fn6(**args):\n",
    "    return args\n",
    "print( fn6(name='홍길동', age=10) ) # dic\n",
    "print( fn6(a=1, b=2, c=3) )         # dic"
   ]
  },
  {
   "cell_type": "code",
   "execution_count": 5,
   "id": "989505b5",
   "metadata": {},
   "outputs": [
    {
     "name": "stdout",
     "output_type": "stream",
     "text": [
      "{a: 100 }\n",
      "{a: 10 }\n"
     ]
    }
   ],
   "source": [
    "g = 10      # 글로벌 변수\n",
    "def fn6():\n",
    "    g = 100 # 로컬(지역) 변수\n",
    "    print(\"{g:\",g,\"}\")\n",
    "fn6()\n",
    "print(\"{g:\",g,\"}\")"
   ]
  },
  {
   "cell_type": "code",
   "execution_count": 6,
   "id": "79bdd4c8",
   "metadata": {},
   "outputs": [
    {
     "name": "stdout",
     "output_type": "stream",
     "text": [
      "100\n"
     ]
    }
   ],
   "source": [
    "g = 10\n",
    "def fn7():\n",
    "    global g # 글로벌 변수\n",
    "    g = 100\n",
    "fn7()\n",
    "print(g)"
   ]
  },
  {
   "cell_type": "code",
   "execution_count": 7,
   "id": "4b9c43f3",
   "metadata": {},
   "outputs": [
    {
     "name": "stdout",
     "output_type": "stream",
     "text": [
      "[1, 2]\n"
     ]
    }
   ],
   "source": [
    "def fn8():\n",
    "    global myList\n",
    "    myList = [1, 2]\n",
    "fn8()\n",
    "print(myList)"
   ]
  },
  {
   "cell_type": "code",
   "execution_count": 8,
   "id": "9b01e6cf",
   "metadata": {},
   "outputs": [
    {
     "name": "stdout",
     "output_type": "stream",
     "text": [
      "['ArithmeticError', 'AssertionError', 'AttributeError', 'BaseException', 'BlockingIOError', 'BrokenPipeError', 'BufferError', 'BytesWarning', 'ChildProcessError', 'ConnectionAbortedError', 'ConnectionError', 'ConnectionRefusedError', 'ConnectionResetError', 'DeprecationWarning', 'EOFError', 'Ellipsis', 'EnvironmentError', 'Exception', 'False', 'FileExistsError', 'FileNotFoundError', 'FloatingPointError', 'FutureWarning', 'GeneratorExit', 'IOError', 'ImportError', 'ImportWarning', 'IndentationError', 'IndexError', 'InterruptedError', 'IsADirectoryError', 'KeyError', 'KeyboardInterrupt', 'LookupError', 'MemoryError', 'ModuleNotFoundError', 'NameError', 'None', 'NotADirectoryError', 'NotImplemented', 'NotImplementedError', 'OSError', 'OverflowError', 'PendingDeprecationWarning', 'PermissionError', 'ProcessLookupError', 'RecursionError', 'ReferenceError', 'ResourceWarning', 'RuntimeError', 'RuntimeWarning', 'StopAsyncIteration', 'StopIteration', 'SyntaxError', 'SyntaxWarning', 'SystemError', 'SystemExit', 'TabError', 'TimeoutError', 'True', 'TypeError', 'UnboundLocalError', 'UnicodeDecodeError', 'UnicodeEncodeError', 'UnicodeError', 'UnicodeTranslateError', 'UnicodeWarning', 'UserWarning', 'ValueError', 'Warning', 'WindowsError', 'ZeroDivisionError', '__IPYTHON__', '__build_class__', '__debug__', '__doc__', '__import__', '__loader__', '__name__', '__package__', '__spec__', 'abs', 'all', 'any', 'ascii', 'bin', 'bool', 'breakpoint', 'bytearray', 'bytes', 'callable', 'chr', 'classmethod', 'compile', 'complex', 'copyright', 'credits', 'delattr', 'dict', 'dir', 'display', 'divmod', 'enumerate', 'eval', 'exec', 'execfile', 'filter', 'float', 'format', 'frozenset', 'get_ipython', 'getattr', 'globals', 'hasattr', 'hash', 'help', 'hex', 'id', 'input', 'int', 'isinstance', 'issubclass', 'iter', 'len', 'license', 'list', 'locals', 'map', 'max', 'memoryview', 'min', 'next', 'object', 'oct', 'open', 'ord', 'pow', 'print', 'property', 'range', 'repr', 'reversed', 'round', 'runfile', 'set', 'setattr', 'slice', 'sorted', 'staticmethod', 'str', 'sum', 'super', 'tuple', 'type', 'vars', 'zip']\n"
     ]
    }
   ],
   "source": [
    "print( dir(__builtins__) ) # 내장함수, 내장변수, 내장 자료형"
   ]
  }
 ],
 "metadata": {
  "kernelspec": {
   "display_name": "Python 3 (ipykernel)",
   "language": "python",
   "name": "python3"
  },
  "language_info": {
   "codemirror_mode": {
    "name": "ipython",
    "version": 3
   },
   "file_extension": ".py",
   "mimetype": "text/x-python",
   "name": "python",
   "nbconvert_exporter": "python",
   "pygments_lexer": "ipython3",
   "version": "3.9.1"
  }
 },
 "nbformat": 4,
 "nbformat_minor": 5
}
