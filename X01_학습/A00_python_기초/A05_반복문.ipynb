{
 "cells": [
  {
   "cell_type": "markdown",
   "id": "6244c92c",
   "metadata": {},
   "source": [
    "#### 반복문 while"
   ]
  },
  {
   "cell_type": "code",
   "execution_count": null,
   "id": "2e9ad6b1",
   "metadata": {},
   "outputs": [],
   "source": [
    "# while\n",
    "a = 0\n",
    "while a < 5: # 조건식의 결과가 True 일 경우에만 반복한다.\n",
    "    print(\"{a: \",a,\"}\")\n",
    "    a += 1\n",
    "    if a >= 3:\n",
    "        break # 반복문을 빠져나간다\n",
    "else: # 반복문이 중단이 되지 않고, 정상적으로 종료된 경우에만 출력된다.\n",
    "    print(\"else\")"
   ]
  },
  {
   "cell_type": "code",
   "execution_count": 2,
   "id": "ab3dd4ba",
   "metadata": {
    "collapsed": true
   },
   "outputs": [
    {
     "name": "stdout",
     "output_type": "stream",
     "text": [
      "{a:  0 }\n",
      "{a:  1 }\n",
      "END\n"
     ]
    }
   ],
   "source": [
    "# while else\n",
    "a = 0\n",
    "while a < 2:\n",
    "    print(\"{a: \",a,\"}\")\n",
    "    a += 1\n",
    "else:\n",
    "    print(\"END\")"
   ]
  },
  {
   "cell_type": "code",
   "execution_count": 3,
   "id": "39e462e3",
   "metadata": {
    "collapsed": true
   },
   "outputs": [
    {
     "name": "stdout",
     "output_type": "stream",
     "text": [
      "1부터 10까지의 합은  55  입니다.\n"
     ]
    }
   ],
   "source": [
    "# while 예제\n",
    "n = 1\n",
    "mySum = 0\n",
    "while n <= 10:\n",
    "    mySum += n\n",
    "    n += 1\n",
    "print(\"1부터 10까지의 합은 \", mySum, \" 입니다.\")"
   ]
  },
  {
   "cell_type": "markdown",
   "id": "e99bde9b",
   "metadata": {},
   "source": [
    "#### 반복문 for"
   ]
  },
  {
   "cell_type": "code",
   "execution_count": 7,
   "id": "71d18ef5",
   "metadata": {
    "collapsed": true
   },
   "outputs": [
    {
     "name": "stdout",
     "output_type": "stream",
     "text": [
      "1\n",
      "2\n"
     ]
    }
   ],
   "source": [
    "s = '12'      # 문자열\n",
    "for el in s:\n",
    "    print(el)"
   ]
  },
  {
   "cell_type": "code",
   "execution_count": 6,
   "id": "db24d59f",
   "metadata": {
    "collapsed": true
   },
   "outputs": [
    {
     "name": "stdout",
     "output_type": "stream",
     "text": [
      "1\n",
      "2\n"
     ]
    }
   ],
   "source": [
    "myList = [1, 2] # 리스트\n",
    "for el in myList:\n",
    "    print(el)"
   ]
  },
  {
   "cell_type": "code",
   "execution_count": 8,
   "id": "42b6c0b4",
   "metadata": {
    "collapsed": true
   },
   "outputs": [
    {
     "name": "stdout",
     "output_type": "stream",
     "text": [
      "1\n",
      "2\n"
     ]
    }
   ],
   "source": [
    "t = (1,2)       # 튜플\n",
    "for el in t:\n",
    "    print(el)"
   ]
  },
  {
   "cell_type": "code",
   "execution_count": 16,
   "id": "3023037b",
   "metadata": {
    "collapsed": true
   },
   "outputs": [
    {
     "name": "stdout",
     "output_type": "stream",
     "text": [
      "{key: 1 : value: 일 }\n",
      "{key: 2 : value: 이 }\n",
      "1\n",
      "2\n",
      "일\n",
      "이\n",
      "dict_items([(1, '일'), (2, '이')])\n",
      "{k: 1 , v: 일 }\n",
      "{k: 2 , v: 이 }\n"
     ]
    }
   ],
   "source": [
    "d = {1:\"일\", 2:\"이\"} # 딕셔너리\n",
    "for key in d:\n",
    "    print(\"{key:\",key,\": value:\",d[key],\"}\")\n",
    "for n in d.keys(): print(n)\n",
    "for n in d.values(): print(n)\n",
    "print(d.items())\n",
    "for k, v in d.items():\n",
    "    print(\"{k:\",k,\", v:\",v,\"}\")"
   ]
  },
  {
   "cell_type": "code",
   "execution_count": 25,
   "id": "ef53bb03",
   "metadata": {
    "collapsed": true
   },
   "outputs": [
    {
     "name": "stdout",
     "output_type": "stream",
     "text": [
      "str:one, num:1\n",
      "str:two, num:2\n"
     ]
    }
   ],
   "source": [
    "myList = [{\"str\":'one', \"num\":1},{\"str\":'two', \"num\":2},]\n",
    "for el in myList:\n",
    "    print('str:%(str)s, num:%(num)d' % el)"
   ]
  },
  {
   "cell_type": "code",
   "execution_count": 18,
   "id": "7225f167",
   "metadata": {
    "collapsed": true
   },
   "outputs": [
    {
     "name": "stdout",
     "output_type": "stream",
     "text": [
      "1 one\n",
      "2 two\n"
     ]
    }
   ],
   "source": [
    "myList = [(1,'one'), (2,'two')]\n",
    "for k, v in myList:\n",
    "    print(k, v)"
   ]
  },
  {
   "cell_type": "code",
   "execution_count": 29,
   "id": "7f568d9d",
   "metadata": {},
   "outputs": [
    {
     "name": "stdout",
     "output_type": "stream",
     "text": [
      "range(1, 2, 3)\n",
      "[1, 3, 5, 7, 9]\n"
     ]
    }
   ],
   "source": [
    "print(range(1, 2, 3))\n",
    "print( list(range(1, 10, 2)) ) # 1 부터 9까지 2씩 증가"
   ]
  },
  {
   "cell_type": "code",
   "execution_count": 30,
   "id": "82517da2",
   "metadata": {},
   "outputs": [
    {
     "name": "stdout",
     "output_type": "stream",
     "text": [
      "1부터 10까지의 합은  55  입니다.\n"
     ]
    }
   ],
   "source": [
    "mySum = 0\n",
    "for n in range(1, 11, 1):\n",
    "    mySum += n\n",
    "print(\"1부터 10까지의 합은 \", mySum, \" 입니다.\")"
   ]
  },
  {
   "cell_type": "code",
   "execution_count": 33,
   "id": "766bc0df",
   "metadata": {},
   "outputs": [
    {
     "name": "stdout",
     "output_type": "stream",
     "text": [
      "1\n"
     ]
    }
   ],
   "source": [
    "for n in range(1, 11):\n",
    "    if n == 2:\n",
    "        continue\n",
    "    elif n == 3:\n",
    "        break\n",
    "    print(n)\n",
    "else:\n",
    "    print(\"else\")"
   ]
  },
  {
   "cell_type": "code",
   "execution_count": 36,
   "id": "6a7f1a32",
   "metadata": {},
   "outputs": [
    {
     "name": "stdout",
     "output_type": "stream",
     "text": [
      "[1, 2, 3, 4, 5]\n",
      "[2, 4, 6, 8, 10]\n",
      "[1, 1, 1]\n"
     ]
    }
   ],
   "source": [
    "# 축약문법 => 내장리스티: [ 변수  for .. in .. if ]\n",
    "my = [ n for n in range(1,6) ]\n",
    "print(my)\n",
    "my = [ n*2 for n in range(1,6,1)]\n",
    "print(my)\n",
    "my = [ n%2 for n in range(1,6,2)]\n",
    "print(my)"
   ]
  },
  {
   "cell_type": "code",
   "execution_count": 37,
   "id": "0756f854",
   "metadata": {},
   "outputs": [
    {
     "name": "stdout",
     "output_type": "stream",
     "text": [
      "[96.7, 193.4, 290.1]\n"
     ]
    }
   ],
   "source": [
    "# 급여 - 급여 * 0.003 => 3.3% 제외한 실 수령액\n",
    "salary = [100, 200, 300]\n",
    "pay = [ n-n*0.033 for n in salary]\n",
    "print(pay)"
   ]
  },
  {
   "cell_type": "code",
   "execution_count": 38,
   "id": "395a6bfa",
   "metadata": {},
   "outputs": [
    {
     "name": "stdout",
     "output_type": "stream",
     "text": [
      "[2, 4, 6, 8, 10]\n"
     ]
    }
   ],
   "source": [
    "data = [ n for n in range(1,11) if n%2==0 ]\n",
    "print(data)"
   ]
  }
 ],
 "metadata": {
  "kernelspec": {
   "display_name": "Python 3 (ipykernel)",
   "language": "python",
   "name": "python3"
  },
  "language_info": {
   "codemirror_mode": {
    "name": "ipython",
    "version": 3
   },
   "file_extension": ".py",
   "mimetype": "text/x-python",
   "name": "python",
   "nbconvert_exporter": "python",
   "pygments_lexer": "ipython3",
   "version": "3.9.1"
  }
 },
 "nbformat": 4,
 "nbformat_minor": 5
}
