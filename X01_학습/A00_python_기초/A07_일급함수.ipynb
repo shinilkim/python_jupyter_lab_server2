{
 "cells": [
  {
   "cell_type": "markdown",
   "id": "f5c6b0a7",
   "metadata": {},
   "source": [
    "#### 일급함수: 1. 함수의 할당  2. 함수의 리턴  3. 함수의 인자  4. 함수내 함수정의"
   ]
  },
  {
   "cell_type": "code",
   "execution_count": null,
   "id": "517cee98",
   "metadata": {},
   "outputs": [],
   "source": [
    "# 01. 함수 할당\n",
    "def fn():\n",
    "    print('hello')\n",
    "fn1 = fn\n",
    "fn()\n",
    "fn1()"
   ]
  },
  {
   "cell_type": "code",
   "execution_count": 1,
   "id": "b5c81a8f",
   "metadata": {},
   "outputs": [
    {
     "name": "stdout",
     "output_type": "stream",
     "text": [
      "hello\n"
     ]
    }
   ],
   "source": [
    "# 02. 함수의 리턴\n",
    "def fn():\n",
    "    print('hello')\n",
    "def my(a):\n",
    "    print(id(a))\n",
    "    a()\n",
    "def my1():\n",
    "    return fn\n",
    "rst = my1()\n",
    "rst()"
   ]
  },
  {
   "cell_type": "code",
   "execution_count": 2,
   "id": "f9fb88f3",
   "metadata": {},
   "outputs": [
    {
     "name": "stdout",
     "output_type": "stream",
     "text": [
      "4376909856\n",
      "4376909856\n",
      "hello\n"
     ]
    }
   ],
   "source": [
    "# 03. 함수의 인자\n",
    "def fn():\n",
    "    print('hello')\n",
    "def my(a):\n",
    "    print(id(a))\n",
    "    a()\n",
    "print(id(fn))\n",
    "my(fn)\n"
   ]
  },
  {
   "cell_type": "code",
   "execution_count": 3,
   "id": "ae6e567f",
   "metadata": {},
   "outputs": [
    {
     "name": "stdout",
     "output_type": "stream",
     "text": [
      "메뉴 선택:0\n",
      "afn\n"
     ]
    }
   ],
   "source": [
    "# python 에는 swith 문이 없고, 아래와 같이 응용해서 사용한다.\n",
    "def afn(): print('afn')\n",
    "def bfn(): print('bfn')\n",
    "d = {0:afn, 1:bfn}\n",
    "menu = int(input(\"메뉴 선택:\"))\n",
    "d[menu]()"
   ]
  }
 ],
 "metadata": {
  "kernelspec": {
   "display_name": "Python 3 (ipykernel)",
   "language": "python",
   "name": "python3"
  },
  "language_info": {
   "codemirror_mode": {
    "name": "ipython",
    "version": 3
   },
   "file_extension": ".py",
   "mimetype": "text/x-python",
   "name": "python",
   "nbconvert_exporter": "python",
   "pygments_lexer": "ipython3",
   "version": "3.9.1"
  }
 },
 "nbformat": 4,
 "nbformat_minor": 5
}