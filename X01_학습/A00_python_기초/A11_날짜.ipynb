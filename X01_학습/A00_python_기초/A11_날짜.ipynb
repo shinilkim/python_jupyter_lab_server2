{
 "cells": [
  {
   "cell_type": "code",
   "execution_count": 25,
   "id": "7d2c4249",
   "metadata": {},
   "outputs": [
    {
     "name": "stdout",
     "output_type": "stream",
     "text": [
      "1)  2022-01-01 11:10:15\n",
      "2)  2022년 1월 1일 11시 10분 15초\n",
      "3)  1978-03-10 10:11:12\n",
      "4)  2022-01-21 23:53:44.862529\n",
      "2022.01.21 PM\n"
     ]
    }
   ],
   "source": [
    "import datetime\n",
    "dt = datetime.date(2022,1,1)\n",
    "tm = datetime.time(11,10,15)\n",
    "print(\"1) \", dt, tm)\n",
    "print(\"2)  \", dt.year,\"년 \",dt.month,\"월 \", dt.day,\"일 \", tm.hour,\"시 \",tm.minute,\"분 \",tm.second,\"초\",sep='')\n",
    "\n",
    "dttm = datetime.datetime(1978,3,10,10,11,12)\n",
    "print(\"3) \", dttm)\n",
    "\n",
    "dttm = datetime.datetime.now()\n",
    "print(\"4) \", dttm)\n",
    "\n",
    "print( dttm.strftime(\"%Y.%m.%d %p\") )"
   ]
  }
 ],
 "metadata": {
  "kernelspec": {
   "display_name": "Python 3 (ipykernel)",
   "language": "python",
   "name": "python3"
  },
  "language_info": {
   "codemirror_mode": {
    "name": "ipython",
    "version": 3
   },
   "file_extension": ".py",
   "mimetype": "text/x-python",
   "name": "python",
   "nbconvert_exporter": "python",
   "pygments_lexer": "ipython3",
   "version": "3.9.1"
  }
 },
 "nbformat": 4,
 "nbformat_minor": 5
}
