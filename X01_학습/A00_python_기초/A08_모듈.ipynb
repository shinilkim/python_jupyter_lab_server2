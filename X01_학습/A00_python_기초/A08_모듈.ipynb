{
 "cells": [
  {
   "cell_type": "markdown",
   "id": "1518c354",
   "metadata": {},
   "source": [
    "#### 모듈"
   ]
  },
  {
   "cell_type": "code",
   "execution_count": null,
   "id": "f3940f76",
   "metadata": {},
   "outputs": [],
   "source": [
    "import sys\n",
    "for item in sys.path:\n",
    "    print(item)"
   ]
  },
  {
   "cell_type": "code",
   "execution_count": null,
   "id": "9e6a691c",
   "metadata": {},
   "outputs": [],
   "source": [
    "import sys\n",
    "sys.path.append(\"C:\\home\\workspace\\python\\python_jupyter_server\\X01_학습\\A00_python_기초\") # 경로에 모듈 위치 추가\n",
    "import mymodule as m\n",
    "print(m.hap(1,2))\n",
    "\n",
    "# 윈도우 계열 패스 지정\n",
    "#set PYTHONAPTH=%PYTHONPATH;지정하고싶은경로"
   ]
  },
  {
   "cell_type": "code",
   "execution_count": null,
   "id": "f164df85",
   "metadata": {},
   "outputs": [],
   "source": [
    "# python -m py_compile mymodule.py ==> aa.pyc\n",
    "import mymodule as m # 확장자: py(원시소스), pyc(원시소스 컴파일), pyd\n",
    "\n",
    "print(m.hap(1, 2))\n",
    "print(m.gop(1, 2))"
   ]
  },
  {
   "cell_type": "code",
   "execution_count": 1,
   "id": "a4ccf494",
   "metadata": {
    "collapsed": true
   },
   "outputs": [
    {
     "name": "stdout",
     "output_type": "stream",
     "text": [
      "30\n",
      "200\n"
     ]
    }
   ],
   "source": [
    "from mymodule import hap, gop # from 모듈명 import 사용하고 싶은 함수명\n",
    "print(hap(1, 2))\n",
    "print(gop(1, 2))"
   ]
  },
  {
   "cell_type": "code",
   "execution_count": 2,
   "id": "6af59744",
   "metadata": {},
   "outputs": [
    {
     "name": "stdout",
     "output_type": "stream",
     "text": [
      "3\n",
      "2\n"
     ]
    }
   ],
   "source": [
    "from mymodule import * # mymodule에 있는 모든 함수를 사용 한다.\n",
    "print(hap(1, 2))\n",
    "print(gop(1, 2))"
   ]
  }
 ],
 "metadata": {
  "kernelspec": {
   "display_name": "Python 3 (ipykernel)",
   "language": "python",
   "name": "python3"
  },
  "language_info": {
   "codemirror_mode": {
    "name": "ipython",
    "version": 3
   },
   "file_extension": ".py",
   "mimetype": "text/x-python",
   "name": "python",
   "nbconvert_exporter": "python",
   "pygments_lexer": "ipython3",
   "version": "3.9.1"
  }
 },
 "nbformat": 4,
 "nbformat_minor": 5
}