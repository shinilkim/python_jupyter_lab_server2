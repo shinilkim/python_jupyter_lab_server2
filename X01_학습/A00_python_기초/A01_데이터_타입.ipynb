{
 "cells": [
  {
   "cell_type": "markdown",
   "id": "078179f3",
   "metadata": {},
   "source": [
    "### 파이썬 데이터 타입\n",
    "1. 변수 명명 규칙\n",
    "- [_a-zA-Z0-9]*, 한글\n",
    "- 정상: a, a1, my_name, your_job, myName, _private, __Private_member\n",
    "- 오류: 1abc, @file, %x\n",
    "2. 기본타입 - 정수\n",
    "3. 기본타입 - 실수\n",
    "4. 기본타입 - 복소수\n",
    "5. 기본타입 - bool 타입\n",
    "6. 문자열\n",
    "7. 문자열, 바이트 타입\n",
    "8. 리스트, 튜플, 세트, 딕셔너리, 인덱싱 슬라이싱"
   ]
  },
  {
   "cell_type": "markdown",
   "id": "843b4e52",
   "metadata": {},
   "source": [
    "### 정수"
   ]
  },
  {
   "cell_type": "code",
   "execution_count": 1,
   "id": "e00f7e20",
   "metadata": {
    "scrolled": true
   },
   "outputs": [
    {
     "name": "stdout",
     "output_type": "stream",
     "text": [
      "{a: 10 , type: <class 'int'> }\n",
      "{a: 12345678909876543218888888888888888888888888888888 , type: <class 'int'> }\n"
     ]
    }
   ],
   "source": [
    "a = 10\n",
    "print(\"{a:\",a,\", type:\",type(a),\"}\")\n",
    "a = 12345678909876543218888888888888888888888888888888\n",
    "print(\"{a:\",a,\", type:\",type(a),\"}\")R"
   ]
  },
  {
   "cell_type": "markdown",
   "id": "5867f7f1",
   "metadata": {},
   "source": [
    "### 실수"
   ]
  },
  {
   "cell_type": "code",
   "execution_count": 2,
   "id": "6e68e4c7",
   "metadata": {
    "scrolled": true
   },
   "outputs": [
    {
     "name": "stdout",
     "output_type": "stream",
     "text": [
      "{a: 3.14 , type: <class 'float'> }\n"
     ]
    }
   ],
   "source": [
    "a = 3.14\n",
    "print(\"{a:\",a,\", type:\",type(a),\"}\")"
   ]
  },
  {
   "cell_type": "markdown",
   "id": "401f7d67",
   "metadata": {},
   "source": [
    "### 복소수(complex)"
   ]
  },
  {
   "cell_type": "code",
   "execution_count": null,
   "id": "0be9c849",
   "metadata": {},
   "outputs": [],
   "source": [
    "a = 3 + 4j  # 3:실수, 4j:허수\n",
    "print(\"{a:\",a,\", type:\",type(a),\", imag(허수):\",a.imag,\", real(실수):\",a.real,\", conjugate(컬레복소수):\",a.conjugate(),\"}\")"
   ]
  },
  {
   "cell_type": "markdown",
   "id": "6ded4fb5",
   "metadata": {},
   "source": [
    "### bool"
   ]
  },
  {
   "cell_type": "code",
   "execution_count": null,
   "id": "c91e61b4",
   "metadata": {
    "scrolled": true
   },
   "outputs": [],
   "source": [
    "a = True\n",
    "b = False\n",
    "print(\"{a:\",a,\", type:\",type(a),\",b:\",b,\", type:\",type(b),\"}\")"
   ]
  },
  {
   "cell_type": "markdown",
   "id": "e713234d",
   "metadata": {},
   "source": [
    "### 문자열 데이터 타입\n",
    "1. 문자열: 시퀀스 여러개의 데이터\n",
    "2. str\n",
    "3. 순서있는 데이터 타입(배열: 인데스, 슬라이싱[시작:끝:증가치])\n",
    "4. immutable 데이터 타입(읽기 전용 타입: 상수)"
   ]
  },
  {
   "cell_type": "code",
   "execution_count": null,
   "id": "d3771a6c",
   "metadata": {},
   "outputs": [],
   "source": [
    "s1 = \"abc\"\n",
    "s2 = 'abc'\n",
    "s3 = \"\"\"abc\"\"\"\n",
    "s4 = '''abc'''\n",
    "print(\"{s1:\",s1,\", type:\",type(s1),\"}\")\n",
    "print(\"{s2:\",s2,\", type:\",type(s2),\"}\")\n",
    "print(\"{s3:\",s3,\", type:\",type(s3),\"}\")"
   ]
  },
  {
   "cell_type": "code",
   "execution_count": 3,
   "id": "7382ea14",
   "metadata": {},
   "outputs": [
    {
     "name": "stdout",
     "output_type": "stream",
     "text": [
      "{s1[0]: 0 , s1[2]: 2 }\n",
      "{s1[0:4:1]:  0123 , s1[1:4]:  123 , s1[:4:1]:  0123 , s1[-1:-2:-1]:  9 }\n"
     ]
    }
   ],
   "source": [
    "s1 = '0123456789'\n",
    "print(\"{s1[0]:\",s1[0],\", s1[2]:\",s1[2],\"}\")\n",
    "print(\"{s1[0:4:1]: \",s1[0:4:1],\", s1[1:4]: \",s1[1:4],\", s1[:4:1]: \",s1[:4:1],\", s1[-1:-2:-1]: \",s1[-1:-2:-1],\"}\")"
   ]
  },
  {
   "cell_type": "code",
   "execution_count": 4,
   "id": "7736eeb8",
   "metadata": {},
   "outputs": [
    {
     "name": "stdout",
     "output_type": "stream",
     "text": [
      "{s1*2: kimbyoungkikimbyoungki }\n"
     ]
    }
   ],
   "source": [
    "s1 = 'kimbyoungki'\n",
    "print(\"{s1*2:\",s1*2,\"}\")"
   ]
  },
  {
   "cell_type": "code",
   "execution_count": 6,
   "id": "f36e1f5c",
   "metadata": {},
   "outputs": [
    {
     "name": "stdout",
     "output_type": "stream",
     "text": [
      "a=        10   |    b=3.140000    |    s=abc\n"
     ]
    }
   ],
   "source": [
    "a = 10\n",
    "b = 3.14\n",
    "s = 'abc'\n",
    "s1 = \"a=%10d   |    b=%f    |    s=%s\" % (a, b, s) # 문자열 포멧팅\n",
    "print(s1)"
   ]
  },
  {
   "cell_type": "code",
   "execution_count": 7,
   "id": "26301b88",
   "metadata": {},
   "outputs": [
    {
     "name": "stdout",
     "output_type": "stream",
     "text": [
      "{s1: b'abc' type: <class 'bytes'> , s2: abc type: <class 'str'> , s3: b'abc' type: <class 'bytes'> }\n"
     ]
    }
   ],
   "source": [
    "# 장비와 통신하기 위해서는 기본적으로 byte 단위로 전송을 해야 하므로 이럴때 사용하게 된다.\n",
    "s1 = b'abc'             # 문자열 > byte\n",
    "s2 = s1.decode('utf-8') # byte > 문자열\n",
    "s3 = s2.encode('utf-8') # 문자열 > byte\n",
    "print(\"{s1:\",s1,\"type:\",type(s1),\", s2:\",s2,\"type:\",type(s2),\", s3:\",s3,\"type:\",type(s3),\"}\")"
   ]
  }
 ],
 "metadata": {
  "kernelspec": {
   "display_name": "Python 3 (ipykernel)",
   "language": "python",
   "name": "python3"
  },
  "language_info": {
   "codemirror_mode": {
    "name": "ipython",
    "version": 3
   },
   "file_extension": ".py",
   "mimetype": "text/x-python",
   "name": "python",
   "nbconvert_exporter": "python",
   "pygments_lexer": "ipython3",
   "version": "3.9.1"
  }
 },
 "nbformat": 4,
 "nbformat_minor": 5
}
