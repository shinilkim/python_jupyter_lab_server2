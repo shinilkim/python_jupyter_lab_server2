{
 "cells": [
  {
   "cell_type": "markdown",
   "id": "8182b693",
   "metadata": {},
   "source": [
    "#### 흐름제어"
   ]
  },
  {
   "cell_type": "code",
   "execution_count": 2,
   "id": "f6caadd7",
   "metadata": {
    "scrolled": true
   },
   "outputs": [
    {
     "name": "stdout",
     "output_type": "stream",
     "text": [
      "삼\n"
     ]
    }
   ],
   "source": [
    "# 기본 제어문\n",
    "a = 3\n",
    "if a == 3:\n",
    "    print(\"삼\")\n",
    "elif a > 3:\n",
    "    print(\"a는 3 보다 크다\")\n",
    "elif a < 3:\n",
    "    print(\"a는 3 보다 작다\")\n",
    "else:\n",
    "    print(\"그 외\")"
   ]
  },
  {
   "cell_type": "code",
   "execution_count": 1,
   "id": "2cd6bbd9",
   "metadata": {},
   "outputs": [
    {
     "name": "stdin",
     "output_type": "stream",
     "text": [
      "정수 입력: 2\n"
     ]
    },
    {
     "name": "stdout",
     "output_type": "stream",
     "text": [
      "입력하신 숫자는 짝수 입니다.\n"
     ]
    }
   ],
   "source": [
    "# 사용자로 부터 숫자를 입력받아서 홀수 인지 짝수 인지 판별한다.\n",
    "num = int(input(\"정수 입력:\"))\n",
    "if num % 2 == 0:\n",
    "    print(\"입력하신 숫자는 짝수 입니다.\")\n",
    "else:\n",
    "    print(\"입력하신 숫자는 홀수 입니다.\")"
   ]
  },
  {
   "cell_type": "code",
   "execution_count": 13,
   "id": "5b5b8a36",
   "metadata": {
    "scrolled": true
   },
   "outputs": [
    {
     "name": "stdout",
     "output_type": "stream",
     "text": [
      "else\n",
      "OK\n"
     ]
    }
   ],
   "source": [
    "if 0: print(\"0\") \n",
    "else: print(\"else\")\n",
    "if \"OK\": print(\"OK\")\n",
    "else: print(\"else\")"
   ]
  },
  {
   "cell_type": "code",
   "execution_count": 16,
   "id": "866cdec8",
   "metadata": {},
   "outputs": [
    {
     "name": "stdout",
     "output_type": "stream",
     "text": [
      "100\n",
      "정수입력:1\n",
      "홀수\n",
      "0\n",
      "{a:  0 }\n",
      "{a:  1 }\n",
      "END\n"
     ]
    }
   ],
   "source": [
    "a = 3\n",
    "rst = 100 if a > 0 else 200 # a > 0 ? 100 : 200 (삼항연산자)\n",
    "print(rst)\n",
    "\n",
    "n = int(input(\"정수입력:\"))\n",
    "rst = \"짝수\" if n % 2 == 0 else \"홀수\"\n",
    "print(rst)"
   ]
  }
 ],
 "metadata": {
  "kernelspec": {
   "display_name": "Python 3 (ipykernel)",
   "language": "python",
   "name": "python3"
  },
  "language_info": {
   "codemirror_mode": {
    "name": "ipython",
    "version": 3
   },
   "file_extension": ".py",
   "mimetype": "text/x-python",
   "name": "python",
   "nbconvert_exporter": "python",
   "pygments_lexer": "ipython3",
   "version": "3.9.1"
  }
 },
 "nbformat": 4,
 "nbformat_minor": 5
}
