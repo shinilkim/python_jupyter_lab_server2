{
 "cells": [
  {
   "cell_type": "markdown",
   "id": "dc20e726",
   "metadata": {},
   "source": [
    "#### 파일\n",
    "1. 파일객체 = open(파일명, 모드, 인코딩) => 파일객체 리턴 => r:읽기모드, w:쓰기모드, a:추가모드(마지막에 내용 추가)\n",
    "2. 파일객체 멤버함수: write | read | readline | readlines | seek | tell | close"
   ]
  },
  {
   "cell_type": "code",
   "execution_count": 1,
   "id": "a93404d4",
   "metadata": {},
   "outputs": [
    {
     "name": "stdout",
     "output_type": "stream",
     "text": [
      "파일위치:  0\n",
      "파일위치:  17\n",
      "20\n"
     ]
    }
   ],
   "source": [
    "# 파일 만들기\n",
    "import time, os\n",
    "if not os.path.isdir(\"sample\"): # sample 디렉토리가 없으면 생성\n",
    "    os.mkdir(\"sample\")\n",
    "fp = open(\"./sample/test.txt\", \"w\")\n",
    "print(\"파일위치: \",fp.tell())\n",
    "fp.write(\"이름: 홍길동\")\n",
    "print(\"파일위치: \",fp.tell())\n",
    "print(fp.seek(20))\n",
    "_time = time.strftime('%Y-%m-%d', time.localtime(time.time()))\n",
    "fp.write(\"\\n\"+ _time)\n",
    "fp.close()"
   ]
  },
  {
   "cell_type": "code",
   "execution_count": 2,
   "id": "cf3c1037",
   "metadata": {
    "scrolled": true
   },
   "outputs": [
    {
     "name": "stdout",
     "output_type": "stream",
     "text": [
      "이름: 홍길동\u0000\u0000\u0000\n",
      "2022-02-11\n"
     ]
    }
   ],
   "source": [
    "# 파일 읽기\n",
    "fp = open(\"./sample/test.txt\", \"r\")\n",
    "rd = fp.read() # 파일 내용을 전체 읽는다.\n",
    "fp.close()\n",
    "print(rd)"
   ]
  },
  {
   "cell_type": "code",
   "execution_count": 3,
   "id": "eb546b92",
   "metadata": {},
   "outputs": [
    {
     "name": "stdout",
     "output_type": "stream",
     "text": [
      "이름: 홍길동\u0000\u0000\u0000\n",
      "\n",
      "2022-02-11\n"
     ]
    }
   ],
   "source": [
    "# 라인 단위로 읽기\n",
    "fp = open(\"./sample/test.txt\", \"r\")\n",
    "for r in fp:\n",
    "    print(r)\n",
    "fp.close()"
   ]
  },
  {
   "cell_type": "code",
   "execution_count": 4,
   "id": "97eb550d",
   "metadata": {},
   "outputs": [
    {
     "name": "stdout",
     "output_type": "stream",
     "text": [
      "이름:\n"
     ]
    }
   ],
   "source": [
    "fp = open(\"./sample/test.txt\", \"r\")\n",
    "rd = fp.read(3) # 문자열 3개을 읽는다.\n",
    "fp.close()\n",
    "print(rd)"
   ]
  },
  {
   "cell_type": "code",
   "execution_count": 5,
   "id": "c959accb",
   "metadata": {},
   "outputs": [
    {
     "name": "stdout",
     "output_type": "stream",
     "text": [
      "['이름: 홍길동\\x00\\x00\\x00\\n', '2022-02-11']\n"
     ]
    }
   ],
   "source": [
    "fp = open(\"./sample/test.txt\", \"r\")\n",
    "rd = fp.readlines() # 라인 단위를 리스트 형태로 반환\n",
    "print(rd)"
   ]
  },
  {
   "cell_type": "markdown",
   "id": "5b5e55e2",
   "metadata": {},
   "source": [
    "#### 디렉토리"
   ]
  },
  {
   "cell_type": "code",
   "execution_count": 6,
   "id": "30db9b2c",
   "metadata": {
    "scrolled": true
   },
   "outputs": [
    {
     "name": "stdout",
     "output_type": "stream",
     "text": [
      "1) 현재경로:  /Users/formulate/PycharmProjects/python_jupyter_lab_server/X01_학습/A00_python_기초\n",
      "2) 목록:\n",
      " ['A09_패키지.ipynb', 'A03_관계논리_연산자.ipynb', 'A12_sys 모듈.ipynb', 'A01_데이터_타입.ipynb', 'A05_반복문.ipynb', '__pycache__', 'A10_파일_디렉토리.ipynb', 'A04_조건식.ipynb', 'sample', 'mymodule.py', 'A08_모듈.ipynb', 'A06_함수.ipynb', 'A11_날짜.ipynb', 'A02_데이터_타입_시퀀스.ipynb', 'A07_일급함수.ipynb', 'package']\n",
      "3) 현재목록:\n",
      " ['A09_패키지.ipynb', 'A03_관계논리_연산자.ipynb', 'A12_sys 모듈.ipynb', 'A01_데이터_타입.ipynb', 'A05_반복문.ipynb', '__pycache__', 'A10_파일_디렉토리.ipynb', 'A04_조건식.ipynb', 'sample', 'mymodule.py', 'A08_모듈.ipynb', 'A06_함수.ipynb', 'A11_날짜.ipynb', 'A02_데이터_타입_시퀀스.ipynb', 'A07_일급함수.ipynb', 'package']\n"
     ]
    }
   ],
   "source": [
    "import os\n",
    "print(\"1) 현재경로: \",os.getcwd())\n",
    "print(\"2) 목록:\\n\",os.listdir())\n",
    "print(\"3) 현재목록:\\n\",os.listdir(os.getcwd())) # 현재 디렉토리의 파일 목록"
   ]
  },
  {
   "cell_type": "code",
   "execution_count": 7,
   "id": "5aa2b8c6",
   "metadata": {},
   "outputs": [
    {
     "name": "stdout",
     "output_type": "stream",
     "text": [
      "True\n",
      "True\n"
     ]
    }
   ],
   "source": [
    "import os\n",
    "print( os.path.isdir(\"sample\") ) # 현재 경로에 sample 디렉토리가 있는지?\n",
    "print( os.path.isfile(\"A01_데이터_타입.ipynb\") ) # 현재 경로에 파일이 있는지?"
   ]
  },
  {
   "cell_type": "code",
   "execution_count": 8,
   "id": "9333e113",
   "metadata": {},
   "outputs": [
    {
     "name": "stdout",
     "output_type": "stream",
     "text": [
      "/Users/formulate/PycharmProjects/python_jupyter_lab_server/X01_학습/A00_python_기초/my\n"
     ]
    }
   ],
   "source": [
    "import os\n",
    "print( os.path.join(os.getcwd(), \"my\") ) # 현재 경로에 my 경로 추가"
   ]
  },
  {
   "cell_type": "code",
   "execution_count": 9,
   "id": "039e99a3",
   "metadata": {},
   "outputs": [
    {
     "name": "stderr",
     "output_type": "stream",
     "text": [
      "sh: notepad: command not found\n"
     ]
    },
    {
     "data": {
      "text/plain": "32512"
     },
     "execution_count": 9,
     "metadata": {},
     "output_type": "execute_result"
    }
   ],
   "source": [
    "import os\n",
    "os.system('notepad') # notepad 프로그램을 호출한다."
   ]
  },
  {
   "cell_type": "code",
   "execution_count": 10,
   "id": "697a9347",
   "metadata": {
    "scrolled": true
   },
   "outputs": [
    {
     "name": "stdout",
     "output_type": "stream",
     "text": [
      "\n"
     ]
    },
    {
     "name": "stderr",
     "output_type": "stream",
     "text": [
      "/bin/sh: dir: command not found\n"
     ]
    }
   ],
   "source": [
    "import os\n",
    "s = os.popen(\"dir\").read() # cmd 에서 커맨드 명령어 실행 결과를 받아온다\n",
    "print(s)"
   ]
  },
  {
   "cell_type": "code",
   "execution_count": 11,
   "id": "041f55e9",
   "metadata": {},
   "outputs": [
    {
     "name": "stdout",
     "output_type": "stream",
     "text": [
      "['mymodule.py']\n",
      "['A09_패키지.ipynb', 'A03_관계논리_연산자.ipynb', 'A12_sys 모듈.ipynb', 'A01_데이터_타입.ipynb', 'A05_반복문.ipynb', 'A10_파일_디렉토리.ipynb', 'A04_조건식.ipynb', 'A08_모듈.ipynb', 'A06_함수.ipynb', 'A11_날짜.ipynb', 'A02_데이터_타입_시퀀스.ipynb', 'A07_일급함수.ipynb']\n"
     ]
    }
   ],
   "source": [
    "import os, glob\n",
    "print(glob.glob('*.py')) # 확장자가 py 인 파일명을 배열로 리턴\n",
    "print(glob.glob('[ABC]*.ipynb')) # A or B or C로 시작하면서 확장자가 ipynb 인 목록 리턴"
   ]
  }
 ],
 "metadata": {
  "kernelspec": {
   "display_name": "Python 3 (ipykernel)",
   "language": "python",
   "name": "python3"
  },
  "language_info": {
   "codemirror_mode": {
    "name": "ipython",
    "version": 3
   },
   "file_extension": ".py",
   "mimetype": "text/x-python",
   "name": "python",
   "nbconvert_exporter": "python",
   "pygments_lexer": "ipython3",
   "version": "3.9.1"
  }
 },
 "nbformat": 4,
 "nbformat_minor": 5
}