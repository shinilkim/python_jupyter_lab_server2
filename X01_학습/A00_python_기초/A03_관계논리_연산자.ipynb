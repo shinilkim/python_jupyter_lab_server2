{
 "cells": [
  {
   "cell_type": "markdown",
   "id": "fd253e8a",
   "metadata": {},
   "source": [
    "### 비교(관계, 논리) 연산자"
   ]
  },
  {
   "cell_type": "markdown",
   "id": "36fddafb",
   "metadata": {},
   "source": [
    "#### 리스트 {순서:Y, 인덱스:Y, 슬라이싱:Y, 변경:Y}"
   ]
  },
  {
   "cell_type": "code",
   "execution_count": 9,
   "id": "cb871279",
   "metadata": {
    "collapsed": true
   },
   "outputs": [
    {
     "name": "stdout",
     "output_type": "stream",
     "text": [
      "False  1 < 0\n",
      "True  1 <= 1\n",
      "False  0 == 1\n",
      "True  1 < a < 20\n",
      "False  1 < a < 20 and 1 > a > 20\n",
      "True  1 < a < 20 or 1 > a > 20\n",
      "False  not 1 < a < 20 or 1 > a > 20\n"
     ]
    }
   ],
   "source": [
    "print(1 < 0, \" 1 < 0\")\n",
    "print(1 <=1, \" 1 <= 1\")\n",
    "print(0 == 1,\" 0 == 1\")\n",
    "a = 10\n",
    "print(1 < a < 20, \" 1 < a < 20\") # 일반적인 언어에서는 지원하지 않지만, Python에서는 지원하는 문법\n",
    "print(1 < a < 20 and 1 > a > 20, \" 1 < a < 20 and 1 > a > 20\")\n",
    "print(1 < a < 20 or 1 > a > 20, \" 1 < a < 20 or 1 > a > 20\")\n",
    "print(not 1 < a < 20 or 1 > a > 20, \" not 1 < a < 20 or 1 > a > 20\")"
   ]
  },
  {
   "cell_type": "markdown",
   "id": "9384b395",
   "metadata": {},
   "source": [
    "### 비트 연산자 ( 10진수, 2진수 )"
   ]
  },
  {
   "cell_type": "code",
   "execution_count": 19,
   "id": "696fb4de",
   "metadata": {
    "collapsed": true
   },
   "outputs": [
    {
     "name": "stdout",
     "output_type": "stream",
     "text": [
      "0  => 2 & 1\n",
      "3  => 2 | 1\n",
      "1  => 2 >> 1\n",
      "4  => 2 << 1\n",
      "-4  => -2 << 1\n"
     ]
    }
   ],
   "source": [
    "print(2 & 1, \" => 2 & 1\") # 이진수 10 * 01 => 십진수:2 = 이진수 10 => 십진수:1 : 이진수:01 => & 는 곱하기\n",
    "print(2 | 1, \" => 2 | 1\") # 10 + 01 = 11 => 십진수:3 = 이진수:11\n",
    "print(2 >> 1, \" => 2 >> 1\")\n",
    "print(2 << 1, \" => 2 << 1\")\n",
    "print(-2 << 1, \" => -2 << 1\")"
   ]
  },
  {
   "cell_type": "markdown",
   "id": "dd47ac4e",
   "metadata": {},
   "source": [
    "### 구성 연산자( in: 포함=Y, not in: 포함=N )"
   ]
  },
  {
   "cell_type": "code",
   "execution_count": 27,
   "id": "5a87b66a",
   "metadata": {},
   "outputs": [
    {
     "name": "stdout",
     "output_type": "stream",
     "text": [
      "'hello' in(s) =>  True\n",
      "1 in myList =>  False\n",
      "'name' in myD =>  True\n"
     ]
    }
   ],
   "source": [
    "s = '12345 hello'\n",
    "print(\"'hello' in(s) => \",'hello' in(s) )\n",
    "myList = [1, 2, 3, 4]\n",
    "print(\"1 in myList => \",1 not in myList )\n",
    "myD = {\"name\":\"kimbyoungki\"}\n",
    "print(\"'name' in myD => \",'name' in myD ) # dic 타입에서는 키만 판별 할 수 있다."
   ]
  },
  {
   "cell_type": "markdown",
   "id": "91385ca4",
   "metadata": {},
   "source": [
    "### 식별 연산자 is:객체가 같다 | not is : 객체가 틀리다"
   ]
  },
  {
   "cell_type": "code",
   "execution_count": 39,
   "id": "3f18f2ac",
   "metadata": {
    "collapsed": true
   },
   "outputs": [
    {
     "name": "stdout",
     "output_type": "stream",
     "text": [
      "True  => a is b\n",
      "2427000482384  = id(a) |  2427000482384  = id(b)\n",
      "2427000482384  = id(a) |  2427000482384  = id(c)\n",
      "2427000482384  = id(a) |  2427000482416  = id(c)\n"
     ]
    }
   ],
   "source": [
    "a = 10 # [call by value]\n",
    "b = a  # [call by reference]  b 는 a 의 메모리 주소를 참조한다\n",
    "print(a is b, \" => a is b\")\n",
    "print(id(a),\" = id(a) | \",id(b),\" = id(b)\") # 메모리에 확인\n",
    "c = 10 # python에서는 동일한 값이라면 동일한 메모리 위치를 참조하게 한다.\n",
    "print(id(a),\" = id(a) | \",id(c),\" = id(c)\") # 메모리에 확인\n",
    "c = 11\n",
    "print(id(a),\" = id(a) | \",id(c),\" = id(c)\") # 메모리에 확인"
   ]
  },
  {
   "cell_type": "code",
   "execution_count": 42,
   "id": "7dbda5e9",
   "metadata": {},
   "outputs": [
    {
     "name": "stdout",
     "output_type": "stream",
     "text": [
      "True\n",
      "False\n",
      "list1= 2427078271040 , list2= 2427078271040 , list3= 2427078271232\n"
     ]
    }
   ],
   "source": [
    "list1 = [1,2]\n",
    "list2 = list1 # list2는 list1의 메모리 주소를 참조한다.\n",
    "list3 = list1.copy() # deep copy => 복사해서 새로 생성한다. 그러므로 동일한 메모리를 참조하지 않게 된다.\n",
    "print(list1 is list2)\n",
    "print(list1 is list3)\n",
    "print(\"list1=\", id(list1),\", list2=\", id(list2),\", list3=\", id(list3)) # 메모리 참조 주소 확인"
   ]
  }
 ],
 "metadata": {
  "kernelspec": {
   "display_name": "Python 3 (ipykernel)",
   "language": "python",
   "name": "python3"
  },
  "language_info": {
   "codemirror_mode": {
    "name": "ipython",
    "version": 3
   },
   "file_extension": ".py",
   "mimetype": "text/x-python",
   "name": "python",
   "nbconvert_exporter": "python",
   "pygments_lexer": "ipython3",
   "version": "3.9.1"
  }
 },
 "nbformat": 4,
 "nbformat_minor": 5
}
