{
 "cells": [
  {
   "cell_type": "markdown",
   "id": "fd253e8a",
   "metadata": {},
   "source": [
    "### 시퀀스 데이터 타입\n",
    "1. 순서 있는 데이터 타입( 인덱스:Y, 슬라이싱:Y ) : 리스트, 튜플, 문자열, 바이트\n",
    "2. 변경가능(mutable) 데이터 타입 : 리스트, 딕셔너리, 세트\n",
    "3. 순서없는 데이터 타입( 인덱스:N, 슬라이싱:N ) : 세트, 딕셔너리\n",
    "4. 변경불가능(immutable) 데이터 타입 : 튜플, 문자열, 바이트"
   ]
  },
  {
   "cell_type": "markdown",
   "id": "36fddafb",
   "metadata": {},
   "source": [
    "#### 리스트 {순서:Y, 인덱스:Y, 슬라이싱:Y, 변경:Y}"
   ]
  },
  {
   "cell_type": "code",
   "execution_count": 6,
   "id": "073be8cf",
   "metadata": {
    "collapsed": true,
    "jupyter": {
     "outputs_hidden": true
    }
   },
   "outputs": [
    {
     "name": "stdout",
     "output_type": "stream",
     "text": [
      "{myList: [10, 3.14, True, 'abc'] , type: <class 'list'> , myList[0:3:2]: [10, True] }\n",
      "\n"
     ]
    }
   ],
   "source": [
    "myList = [10, 3.14, True, \"abc\"]\n",
    "print(\"{myList:\",myList,\", type:\",type(myList),\", myList[0:3:2]:\",myList[0:3:2],\"}\") # 슬라이싱 [0:3:2]"
   ]
  },
  {
   "cell_type": "code",
   "execution_count": 15,
   "id": "19d11ee7",
   "metadata": {
    "collapsed": true,
    "jupyter": {
     "outputs_hidden": true
    }
   },
   "outputs": [
    {
     "name": "stdout",
     "output_type": "stream",
     "text": [
      "{myList: [10, 20, 30, 40] }\n",
      "{myList: [10, 20, 30] }\n",
      "{myList: [10, 30] }\n",
      "{myList: [10, 30, 50] }\n",
      "{myList: [100, 30, 50] }\n",
      "{myList: [100, 200, 30, 50] }\n",
      "{myList: [100, 200, 30, 50, 1, 2, 3] }\n",
      "{myList: [100, 200, 30, 50, 1, 2, 3, 4, 5, 6] }\n",
      "{myList: [100, 200, 30, 50, 1, 2, 3, 4, 5, 6, 100, 200, 30, 50, 1, 2, 3, 4, 5, 6] }\n"
     ]
    }
   ],
   "source": [
    "myList = [10, 20, 30, 40]\n",
    "print(\"{myList:\",myList,\"}\")\n",
    "myList.pop() # 마지막 데이터를 삭제\n",
    "print(\"{myList:\",myList,\"}\")\n",
    "myList.pop(1) # 1 번째 데이터를 삭제\n",
    "print(\"{myList:\",myList,\"}\")\n",
    "myList.append(50)\n",
    "print(\"{myList:\",myList,\"}\")\n",
    "myList[0] = 100\n",
    "print(\"{myList:\",myList,\"}\")\n",
    "myList.insert(1, 200)\n",
    "print(\"{myList:\",myList,\"}\")\n",
    "myList.extend([1, 2, 3])\n",
    "print(\"{myList:\",myList,\"}\")\n",
    "myList += [4,5,6]\n",
    "print(\"{myList:\",myList,\"}\")\n",
    "myList *= 2\n",
    "print(\"{myList:\",myList,\"}\")"
   ]
  },
  {
   "cell_type": "code",
   "execution_count": 26,
   "id": "d25c15b1",
   "metadata": {
    "collapsed": true,
    "jupyter": {
     "outputs_hidden": true
    }
   },
   "outputs": [
    {
     "name": "stdout",
     "output_type": "stream",
     "text": [
      "{myList.index(4): 3 }\n",
      "{myList.count(2): 2 }\n",
      "{myList.remove(2): [1, 3, 4, 5, 2] }\n",
      "{len(myList): 5 }\n"
     ]
    }
   ],
   "source": [
    "myList = [1, 2, 3, 4, 5, 2]\n",
    "print(\"{myList.index(4):\",myList.index(4),\"}\") # 인덱스 4번째 데이터\n",
    "print(\"{myList.count(2):\",myList.count(2),\"}\") # 값이 2인 데이터 갯수\n",
    "myList.remove(2)\n",
    "print(\"{myList.remove(2):\",myList,\"}\") # 2 값을 삭제\n",
    "print(\"{len(myList):\",len(myList),\"}\") # 리스트 요소 갯수"
   ]
  },
  {
   "cell_type": "markdown",
   "id": "d2758cc2",
   "metadata": {},
   "source": [
    "#### 튜플  {순서:Y, 인덱스:Y, 슬라이싱:Y, 변경:N}"
   ]
  },
  {
   "cell_type": "code",
   "execution_count": 35,
   "id": "9d4df140",
   "metadata": {
    "collapsed": true,
    "jupyter": {
     "outputs_hidden": true
    }
   },
   "outputs": [
    {
     "name": "stdout",
     "output_type": "stream",
     "text": [
      "{myTuple: (1, 2, 3, 4, 5) , myTuple[0:3]: (2, 3, 4) }\n",
      "1 2 3\n",
      "1 2 3\n",
      "(100, 200, 300)\n"
     ]
    }
   ],
   "source": [
    "myTuple = (1, 2, 3, 4, 5)\n",
    "print(\"{myTuple:\",myTuple,\", myTuple[0:3]:\",myTuple[1:4:1],\"}\")\n",
    "a, b, c = 1, 2, 3\n",
    "print(a,b,c)\n",
    "a, b, c = (1, 2, 3) # 언패킹 : 튜플 가로를 자동으로 제거한다.\n",
    "print(a,b,c)\n",
    "a = 100, 200, 300 # 패킹 : 자동으로 가로를 넣어주고 튜플로 자동으로 변경한다.\n",
    "print(a)"
   ]
  },
  {
   "cell_type": "markdown",
   "id": "67db8ced",
   "metadata": {},
   "source": [
    "#### 사전 타입 : 오브젝트를 키와 값으로 저장( JSON 과 유사한 형태 ) : dic"
   ]
  },
  {
   "cell_type": "code",
   "execution_count": 51,
   "id": "fe5baaf8",
   "metadata": {
    "collapsed": true,
    "jupyter": {
     "outputs_hidden": true
    }
   },
   "outputs": [
    {
     "name": "stdout",
     "output_type": "stream",
     "text": [
      "{myD: {10: 'aa', 'name': 'shinil.kim', 20: '이십'} , type: <class 'dict'> }\n",
      "{myD[10]: aa , myD['name']: shinil.kim , myD.get(20): 이십 }\n",
      "{myD.keys(): dict_keys([10, 'name', 20]) , myD.values(): dict_values(['aa', 'shinil.kim', '이십']) }\n",
      "{'name': {'age': 10}}\n"
     ]
    }
   ],
   "source": [
    "myD = {10:\"aa\", \"name\": \"shinil.kim\", 20:\"이십\"}\n",
    "print(\"{myD:\",myD,\", type:\",type(myD),\"}\")\n",
    "print(\"{myD[10]:\",myD[10],\", myD['name']:\",myD['name'],\", myD.get(20):\",myD.get(20),\"}\")\n",
    "print(\"{myD.keys():\",myD.keys(),\", myD.values():\",myD.values(),\"}\")\n",
    "\n",
    "myD = {}\n",
    "myD['name'] = {'age':10}\n",
    "print(myD)"
   ]
  },
  {
   "cell_type": "markdown",
   "id": "f84b2219",
   "metadata": {},
   "source": [
    "#### 세트 타입 {순서:N, 인덱스:N, 슬라이싱:N, 변경:Y}"
   ]
  },
  {
   "cell_type": "code",
   "execution_count": 60,
   "id": "d45a61eb",
   "metadata": {
    "collapsed": true,
    "jupyter": {
     "outputs_hidden": true
    }
   },
   "outputs": [
    {
     "name": "stdout",
     "output_type": "stream",
     "text": [
      "{mySet: {1, 2, 3} , type: <class 'set'> }\n",
      "{mySet: {1, 2, 3, 4} }\n",
      "{mySet: {1, 2, 3} }\n",
      "교집합:  {2, 4}  ==  {2, 4}\n",
      "합집합:  {1, 2, 3, 4, 6, 8}\n",
      "차집합:  {1, 3}\n",
      "대상 차집합:  {1, 3, 6, 8}\n"
     ]
    }
   ],
   "source": [
    "mySet = {1, 2, 3, 2} # 데이터 중복 불가\n",
    "print(\"{mySet:\",mySet,\", type:\",type(mySet),\"}\")\n",
    "mySet.add(4)\n",
    "print(\"{mySet:\",mySet,\"}\")\n",
    "mySet.remove(4)\n",
    "print(\"{mySet:\",mySet,\"}\")\n",
    "s1 = {1, 2, 3, 4}\n",
    "s2 = {2, 4, 6, 8}\n",
    "print(\"교집합: \",s1 & s2, \" == \", s1.intersection(s2))\n",
    "print(\"합집합: \",s1 | s2)\n",
    "print(\"차집합: \",s1 - s2)\n",
    "print(\"대상 차집합: \",s1 ^ s2) # 교집합이 아닌 데이터"
   ]
  },
  {
   "cell_type": "code",
   "execution_count": 63,
   "id": "cb871279",
   "metadata": {},
   "outputs": [
    {
     "name": "stdout",
     "output_type": "stream",
     "text": [
      "반지름:4\n",
      "원의반지름: 50.24\n"
     ]
    },
    {
     "data": {
      "text/plain": [
       "50.24"
      ]
     },
     "execution_count": 63,
     "metadata": {},
     "output_type": "execute_result"
    }
   ],
   "source": [
    "r = input(\"반지름:\") # 반지름을 입력 받는다.\n",
    "r = int(r)\n",
    "c = r**2 * 3.14 # 제곱: **\n",
    "print(\"원의반지름:\",c)"
   ]
  }
 ],
 "metadata": {
  "kernelspec": {
   "display_name": "Python 3 (ipykernel)",
   "language": "python",
   "name": "python3"
  },
  "language_info": {
   "codemirror_mode": {
    "name": "ipython",
    "version": 3
   },
   "file_extension": ".py",
   "mimetype": "text/x-python",
   "name": "python",
   "nbconvert_exporter": "python",
   "pygments_lexer": "ipython3",
   "version": "3.9.1"
  }
 },
 "nbformat": 4,
 "nbformat_minor": 5
}
