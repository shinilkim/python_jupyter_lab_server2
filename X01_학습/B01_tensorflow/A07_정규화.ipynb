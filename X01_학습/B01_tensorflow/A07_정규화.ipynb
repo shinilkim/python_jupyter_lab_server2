{
 "cells": [
  {
   "cell_type": "markdown",
   "id": "1c0e217b-d87d-421f-bfc0-22172528fe1c",
   "metadata": {},
   "source": [
    "## 정규화\n",
    "- 데이터셋 컬럼 값의 단위가 상이한 경우 cost의 값이 발산하여 정상적인 학습이 이루어지지 않는다.\n",
    "- 정규화를 통해 일정한 단위로 조절해준다."
   ]
  },
  {
   "cell_type": "code",
   "execution_count": 2,
   "id": "8ba7ae77-987d-4c1a-97c6-7fd7af2ef635",
   "metadata": {},
   "outputs": [],
   "source": [
    "import numpy as np\n",
    "import pandas as pd\n",
    "import matplotlib.pyplot as plt\n",
    "\n",
    "import tensorflow as tf\n",
    "from tensorflow.keras import Sequential\n",
    "from tensorflow.keras.layers import Dense\n",
    "from tensorflow.keras.optimizers import Adam\n",
    "from sklearn.preprocessing import MinMaxScaler, StandardScaler\n",
    "\n",
    "# 한글 폰트 사용을 위해서 세팅\n",
    "import matplotlib\n",
    "matplotlib.rcParams['font.family'] ='Malgun Gothic'\n",
    "matplotlib.rcParams['axes.unicode_minus'] =False"
   ]
  }
 ],
 "metadata": {
  "kernelspec": {
   "display_name": "Python 3 (ipykernel)",
   "language": "python",
   "name": "python3"
  },
  "language_info": {
   "codemirror_mode": {
    "name": "ipython",
    "version": 3
   },
   "file_extension": ".py",
   "mimetype": "text/x-python",
   "name": "python",
   "nbconvert_exporter": "python",
   "pygments_lexer": "ipython3",
   "version": "3.9.10"
  }
 },
 "nbformat": 4,
 "nbformat_minor": 5
}
