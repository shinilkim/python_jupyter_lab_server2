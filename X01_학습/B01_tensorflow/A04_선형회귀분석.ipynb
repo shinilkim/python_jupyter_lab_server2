{
 "cells": [
  {
   "cell_type": "code",
   "execution_count": 1,
   "id": "78f644a8-6636-4819-bfad-a7be651b7c16",
   "metadata": {},
   "outputs": [],
   "source": [
    "import tensorflow as tf\n",
    "import pandas as pd\n",
    "import numpy as np\n",
    "import matplotlib.pyplot as plt\n",
    "from tensorflow.keras.optimizers import SGD # Gradient 구현한 클래스"
   ]
  },
  {
   "cell_type": "code",
   "execution_count": 27,
   "id": "56d27678-bf55-4592-abe9-c4c76e7ca7a5",
   "metadata": {},
   "outputs": [
    {
     "data": {
      "text/html": [
       "<div>\n",
       "<style scoped>\n",
       "    .dataframe tbody tr th:only-of-type {\n",
       "        vertical-align: middle;\n",
       "    }\n",
       "\n",
       "    .dataframe tbody tr th {\n",
       "        vertical-align: top;\n",
       "    }\n",
       "\n",
       "    .dataframe thead th {\n",
       "        text-align: right;\n",
       "    }\n",
       "</style>\n",
       "<table border=\"1\" class=\"dataframe\">\n",
       "  <thead>\n",
       "    <tr style=\"text-align: right;\">\n",
       "      <th></th>\n",
       "      <th>speed</th>\n",
       "      <th>dist</th>\n",
       "    </tr>\n",
       "  </thead>\n",
       "  <tbody>\n",
       "    <tr>\n",
       "      <th>0</th>\n",
       "      <td>4</td>\n",
       "      <td>2</td>\n",
       "    </tr>\n",
       "    <tr>\n",
       "      <th>1</th>\n",
       "      <td>4</td>\n",
       "      <td>10</td>\n",
       "    </tr>\n",
       "    <tr>\n",
       "      <th>2</th>\n",
       "      <td>7</td>\n",
       "      <td>4</td>\n",
       "    </tr>\n",
       "    <tr>\n",
       "      <th>3</th>\n",
       "      <td>7</td>\n",
       "      <td>22</td>\n",
       "    </tr>\n",
       "  </tbody>\n",
       "</table>\n",
       "</div>"
      ],
      "text/plain": [
       "   speed  dist\n",
       "0      4     2\n",
       "1      4    10\n",
       "2      7     4\n",
       "3      7    22"
      ]
     },
     "execution_count": 27,
     "metadata": {},
     "output_type": "execute_result"
    }
   ],
   "source": [
    "df = pd.read_csv('data/cars.csv')\n",
    "df.columns = ['speed','dist'] # 컬럼명 변경(speed:자동차속도, dist:제동거리)\n",
    "\n",
    "x_data = df['speed'].values # 자동차 속도\n",
    "y_data = df['dist'].values  # 자동차 제동거리\n",
    "df.head(4)"
   ]
  },
  {
   "cell_type": "code",
   "execution_count": 22,
   "id": "96daacd3-f311-4330-8bad-9449eb2310ce",
   "metadata": {},
   "outputs": [
    {
     "data": {
      "image/png": "[encoded data removed]",
      "text/plain": [
       "<Figure size 432x288 with 1 Axes>"
      ]
     },
     "metadata": {
      "needs_background": "light"
     },
     "output_type": "display_data"
    }
   ],
   "source": [
    "# 산점도 (Scatter plot)는 두 변수의 상관 관계를 직교 좌표계의 평면에 점으로 표현하는 그래프\n",
    "plt.xlabel(\"speed\")\n",
    "plt.ylabel(\"dist\")\n",
    "plt.title(\"Scatter Plot of two different datasets\")\n",
    "plt.scatter(x_data, y_data)\n",
    "plt.show()"
   ]
  },
  {
   "cell_type": "code",
   "execution_count": 5,
   "id": "40466936-f1da-4453-a2d1-0af79d44bad5",
   "metadata": {},
   "outputs": [],
   "source": [
    "# 텐서 생성\n",
    "x = tf.constant(x_data, tf.float32)\n",
    "y = tf.constant(y_data, tf.float32)"
   ]
  },
  {
   "cell_type": "code",
   "execution_count": 6,
   "id": "3af1229c-d2c1-4303-a783-34fd425e0633",
   "metadata": {},
   "outputs": [],
   "source": [
    "w = tf.Variable(tf.random.uniform([1])) # 랜덤하게 임의 1개의 값\n",
    "b = tf.Variable(tf.random.uniform([1]))"
   ]
  },
  {
   "cell_type": "code",
   "execution_count": 7,
   "id": "e07efc05-6cd8-445a-91d4-3eb2df9bad69",
   "metadata": {},
   "outputs": [
    {
     "name": "stdout",
     "output_type": "stream",
     "text": [
      "최종W: [3.2416625]  최종B: [-5.7172446]\n"
     ]
    }
   ],
   "source": [
    "def compute_cost(): # Mean Square Error\n",
    "    hx = w * x + b\n",
    "    cost = tf.reduce_mean( (hx-y)**2 )\n",
    "    return cost\n",
    "\n",
    "hist_cost = []\n",
    "optimizer = SGD(learning_rate=0.001)\n",
    "for i in range(2000): # 2000번 학습\n",
    "    optimizer.minimize(compute_cost, var_list = [w,b] )\n",
    "    cost = compute_cost().numpy()\n",
    "    hist_cost.append(cost)\n",
    "    # print(i,' cost: ',cost)\n",
    "    \n",
    "print(\"w:\", w.numpy(), \" b:\", b.numpy())"
   ]
  },
  {
   "cell_type": "code",
   "execution_count": 9,
   "id": "99f1d58e-5cf3-4e7f-b7de-b59a0497482d",
   "metadata": {},
   "outputs": [
    {
     "data": {
      "text/plain": [
       "[<matplotlib.lines.Line2D at 0x1b166198cd0>]"
      ]
     },
     "execution_count": 9,
     "metadata": {},
     "output_type": "execute_result"
    },
    {
     "data": {
      "image/png": "[encoded data removed]",
      "text/plain": [
       "<Figure size 432x288 with 1 Axes>"
      ]
     },
     "metadata": {
      "needs_background": "light"
     },
     "output_type": "display_data"
    }
   ],
   "source": [
    "plt.xlabel(\"speed\")\n",
    "plt.ylabel(\"dist\")\n",
    "plt.plot(hist_cost)"
   ]
  },
  {
   "cell_type": "code",
   "execution_count": 12,
   "id": "934e79b7-5180-44dc-a569-895bd266f65a",
   "metadata": {},
   "outputs": [
    {
     "name": "stdout",
     "output_type": "stream",
     "text": [
      "자동차_속도: 10  | 자동차_제동거리(m): [26.69938]\n"
     ]
    }
   ],
   "source": [
    "def hxFn(car_speed):\n",
    "    xd = np.float32(car_speed)\n",
    "    hx = w *xd + b\n",
    "    return hx.numpy()\n",
    "\n",
    "car_speed = 10\n",
    "car_dist = hxFn(car_speed)\n",
    "print('자동차_속도:',car_speed, ' | 자동차_제동거리(m):',car_dist)"
   ]
  },
  {
   "cell_type": "code",
   "execution_count": 15,
   "id": "6c41b51a-eb48-4d36-834e-ac1563c3556f",
   "metadata": {},
   "outputs": [
    {
     "name": "stdout",
     "output_type": "stream",
     "text": [
      "자동차_속도: [10, 20, 30, 40, 50, 60, 70, 80, 90, 100]  | 자동차_제동거리(m): [ 26.69938  59.11601  91.53263 123.94926 156.36589 188.78252 221.19914\n",
      " 253.61577 286.03238 318.449  ]\n"
     ]
    },
    {
     "data": {
      "text/plain": [
       "[<matplotlib.lines.Line2D at 0x1b167d2c160>]"
      ]
     },
     "execution_count": 15,
     "metadata": {},
     "output_type": "execute_result"
    },
    {
     "data": {
      "image/png": "[encoded data removed]",
      "text/plain": [
       "<Figure size 432x288 with 1 Axes>"
      ]
     },
     "metadata": {
      "needs_background": "light"
     },
     "output_type": "display_data"
    }
   ],
   "source": [
    "car_speed = [10,20,30,40,50,60,70,80,90,100]\n",
    "car_dist = hxFn(car_speed)\n",
    "print('자동차_속도:',car_speed, ' | 자동차_제동거리(m):',car_dist)\n",
    "\n",
    "# 자동차 속도에 제동거리는 정비례하는 것을 알 수 있다.\n",
    "plt.xlabel(\"speed\")\n",
    "plt.ylabel(\"dist\")\n",
    "plt.plot(car_speed, car_dist)"
   ]
  },
  {
   "cell_type": "code",
   "execution_count": 17,
   "id": "f91bed73-3aa8-4526-81b8-ab5467422b44",
   "metadata": {},
   "outputs": [
    {
     "data": {
      "text/plain": [
       "[<matplotlib.lines.Line2D at 0x1b167d7ddf0>]"
      ]
     },
     "execution_count": 17,
     "metadata": {},
     "output_type": "execute_result"
    },
    {
     "data": {
      "image/png": "[encoded data removed]",
      "text/plain": [
       "<Figure size 432x288 with 1 Axes>"
      ]
     },
     "metadata": {
      "needs_background": "light"
     },
     "output_type": "display_data"
    }
   ],
   "source": [
    "car_speed = hxFn(x_data)\n",
    "car_dist  = hxFn(y_data)\n",
    "\n",
    "# 자동차 속도에 제동거리는 정비례하는 것을 알 수 있다.\n",
    "plt.xlabel(\"speed\")\n",
    "plt.ylabel(\"dist\")\n",
    "plt.plot(car_speed, car_dist)\n"
   ]
  },
  {
   "cell_type": "code",
   "execution_count": 26,
   "id": "8c794337-91dc-4839-a396-3783a43d906a",
   "metadata": {},
   "outputs": [
    {
     "data": {
      "text/plain": [
       "[<matplotlib.lines.Line2D at 0x1b16bc1c790>]"
      ]
     },
     "execution_count": 26,
     "metadata": {},
     "output_type": "execute_result"
    },
    {
     "data": {
      "image/png": "[encoded data removed]",
      "text/plain": [
       "<Figure size 432x288 with 1 Axes>"
      ]
     },
     "metadata": {
      "needs_background": "light"
     },
     "output_type": "display_data"
    }
   ],
   "source": [
    "# 자동차 속도 대비 제동길이 예측선\n",
    "plt.scatter(x_data, y_data)\n",
    "plt.plot(x_data, hxFn(x_data), 'r--') # 예측선"
   ]
  }
 ],
 "metadata": {
  "kernelspec": {
   "display_name": "Python 3 (ipykernel)",
   "language": "python",
   "name": "python3"
  },
  "language_info": {
   "codemirror_mode": {
    "name": "ipython",
    "version": 3
   },
   "file_extension": ".py",
   "mimetype": "text/x-python",
   "name": "python",
   "nbconvert_exporter": "python",
   "pygments_lexer": "ipython3",
   "version": "3.9.10"
  }
 },
 "nbformat": 4,
 "nbformat_minor": 5
}
