{
 "cells": [
  {
   "cell_type": "markdown",
   "id": "366b73cd-a847-456f-b834-0b1ca50ebd0a",
   "metadata": {},
   "source": [
    "1. 인공지능: 지능적 요소가 포함된 기술전체\n",
    "2. 머신러닝: 데이터에서 모델을 스스로 찾아내는 방법 => sklearn, statesmodels\n",
    "3. 딥러닝: NN(뉴럴네트웍:퍼셉트론)을 이용한 머신러닝 기법 => tensorflow, pytorch\n",
    "\n",
    "- 0 Scalar s = 10\n",
    "- 1 Vector v = [1,2]\n",
    "- 2 Matrix m = [[1,2], [1,2]]\n",
    "- 3 3-Tensor t3= [[[1,2], [1,2]][[1,2], [1,2]], [[1,2], [1,2]][[1,2], [1,2]]]\n",
    "- n n-Tensor ...."
   ]
  },
  {
   "cell_type": "code",
   "execution_count": 2,
   "id": "821d253e-5f09-4582-85ce-83388f40d3a6",
   "metadata": {},
   "outputs": [],
   "source": [
    "import tensorflow as tf\n",
    "import numpy as np"
   ]
  },
  {
   "cell_type": "markdown",
   "id": "f926335d-204b-476e-9126-3d45962eafb1",
   "metadata": {},
   "source": [
    "#### 01. constant 로 데이터 노드를 만든다."
   ]
  },
  {
   "cell_type": "code",
   "execution_count": 3,
   "id": "387a3263-8eab-43e0-bd4d-e4e9ca9a0620",
   "metadata": {},
   "outputs": [],
   "source": [
    "s1 = 3.14\n",
    "s2 = 100\n",
    "s3 = 'korea'"
   ]
  },
  {
   "cell_type": "code",
   "execution_count": 10,
   "id": "68849acf-000c-435b-a494-1fbd60d6a433",
   "metadata": {
    "collapsed": true,
    "jupyter": {
     "outputs_hidden": true
    },
    "tags": []
   },
   "outputs": [
    {
     "data": {
      "text/plain": [
       "<tf.Tensor: shape=(), dtype=float32, numpy=3.14>"
      ]
     },
     "metadata": {},
     "output_type": "display_data"
    },
    {
     "data": {
      "text/plain": [
       "<tf.Tensor: shape=(), dtype=int32, numpy=100>"
      ]
     },
     "metadata": {},
     "output_type": "display_data"
    },
    {
     "data": {
      "text/plain": [
       "<tf.Tensor: shape=(), dtype=string, numpy=b'korea'>"
      ]
     },
     "metadata": {},
     "output_type": "display_data"
    },
    {
     "data": {
      "text/plain": [
       "<tf.Tensor: shape=(3,), dtype=int32, numpy=array([10, 20, 30])>"
      ]
     },
     "metadata": {},
     "output_type": "display_data"
    },
    {
     "data": {
      "text/plain": [
       "<tf.Tensor: shape=(2, 3), dtype=int32, numpy=\n",
       "array([[1, 2, 3],\n",
       "       [4, 5, 6]])>"
      ]
     },
     "metadata": {},
     "output_type": "display_data"
    }
   ],
   "source": [
    "c1 = tf.constant(s1)\n",
    "c2 = tf.constant(s2)\n",
    "c3 = tf.constant(s3)\n",
    "c4 = tf.constant([10,20,30])\n",
    "c5 = tf.constant( [[1,2,3], [4,5,6]] )\n",
    "display(c1)\n",
    "display(c2)\n",
    "display(c3)\n",
    "display(c4)\n",
    "display(c5)"
   ]
  },
  {
   "cell_type": "markdown",
   "id": "e68b5771-4e07-44b9-887f-32df5ea82241",
   "metadata": {},
   "source": [
    "#### 2. 요소별 연산(element wise)"
   ]
  },
  {
   "cell_type": "code",
   "execution_count": 14,
   "id": "84f1ab83-5b88-4379-9c0a-b6d2788255de",
   "metadata": {},
   "outputs": [
    {
     "data": {
      "text/plain": [
       "<tf.Tensor: shape=(3,), dtype=int32, numpy=array([3, 6, 9])>"
      ]
     },
     "metadata": {},
     "output_type": "display_data"
    },
    {
     "data": {
      "text/plain": [
       "array([3, 6, 9])"
      ]
     },
     "metadata": {},
     "output_type": "display_data"
    },
    {
     "data": {
      "text/plain": [
       "[3, 6, 9]"
      ]
     },
     "metadata": {},
     "output_type": "display_data"
    }
   ],
   "source": [
    "a = tf.constant(3)          # scala\n",
    "b = tf.constant([1,2,3])    # vector\n",
    "c = tf.multiply(a,b) # c = a * b\n",
    "display(c)\n",
    "display(c.numpy()) # tensor > numpy nd array 객체로 변환"
   ]
  },
  {
   "cell_type": "code",
   "execution_count": 16,
   "id": "a37ab3c0-7a22-40b7-b3dc-cac98615f01b",
   "metadata": {},
   "outputs": [
    {
     "data": {
      "text/plain": [
       "<tf.Tensor: shape=(3,), dtype=int32, numpy=array([ 6,  9, 12])>"
      ]
     },
     "metadata": {},
     "output_type": "display_data"
    },
    {
     "data": {
      "text/plain": [
       "array([ 6,  9, 12])"
      ]
     },
     "metadata": {},
     "output_type": "display_data"
    }
   ],
   "source": [
    "d = tf.add(c,a) # d = c + a\n",
    "display(d)\n",
    "display(d.numpy())"
   ]
  },
  {
   "cell_type": "markdown",
   "id": "241a58f6-b694-466b-b8d8-2e1e7db12260",
   "metadata": {},
   "source": [
    "##### 3. 요소별 브로딩 캐스트(Element wise) : 행렬 + 벡터"
   ]
  },
  {
   "cell_type": "code",
   "execution_count": 4,
   "id": "f3f0f0e5-7d11-45d3-99b3-5515403bf4bc",
   "metadata": {},
   "outputs": [
    {
     "data": {
      "text/plain": [
       "<tf.Tensor: shape=(3, 3), dtype=int32, numpy=\n",
       "array([[ 2,  4,  6],\n",
       "       [ 5,  7,  9],\n",
       "       [ 8, 10, 12]])>"
      ]
     },
     "metadata": {},
     "output_type": "display_data"
    }
   ],
   "source": [
    "e = tf.constant([1,2,3])\n",
    "f = tf.constant([[1,2,3], [4,5,6], [7,8,9]])\n",
    "g = e + f # tf.add(e, f)\n",
    "display(g)"
   ]
  },
  {
   "cell_type": "code",
   "execution_count": 5,
   "id": "236dbb0b-96a5-477d-a01c-7befef2fda41",
   "metadata": {},
   "outputs": [
    {
     "ename": "InvalidArgumentError",
     "evalue": "Incompatible shapes: [2] vs. [3,3] [Op:AddV2]",
     "output_type": "error",
     "traceback": [
      "\u001b[1;31m---------------------------------------------------------------------------\u001b[0m",
      "\u001b[1;31mInvalidArgumentError\u001b[0m                      Traceback (most recent call last)",
      "Input \u001b[1;32mIn [5]\u001b[0m, in \u001b[0;36m<module>\u001b[1;34m\u001b[0m\n\u001b[0;32m      1\u001b[0m e \u001b[38;5;241m=\u001b[39m tf\u001b[38;5;241m.\u001b[39mconstant([\u001b[38;5;241m1\u001b[39m,\u001b[38;5;241m2\u001b[39m])\n\u001b[0;32m      2\u001b[0m f \u001b[38;5;241m=\u001b[39m tf\u001b[38;5;241m.\u001b[39mconstant([[\u001b[38;5;241m1\u001b[39m,\u001b[38;5;241m2\u001b[39m,\u001b[38;5;241m3\u001b[39m], [\u001b[38;5;241m4\u001b[39m,\u001b[38;5;241m5\u001b[39m,\u001b[38;5;241m6\u001b[39m], [\u001b[38;5;241m7\u001b[39m,\u001b[38;5;241m8\u001b[39m,\u001b[38;5;241m9\u001b[39m]])\n\u001b[1;32m----> 3\u001b[0m display( \u001b[43mtf\u001b[49m\u001b[38;5;241;43m.\u001b[39;49m\u001b[43madd\u001b[49m\u001b[43m(\u001b[49m\u001b[43me\u001b[49m\u001b[43m,\u001b[49m\u001b[43m \u001b[49m\u001b[43mf\u001b[49m\u001b[43m)\u001b[49m )\n",
      "File \u001b[1;32mC:\\Python39\\lib\\site-packages\\tensorflow\\python\\util\\traceback_utils.py:153\u001b[0m, in \u001b[0;36mfilter_traceback.<locals>.error_handler\u001b[1;34m(*args, **kwargs)\u001b[0m\n\u001b[0;32m    151\u001b[0m \u001b[38;5;28;01mexcept\u001b[39;00m \u001b[38;5;167;01mException\u001b[39;00m \u001b[38;5;28;01mas\u001b[39;00m e:\n\u001b[0;32m    152\u001b[0m   filtered_tb \u001b[38;5;241m=\u001b[39m _process_traceback_frames(e\u001b[38;5;241m.\u001b[39m__traceback__)\n\u001b[1;32m--> 153\u001b[0m   \u001b[38;5;28;01mraise\u001b[39;00m e\u001b[38;5;241m.\u001b[39mwith_traceback(filtered_tb) \u001b[38;5;28;01mfrom\u001b[39;00m \u001b[38;5;28mNone\u001b[39m\n\u001b[0;32m    154\u001b[0m \u001b[38;5;28;01mfinally\u001b[39;00m:\n\u001b[0;32m    155\u001b[0m   \u001b[38;5;28;01mdel\u001b[39;00m filtered_tb\n",
      "File \u001b[1;32mC:\\Python39\\lib\\site-packages\\tensorflow\\python\\framework\\ops.py:7186\u001b[0m, in \u001b[0;36mraise_from_not_ok_status\u001b[1;34m(e, name)\u001b[0m\n\u001b[0;32m   7184\u001b[0m \u001b[38;5;28;01mdef\u001b[39;00m \u001b[38;5;21mraise_from_not_ok_status\u001b[39m(e, name):\n\u001b[0;32m   7185\u001b[0m   e\u001b[38;5;241m.\u001b[39mmessage \u001b[38;5;241m+\u001b[39m\u001b[38;5;241m=\u001b[39m (\u001b[38;5;124m\"\u001b[39m\u001b[38;5;124m name: \u001b[39m\u001b[38;5;124m\"\u001b[39m \u001b[38;5;241m+\u001b[39m name \u001b[38;5;28;01mif\u001b[39;00m name \u001b[38;5;129;01mis\u001b[39;00m \u001b[38;5;129;01mnot\u001b[39;00m \u001b[38;5;28;01mNone\u001b[39;00m \u001b[38;5;28;01melse\u001b[39;00m \u001b[38;5;124m\"\u001b[39m\u001b[38;5;124m\"\u001b[39m)\n\u001b[1;32m-> 7186\u001b[0m   \u001b[38;5;28;01mraise\u001b[39;00m core\u001b[38;5;241m.\u001b[39m_status_to_exception(e) \u001b[38;5;28;01mfrom\u001b[39;00m \u001b[38;5;28mNone\u001b[39m\n",
      "\u001b[1;31mInvalidArgumentError\u001b[0m: Incompatible shapes: [2] vs. [3,3] [Op:AddV2]"
     ]
    }
   ],
   "source": [
    "e = tf.constant([1,2])\n",
    "f = tf.constant([[1,2,3], [4,5,6], [7,8,9]])\n",
    "display( tf.add(e, f) ) # 오류가 발생한다. 행렬이 서로 맞지 않아서 에러가 발생"
   ]
  },
  {
   "cell_type": "markdown",
   "id": "e5e5152f-ac7c-4427-96f2-ab9031f79317",
   "metadata": {},
   "source": [
    "##### 4. 행렬 곱\n",
    "- [행렬곱1](https://ko.wikipedia.org/wiki/%ED%96%89%EB%A0%AC_%EA%B3%B1%EC%85%88)\n",
    "- [행렬곱2](https://namu.wiki/w/%ED%96%89%EB%A0%AC%EA%B3%B1)"
   ]
  },
  {
   "cell_type": "code",
   "execution_count": 8,
   "id": "51f2a4fd-04ff-4e80-988a-20e16e602777",
   "metadata": {},
   "outputs": [
    {
     "data": {
      "text/plain": [
       "<tf.Tensor: shape=(2, 2), dtype=int32, numpy=\n",
       "array([[ 5, 12],\n",
       "       [21, 32]])>"
      ]
     },
     "metadata": {},
     "output_type": "display_data"
    }
   ],
   "source": [
    "# element wise x\n",
    "h = tf.constant([[1,2], [3,4]])\n",
    "i = tf.constant([[5,6], [7,8]])\n",
    "j = tf.multiply(h, i) # j = h * i\n",
    "display(j)"
   ]
  },
  {
   "cell_type": "code",
   "execution_count": 9,
   "id": "ab736475-e5c6-44a4-aca7-a75ffb93b9ab",
   "metadata": {},
   "outputs": [
    {
     "data": {
      "text/plain": [
       "<tf.Tensor: shape=(2, 2), dtype=int32, numpy=\n",
       "array([[19, 22],\n",
       "       [43, 50]])>"
      ]
     },
     "metadata": {},
     "output_type": "display_data"
    }
   ],
   "source": [
    "# 행렬과 행렬 간의 행렬 곱\n",
    "k = tf.matmul(h, i)\n",
    "display(k)"
   ]
  },
  {
   "cell_type": "code",
   "execution_count": 1,
   "id": "f1a38d9b-5705-4088-ad61-1682a184d055",
   "metadata": {},
   "outputs": [
    {
     "data": {
      "text/plain": [
       "547200"
      ]
     },
     "execution_count": 1,
     "metadata": {},
     "output_type": "execute_result"
    }
   ],
   "source": [
    "a = 2188800\n",
    "b = 912000 * 3\n",
    "b - a"
   ]
  }
 ],
 "metadata": {
  "kernelspec": {
   "display_name": "Python 3 (ipykernel)",
   "language": "python",
   "name": "python3"
  },
  "language_info": {
   "codemirror_mode": {
    "name": "ipython",
    "version": 3
   },
   "file_extension": ".py",
   "mimetype": "text/x-python",
   "name": "python",
   "nbconvert_exporter": "python",
   "pygments_lexer": "ipython3",
   "version": "3.9.10"
  }
 },
 "nbformat": 4,
 "nbformat_minor": 5
}
