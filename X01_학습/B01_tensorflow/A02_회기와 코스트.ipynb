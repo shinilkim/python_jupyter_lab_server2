{
 "cells": [
  {
   "cell_type": "markdown",
   "id": "8c41d6d7-5635-43eb-b9c5-b4c81d80c507",
   "metadata": {},
   "source": [
    "#### 1. 회귀(Regression: 수칙 예측) => Mean Square Error( Cost )\n",
    "- 점들이 퍼져있는 형태에서 패턴을 찾아내고 패턴을 활용해서 예측하는 분석\n",
    "- 새로운 표본을 뽑았을 때 평균으로 돌아가려는 특징이 있기 때문에 붙여진 이름\n",
    "- h(x) = Wx + b => 예측선(h(x)) = 기울기(wx) + 절편(b)\n",
    "- 절편: x or y가 만나는 점\n",
    "- 절편(x) : y == 0 일 때 x 값\n",
    "- 절편(y) : x == 0 일 때 y 값"
   ]
  },
  {
   "cell_type": "code",
   "execution_count": 1,
   "id": "150ea3a8-be23-4990-9543-ed7a7b2801e8",
   "metadata": {},
   "outputs": [],
   "source": [
    "import tensorflow as tf\n",
    "import numpy as np\n",
    "import matplotlib.pyplot as plt"
   ]
  },
  {
   "cell_type": "code",
   "execution_count": 2,
   "id": "96a99df3-2081-4360-a896-aeda1d999f0a",
   "metadata": {},
   "outputs": [],
   "source": [
    "def cost(x, y, w):\n",
    "    n = len(x) # 3\n",
    "    hx = w * x\n",
    "    c = np.sum( (hx-y)**2 ) / n\n",
    "    return c"
   ]
  },
  {
   "cell_type": "code",
   "execution_count": 3,
   "id": "ce92f333-ffee-452a-a5b2-73643c1d0cb3",
   "metadata": {},
   "outputs": [
    {
     "data": {
      "text/plain": [
       "18.666666666666668"
      ]
     },
     "metadata": {},
     "output_type": "display_data"
    },
    {
     "data": {
      "text/plain": [
       "0.0"
      ]
     },
     "metadata": {},
     "output_type": "display_data"
    }
   ],
   "source": [
    "x_data = np.array([1,2,3])\n",
    "y_data = np.array([1,2,3])\n",
    "display( cost(x_data, y_data, -1) )\n",
    "display( cost(x_data, y_data,  1) )"
   ]
  },
  {
   "cell_type": "code",
   "execution_count": 4,
   "id": "5411548b-75fe-4718-a622-d25cacf49ccf",
   "metadata": {},
   "outputs": [
    {
     "data": {
      "image/png": "[encoded data removed]",
      "text/plain": [
       "<Figure size 432x288 with 1 Axes>"
      ]
     },
     "metadata": {
      "needs_background": "light"
     },
     "output_type": "display_data"
    }
   ],
   "source": [
    "plt.plot(x_data, y_data, 'ro-')\n",
    "plt.show()"
   ]
  },
  {
   "cell_type": "code",
   "execution_count": 5,
   "id": "580b3041-aaa0-4e43-8c7c-ef6cc51645fd",
   "metadata": {},
   "outputs": [
    {
     "data": {
      "text/plain": [
       "array([ 1.,  4.,  7., 10.])"
      ]
     },
     "execution_count": 5,
     "metadata": {},
     "output_type": "execute_result"
    }
   ],
   "source": [
    "np.linspace(1, 10, 4) # 1부터 10까지 간격올 동일하게 4개를 만든다."
   ]
  },
  {
   "cell_type": "code",
   "execution_count": 6,
   "id": "c44f996a-6c72-4d61-afb0-91fae74e9ec4",
   "metadata": {},
   "outputs": [
    {
     "data": {
      "image/png": "[encoded data removed]",
      "text/plain": [
       "<Figure size 432x288 with 1 Axes>"
      ]
     },
     "metadata": {
      "needs_background": "light"
     },
     "output_type": "display_data"
    }
   ],
   "source": [
    "for w in np.linspace(-3, 5, 50):\n",
    "    c = cost(x_data, y_data, w)\n",
    "    # print('w:',w, ' cost:', c)\n",
    "    plt.plot(w, c, 'ro')"
   ]
  }
 ],
 "metadata": {
  "kernelspec": {
   "display_name": "Python 3 (ipykernel)",
   "language": "python",
   "name": "python3"
  },
  "language_info": {
   "codemirror_mode": {
    "name": "ipython",
    "version": 3
   },
   "file_extension": ".py",
   "mimetype": "text/x-python",
   "name": "python",
   "nbconvert_exporter": "python",
   "pygments_lexer": "ipython3",
   "version": "3.9.10"
  }
 },
 "nbformat": 4,
 "nbformat_minor": 5
}
