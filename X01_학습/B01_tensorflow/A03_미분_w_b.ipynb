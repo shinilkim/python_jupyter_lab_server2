{
 "cells": [
  {
   "cell_type": "markdown",
   "id": "41d89369-7b87-4d0a-85d6-b4b8d13f1442",
   "metadata": {},
   "source": [
    "# 01. 직접 W B 구하기(직접 미분: 접선의 기울기)"
   ]
  },
  {
   "cell_type": "code",
   "execution_count": 11,
   "id": "45325113-bf2b-4f81-9196-3d02fee7f5eb",
   "metadata": {},
   "outputs": [],
   "source": [
    "import tensorflow as tf\n",
    "import numpy as np\n",
    "import matplotlib.pyplot as plt\n",
    "from tensorflow.keras.optimizers import SGD # Gradient 구현한 클래스"
   ]
  },
  {
   "cell_type": "code",
   "execution_count": 3,
   "id": "0cd7bdbb-b5dc-45d4-a024-161ea31f7578",
   "metadata": {},
   "outputs": [],
   "source": [
    "def cost(x, y, w):\n",
    "    n = len(x) # 3\n",
    "    hx = w * x\n",
    "    c = np.sum( (hx-y)**2 ) / n\n",
    "    return c"
   ]
  },
  {
   "cell_type": "code",
   "execution_count": 4,
   "id": "0e6e90c9-469b-4cb7-9ce5-1ac7435b5ebd",
   "metadata": {},
   "outputs": [],
   "source": [
    "def gradient(x, y, w): # 미분: 기울기\n",
    "    n = len(x) # 3\n",
    "    g = np.sum( (w * x - y) * 2 * x) / n\n",
    "    return g"
   ]
  },
  {
   "cell_type": "code",
   "execution_count": 5,
   "id": "13265690-edd6-40b5-afe9-c42d8a425702",
   "metadata": {},
   "outputs": [
    {
     "name": "stdout",
     "output_type": "stream",
     "text": [
      "최종 w:  1.0\n"
     ]
    }
   ],
   "source": [
    "w = 5\n",
    "epochs = 500 # 반복\n",
    "learning_rate = 0.1 # 임의의 기울기\n",
    "x = np.array([1,2,3])\n",
    "y = np.array([1,2,3])\n",
    "\n",
    "for i in range(epochs):\n",
    "    c = cost(x, y, w)\n",
    "    w = w - learning_rate * gradient(x, y, w)\n",
    "print('최종 w: ',w)"
   ]
  },
  {
   "cell_type": "markdown",
   "id": "8f31fb56-2c71-4f75-8985-5bfb214c3723",
   "metadata": {},
   "source": [
    "#### w b 구현"
   ]
  },
  {
   "cell_type": "code",
   "execution_count": 6,
   "id": "8f9cc1eb-98c6-4f8d-9ce3-b5458a2b51b3",
   "metadata": {},
   "outputs": [
    {
     "data": {
      "text/plain": [
       "<matplotlib.collections.PathCollection at 0x1eddc6fc580>"
      ]
     },
     "execution_count": 6,
     "metadata": {},
     "output_type": "execute_result"
    },
    {
     "data": {
      "image/png": "[encoded data removed]",
      "text/plain": [
       "<Figure size 432x288 with 1 Axes>"
      ]
     },
     "metadata": {
      "needs_background": "light"
     },
     "output_type": "display_data"
    }
   ],
   "source": [
    "x = np.array([1,2,3,4, 5])\n",
    "y = np.array([3,5,7,9,11])\n",
    "plt.scatter(x,y) # 산점도 그리기"
   ]
  },
  {
   "cell_type": "code",
   "execution_count": 9,
   "id": "622067c9-332f-4885-a1df-705642deff90",
   "metadata": {},
   "outputs": [
    {
     "name": "stdout",
     "output_type": "stream",
     "text": [
      "최종W: 1.9980038007632057  최종B: 1.007206912635415\n"
     ]
    }
   ],
   "source": [
    "# 미분\n",
    "w = 10\n",
    "b = 10\n",
    "epochs = 2000 # 몇 번 트레이닝 할 것인지\n",
    "learning_rate = 0.01\n",
    "n = len(x)\n",
    "\n",
    "for i in range(epochs):\n",
    "    hy = w * x + b # 예측\n",
    "    cost = np.sum( (hy-y)**2 ) / n\n",
    "    gradientW = np.sum( (w*x + b - y) * 2 * x) / n # W 미분\n",
    "    gradientB = np.sum( (w*x + b - y) * 2 * 1) / n # B 미분\n",
    "    w = w - learning_rate * gradientW # 최적의 W\n",
    "    b = b - learning_rate * gradientB # 최적의 B\n",
    "    # print('cost:',cost, ' w:',w,' b:',b)\n",
    "\n",
    "print(\"최종W:\", w, \" 최종B:\", b)"
   ]
  },
  {
   "cell_type": "markdown",
   "id": "32633dd7-45b7-4810-84e4-77ba529ee811",
   "metadata": {},
   "source": [
    "# 02. 텐서플를 이용한 W B 구하기(직접 미분: 접선의 기울기)"
   ]
  },
  {
   "cell_type": "code",
   "execution_count": 12,
   "id": "0d47ab2b-02f9-4507-91fc-e8dcea063a20",
   "metadata": {},
   "outputs": [],
   "source": [
    "x_data = np.array([1,2,3,4, 5])\n",
    "y_data = np.array([3,5,7,9,11])\n",
    "\n",
    "# 2개의 벡터 노드를 만든다. => 텐서는 그래프 연산을 하기 때문에 반드시 노드를 만들어야 한다.\n",
    "x = tf.constant( x_data, dtype=tf.float32 ) # constant 는 고정 값이다.\n",
    "y = tf.constant( y_data, dtype=tf.float32 ) # 임의의 값을 준다. => constant를 사용할 경우에는 반드시 지정해야 한다."
   ]
  },
  {
   "cell_type": "code",
   "execution_count": 16,
   "id": "8923180e-656d-4d32-9648-9a8b8d0ff5b4",
   "metadata": {},
   "outputs": [],
   "source": [
    "w = tf.Variable( 10.0 ) # w = w - 0.01 * w 에 대한 미분값{ 실제로는 w.assign_sub(0.01*미분값) }\n",
    "b = tf.Variable( 10.0 ) # b = b - 0.01 * b 에 대한 미분값{ 실제로는 b.assign_sub(0.01*미분값) }"
   ]
  },
  {
   "cell_type": "code",
   "execution_count": 22,
   "id": "7d00abfb-e12d-44ed-ad61-ef82f7adf50f",
   "metadata": {},
   "outputs": [
    {
     "name": "stdout",
     "output_type": "stream",
     "text": [
      "최종W: 1.999994  최종B: 1.0000207\n"
     ]
    }
   ],
   "source": [
    "def compute_cost(): # Mean Square Error\n",
    "    hx = w * x + b\n",
    "    cost = tf.reduce_mean( (hx-y)**2 )\n",
    "    return cost\n",
    "\n",
    "optimizer = SGD(learning_rate=0.01) # 미분 + 알파가 구현되어 있다.\n",
    "for i in range(2000): # 2000 번 학습\n",
    "    optimizer.minimize(compute_cost, var_list = [w,b] )\n",
    "    cost = compute_cost().numpy()\n",
    "    # print(i, \") Cost: \", compute_cost().numpy() )\n",
    "print(\"최종W:\", w.numpy(), \" 최종B:\", b.numpy())"
   ]
  }
 ],
 "metadata": {
  "kernelspec": {
   "display_name": "Python 3 (ipykernel)",
   "language": "python",
   "name": "python3"
  },
  "language_info": {
   "codemirror_mode": {
    "name": "ipython",
    "version": 3
   },
   "file_extension": ".py",
   "mimetype": "text/x-python",
   "name": "python",
   "nbconvert_exporter": "python",
   "pygments_lexer": "ipython3",
   "version": "3.9.10"
  }
 },
 "nbformat": 4,
 "nbformat_minor": 5
}
