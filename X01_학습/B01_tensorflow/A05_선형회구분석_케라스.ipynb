{
 "cells": [
  {
   "cell_type": "markdown",
   "id": "e9fb1f25-e124-48a9-8407-21c26acb8b25",
   "metadata": {},
   "source": [
    "#### 옵티마이저 종료\n",
    "- GD > SGD > Momentum(스텝방향)    > NAG(관성) > Adam\n",
    "- GD > SGD > Adagrad(스텝크기조절) > AdaDelta  > Adam\n",
    "#### API\n",
    "- 텐서플로우: 로우레벨 API\n",
    "- 케라스: 하이레벨 API\n",
    "- 케라스: 텐서플로우를 사용하기 쉽도록 클래스화 시킴(단점: 내부구조를 몰라서 응용력이 떨어진다)"
   ]
  },
  {
   "cell_type": "code",
   "execution_count": 2,
   "id": "b17894ae-4147-4093-bc06-ad9726b1d585",
   "metadata": {},
   "outputs": [],
   "source": [
    "import numpy as np\n",
    "import pandas as pd\n",
    "import matplotlib.pyplot as plt\n",
    "\n",
    "import tensorflow as tf\n",
    "from tensorflow.keras import Sequential\n",
    "from tensorflow.keras.layers import Dense\n",
    "from tensorflow.keras.optimizers import Adam"
   ]
  },
  {
   "cell_type": "code",
   "execution_count": 5,
   "id": "bfe7b297-215f-4284-83a4-34c0ba98305a",
   "metadata": {},
   "outputs": [
    {
     "data": {
      "text/html": [
       "<div>\n",
       "<style scoped>\n",
       "    .dataframe tbody tr th:only-of-type {\n",
       "        vertical-align: middle;\n",
       "    }\n",
       "\n",
       "    .dataframe tbody tr th {\n",
       "        vertical-align: top;\n",
       "    }\n",
       "\n",
       "    .dataframe thead th {\n",
       "        text-align: right;\n",
       "    }\n",
       "</style>\n",
       "<table border=\"1\" class=\"dataframe\">\n",
       "  <thead>\n",
       "    <tr style=\"text-align: right;\">\n",
       "      <th></th>\n",
       "      <th>speed</th>\n",
       "      <th>dist</th>\n",
       "    </tr>\n",
       "  </thead>\n",
       "  <tbody>\n",
       "    <tr>\n",
       "      <th>0</th>\n",
       "      <td>4</td>\n",
       "      <td>2</td>\n",
       "    </tr>\n",
       "    <tr>\n",
       "      <th>1</th>\n",
       "      <td>4</td>\n",
       "      <td>10</td>\n",
       "    </tr>\n",
       "    <tr>\n",
       "      <th>2</th>\n",
       "      <td>7</td>\n",
       "      <td>4</td>\n",
       "    </tr>\n",
       "    <tr>\n",
       "      <th>3</th>\n",
       "      <td>7</td>\n",
       "      <td>22</td>\n",
       "    </tr>\n",
       "  </tbody>\n",
       "</table>\n",
       "</div>"
      ],
      "text/plain": [
       "   speed  dist\n",
       "0      4     2\n",
       "1      4    10\n",
       "2      7     4\n",
       "3      7    22"
      ]
     },
     "metadata": {},
     "output_type": "display_data"
    }
   ],
   "source": [
    "df = pd.read_csv('data/cars.csv')\n",
    "df.columns = ['speed','dist'] # 컬럼명 변경(speed:자동차속도, dist:제동거리)\n",
    "display(df.head(4))\n",
    "\n",
    "x_data = df['speed'].values # 자동차 속도\n",
    "y_data = df['dist'].values  # 자동차 제동거리"
   ]
  },
  {
   "cell_type": "code",
   "execution_count": 38,
   "id": "1964f5f3-0fa0-4000-b784-d92bc4096de7",
   "metadata": {},
   "outputs": [
    {
     "name": "stdout",
     "output_type": "stream",
     "text": [
      "Epoch 1/10\n",
      "2/2 [==============================] - 0s 3ms/step - loss: 2244.0886\n",
      "Epoch 2/10\n",
      "2/2 [==============================] - 0s 4ms/step - loss: 1947.0094\n",
      "Epoch 3/10\n",
      "2/2 [==============================] - 0s 4ms/step - loss: 1677.8387\n",
      "Epoch 4/10\n",
      "2/2 [==============================] - 0s 4ms/step - loss: 1445.2372\n",
      "Epoch 5/10\n",
      "2/2 [==============================] - 0s 4ms/step - loss: 1216.8354\n",
      "Epoch 6/10\n",
      "2/2 [==============================] - 0s 4ms/step - loss: 1021.2935\n",
      "Epoch 7/10\n",
      "2/2 [==============================] - 0s 3ms/step - loss: 858.4537\n",
      "Epoch 8/10\n",
      "2/2 [==============================] - 0s 5ms/step - loss: 725.7053\n",
      "Epoch 9/10\n",
      "2/2 [==============================] - 0s 3ms/step - loss: 606.6735\n",
      "Epoch 10/10\n",
      "2/2 [==============================] - 0s 3ms/step - loss: 504.7147\n"
     ]
    },
    {
     "data": {
      "text/html": [
       "<div>\n",
       "<style scoped>\n",
       "    .dataframe tbody tr th:only-of-type {\n",
       "        vertical-align: middle;\n",
       "    }\n",
       "\n",
       "    .dataframe tbody tr th {\n",
       "        vertical-align: top;\n",
       "    }\n",
       "\n",
       "    .dataframe thead th {\n",
       "        text-align: right;\n",
       "    }\n",
       "</style>\n",
       "<table border=\"1\" class=\"dataframe\">\n",
       "  <thead>\n",
       "    <tr style=\"text-align: right;\">\n",
       "      <th></th>\n",
       "      <th>loss</th>\n",
       "    </tr>\n",
       "  </thead>\n",
       "  <tbody>\n",
       "    <tr>\n",
       "      <th>0</th>\n",
       "      <td>2244.088623</td>\n",
       "    </tr>\n",
       "    <tr>\n",
       "      <th>1</th>\n",
       "      <td>1947.009399</td>\n",
       "    </tr>\n",
       "    <tr>\n",
       "      <th>2</th>\n",
       "      <td>1677.838745</td>\n",
       "    </tr>\n",
       "    <tr>\n",
       "      <th>3</th>\n",
       "      <td>1445.237183</td>\n",
       "    </tr>\n",
       "    <tr>\n",
       "      <th>4</th>\n",
       "      <td>1216.835449</td>\n",
       "    </tr>\n",
       "    <tr>\n",
       "      <th>5</th>\n",
       "      <td>1021.293457</td>\n",
       "    </tr>\n",
       "    <tr>\n",
       "      <th>6</th>\n",
       "      <td>858.453735</td>\n",
       "    </tr>\n",
       "    <tr>\n",
       "      <th>7</th>\n",
       "      <td>725.705322</td>\n",
       "    </tr>\n",
       "    <tr>\n",
       "      <th>8</th>\n",
       "      <td>606.673523</td>\n",
       "    </tr>\n",
       "    <tr>\n",
       "      <th>9</th>\n",
       "      <td>504.714722</td>\n",
       "    </tr>\n",
       "  </tbody>\n",
       "</table>\n",
       "</div>"
      ],
      "text/plain": [
       "          loss\n",
       "0  2244.088623\n",
       "1  1947.009399\n",
       "2  1677.838745\n",
       "3  1445.237183\n",
       "4  1216.835449\n",
       "5  1021.293457\n",
       "6   858.453735\n",
       "7   725.705322\n",
       "8   606.673523\n",
       "9   504.714722"
      ]
     },
     "execution_count": 38,
     "metadata": {},
     "output_type": "execute_result"
    }
   ],
   "source": [
    "# units:라벨의 갯수, input_dim:특성데이터갯수\n",
    "IO = Dense(units=1, input_dim=1) # w, b 정의\n",
    "model = Sequential([IO]) # 시퀀스에 Dense를 쌓는다\n",
    "# loss: 손실률 > 적을 수록 좋다\n",
    "model.compile(loss='mse', optimizer=Adam(0.1)) # mes: Mean Square Error\n",
    "history = model.fit(x_data, y_data, epochs=500) # 학습 500회 결과 history\n",
    "\n",
    "df = pd.DataFrame(history.history)\n",
    "df"
   ]
  },
  {
   "cell_type": "code",
   "execution_count": 39,
   "id": "931b4b01-a3d2-404d-9fbb-98a4b2e739fc",
   "metadata": {},
   "outputs": [
    {
     "name": "stdout",
     "output_type": "stream",
     "text": [
      "w:1.985256, b:1.840320\n"
     ]
    },
    {
     "data": {
      "image/png": "[encoded data removed]",
      "text/plain": [
       "<Figure size 432x288 with 1 Axes>"
      ]
     },
     "metadata": {
      "needs_background": "light"
     },
     "output_type": "display_data"
    }
   ],
   "source": [
    "w, b = IO.get_weights()\n",
    "print('w:%f, b:%f' % (w,b))\n",
    "\n",
    "history_loss = history.history['loss'] # 학습결과 보기\n",
    "\n",
    "plt.title('car speed & dist')\n",
    "plt.xlabel('speed')\n",
    "plt.ylabel('dist')\n",
    "plt.plot(history_loss)\n",
    "plt.show()\n"
   ]
  },
  {
   "cell_type": "code",
   "execution_count": 24,
   "id": "020a7613-c25a-4160-aca9-008e3652ba7a",
   "metadata": {},
   "outputs": [
    {
     "data": {
      "text/plain": [
       "array([[24.276634],\n",
       "       [42.114704]], dtype=float32)"
      ]
     },
     "execution_count": 24,
     "metadata": {},
     "output_type": "execute_result"
    }
   ],
   "source": [
    "# 자동차 속도 10, 15에 대한 제동거리 예측값\n",
    "model.predict([10,15])"
   ]
  },
  {
   "cell_type": "code",
   "execution_count": 35,
   "id": "5413073f-9a10-4c78-812c-da9e19e4573f",
   "metadata": {},
   "outputs": [
    {
     "data": {
      "image/png": "[encoded data removed]",
      "text/plain": [
       "<Figure size 432x288 with 1 Axes>"
      ]
     },
     "metadata": {
      "needs_background": "light"
     },
     "output_type": "display_data"
    }
   ],
   "source": [
    "model_loss = model.predict(history_loss)\n",
    "\n",
    "plt.title('car speed & dist')\n",
    "plt.xlabel('speed')\n",
    "plt.ylabel('dist')\n",
    "plt.scatter(x_data, y_data)\n",
    "plt.plot(x_data, model.predict(x_data), 'r--')\n",
    "plt.show()"
   ]
  }
 ],
 "metadata": {
  "kernelspec": {
   "display_name": "Python 3 (ipykernel)",
   "language": "python",
   "name": "python3"
  },
  "language_info": {
   "codemirror_mode": {
    "name": "ipython",
    "version": 3
   },
   "file_extension": ".py",
   "mimetype": "text/x-python",
   "name": "python",
   "nbconvert_exporter": "python",
   "pygments_lexer": "ipython3",
   "version": "3.9.10"
  }
 },
 "nbformat": 4,
 "nbformat_minor": 5
}
