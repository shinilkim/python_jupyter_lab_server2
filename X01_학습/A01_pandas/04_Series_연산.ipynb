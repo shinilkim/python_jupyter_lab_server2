{
 "cells": [
  {
   "cell_type": "code",
   "execution_count": 1,
   "id": "149b0197",
   "metadata": {},
   "outputs": [],
   "source": [
    "import pandas as pd\n",
    "import numpy as np"
   ]
  },
  {
   "cell_type": "code",
   "execution_count": 6,
   "id": "3eb59313",
   "metadata": {},
   "outputs": [],
   "source": [
    "data = [10, 20, 30, 40, 50]    # list\n",
    "sr = pd.Series(data, index=['a', 'b', 'c', 'd', 'e'], name='kor')"
   ]
  },
  {
   "cell_type": "code",
   "execution_count": 8,
   "id": "502a9313",
   "metadata": {
    "collapsed": true
   },
   "outputs": [
    {
     "name": "stdout",
     "output_type": "stream",
     "text": [
      "a     9\n",
      "b    19\n",
      "c    29\n",
      "d    39\n",
      "e    49\n",
      "Name: kor, dtype: int64\n",
      "a     20\n",
      "b     40\n",
      "c     60\n",
      "d     80\n",
      "e    100\n",
      "Name: kor, dtype: int64\n",
      "a    10\n",
      "c    30\n",
      "e    50\n",
      "Name: kor, dtype: int64\n"
     ]
    }
   ],
   "source": [
    "# 산술연산(+, -, *, /, %:나머지, //:몫, **:지수연사)\n",
    "# 관계연산(>, >=, <, <=, ==, !=)\n",
    "# 논리연산( and(&), or(|), not(~))\n",
    "# element wise(요소별 연산)\n",
    "\n",
    "print(sr - 1)\n",
    "print(sr * 2)\n",
    "print(sr[0::2]) # 0, 2, 4"
   ]
  },
  {
   "cell_type": "code",
   "execution_count": 9,
   "id": "e092f498",
   "metadata": {},
   "outputs": [
    {
     "data": {
      "text/plain": [
       "a    10\n",
       "b    20\n",
       "e    50\n",
       "Name: kor, dtype: int64"
      ]
     },
     "execution_count": 9,
     "metadata": {},
     "output_type": "execute_result"
    }
   ],
   "source": [
    "print(sr[[0,1,4]]) # 복수개의 인덱스를 선택"
   ]
  },
  {
   "cell_type": "code",
   "execution_count": 11,
   "id": "96a54365",
   "metadata": {},
   "outputs": [
    {
     "data": {
      "text/plain": [
       "a    10\n",
       "b    20\n",
       "e    50\n",
       "Name: kor, dtype: int64"
      ]
     },
     "execution_count": 11,
     "metadata": {},
     "output_type": "execute_result"
    }
   ],
   "source": [
    "sr[[True, True, False, False, True]] # boolean indexing (배열에 True 인 데이터만 뽑아온다)"
   ]
  },
  {
   "cell_type": "code",
   "execution_count": 13,
   "id": "e736acba",
   "metadata": {
    "collapsed": true
   },
   "outputs": [
    {
     "name": "stdout",
     "output_type": "stream",
     "text": [
      "a    False\n",
      "b    False\n",
      "c     True\n",
      "d     True\n",
      "e     True\n",
      "Name: kor, dtype: bool\n",
      "[c    30\n",
      "d    40\n",
      "e    50\n",
      "Name: kor, dtype: int64]\n"
     ]
    }
   ],
   "source": [
    "# 데이터를 필터링 할 때 사용하자.\n",
    "print(sr >= 30)     # boolean 리턴\n",
    "print([sr[sr>=30]]) # value 리턴"
   ]
  },
  {
   "cell_type": "code",
   "execution_count": 18,
   "id": "51260d15",
   "metadata": {
    "collapsed": true
   },
   "outputs": [
    {
     "name": "stdout",
     "output_type": "stream",
     "text": [
      "a     True\n",
      "b     True\n",
      "c    False\n",
      "d     True\n",
      "e    False\n",
      "Name: kor, dtype: bool\n",
      "[c    30\n",
      "e    50\n",
      "Name: kor, dtype: int64]\n",
      "a    False\n",
      "b    False\n",
      "c     True\n",
      "d    False\n",
      "e    False\n",
      "Name: kor, dtype: bool\n",
      "[c    30\n",
      "Name: kor, dtype: int64]\n"
     ]
    }
   ],
   "source": [
    "print( ~((sr==30) | (sr==50)) ) # ~ Not\n",
    "print( [sr[(sr==30) | (sr==50)]] )\n",
    "print( (sr>20) & (sr<40) )\n",
    "print( [sr[(sr>20) & (sr<40)]] )"
   ]
  },
  {
   "cell_type": "code",
   "execution_count": 19,
   "id": "77afeb2b",
   "metadata": {},
   "outputs": [
    {
     "data": {
      "text/plain": [
       "0     967.0\n",
       "1    1934.0\n",
       "2    2901.0\n",
       "3    3868.0\n",
       "dtype: float64"
      ]
     },
     "execution_count": 19,
     "metadata": {},
     "output_type": "execute_result"
    }
   ],
   "source": [
    "# 문제: 세금 3.3% 을 제한 실수령액을 구하시요.\n",
    "salary = pd.Series([1000, 2000, 3000, 4000])\n",
    "salary * (1-0.033)"
   ]
  },
  {
   "cell_type": "code",
   "execution_count": 27,
   "id": "f6345555",
   "metadata": {},
   "outputs": [
    {
     "name": "stdout",
     "output_type": "stream",
     "text": [
      "b    20\n",
      "e    50\n",
      "Name: kor, dtype: int64\n",
      "b    20\n",
      "e    50\n",
      "Name: kor, dtype: int64\n",
      "b    20\n",
      "e    50\n",
      "Name: kor, dtype: int64\n"
     ]
    }
   ],
   "source": [
    "# 문제 sr 데이터에서 20과 50 데이터를 선택하시오.\n",
    "print( sr[ (sr==20) | (sr==50) ] )              # 요소\n",
    "print( sr[sr.isin([20,50])] )                    # isin 함수 이용\n",
    "print( sr[ (sr.index=='b') | (sr.index=='e') ] ) # index 이용"
   ]
  }
 ],
 "metadata": {
  "kernelspec": {
   "display_name": "Python 3 (ipykernel)",
   "language": "python",
   "name": "python3"
  },
  "language_info": {
   "codemirror_mode": {
    "name": "ipython",
    "version": 3
   },
   "file_extension": ".py",
   "mimetype": "text/x-python",
   "name": "python",
   "nbconvert_exporter": "python",
   "pygments_lexer": "ipython3",
   "version": "3.9.1"
  }
 },
 "nbformat": 4,
 "nbformat_minor": 5
}
