{
 "cells": [
  {
   "cell_type": "markdown",
   "id": "126e649e",
   "metadata": {},
   "source": [
    "# 인덱싱: 데이터의 요소를 추출"
   ]
  },
  {
   "cell_type": "code",
   "execution_count": 2,
   "id": "782bab7d",
   "metadata": {},
   "outputs": [],
   "source": [
    "import pandas as pd\n",
    "import numpy as np"
   ]
  },
  {
   "cell_type": "code",
   "execution_count": 3,
   "id": "f0cec0de",
   "metadata": {
    "scrolled": true
   },
   "outputs": [
    {
     "name": "stdout",
     "output_type": "stream",
     "text": [
      "{sr[0]: 10 , sr[-1]: 50 , sr['이십']: 20 }\n"
     ]
    }
   ],
   "source": [
    "data = [10, 20, 30, 40, 50]    # list\n",
    "sr = pd.Series(data, index=['십', '이십', '삼십', '사십', '오십'], name='kor')\n",
    "print(\"{sr[0]:\",sr[0],\", sr[-1]:\",sr[-1],\", sr['이십']:\",sr['이십'],\"}\")"
   ]
  },
  {
   "cell_type": "code",
   "execution_count": 18,
   "id": "4d684283",
   "metadata": {
    "collapsed": true
   },
   "outputs": [
    {
     "name": "stdout",
     "output_type": "stream",
     "text": [
      "sr[1:4:2] =>  이십    20\n",
      "사십    40\n",
      "Name: kor, dtype: int64\n",
      "sr[1:3] =>  이십    20\n",
      "삼십    30\n",
      "Name: kor, dtype: int64\n",
      "sr[2:] =>  삼십    30\n",
      "사십    40\n",
      "오십    50\n",
      "Name: kor, dtype: int64\n",
      "sr[1:-1] =>  이십    20\n",
      "삼십    30\n",
      "사십    40\n",
      "Name: kor, dtype: int64\n",
      "sr['십':'삼십'] =>  십     10\n",
      "이십    20\n",
      "삼십    30\n",
      "Name: kor, dtype: int64\n"
     ]
    }
   ],
   "source": [
    "# slicing [시작인덱스: 끝인덱스:증가치]\n",
    "print(\"sr[1:4:2] => \", sr[1:4:2])\n",
    "print(\"sr[1:3] => \", sr[1:3])\n",
    "print(\"sr[2:] => \", sr[2:])\n",
    "print(\"sr[1:-1] => \", sr[1:-1])\n",
    "print(\"sr['십':'삼십'] => \", sr['십':'삼십'])"
   ]
  },
  {
   "cell_type": "code",
   "execution_count": 4,
   "id": "e0dab058",
   "metadata": {},
   "outputs": [
    {
     "name": "stdout",
     "output_type": "stream",
     "text": [
      "{sr.iloc[0]: 10 , sr.iloc[-1] 50 }\n"
     ]
    }
   ],
   "source": [
    "sr.iloc[0] # 숫자 인덱스만 가능\n",
    "print(\"{sr.iloc[0]:\",sr.iloc[0],\", sr.iloc[-1]: \",sr.iloc[-1],\"}\")"
   ]
  },
  {
   "cell_type": "code",
   "execution_count": 20,
   "id": "f902450e",
   "metadata": {},
   "outputs": [
    {
     "data": {
      "text/plain": [
       "10"
      ]
     },
     "execution_count": 20,
     "metadata": {},
     "output_type": "execute_result"
    }
   ],
   "source": [
    "sr.loc['십'] # 부여된 인덱스만 가능"
   ]
  },
  {
   "cell_type": "code",
   "execution_count": 21,
   "id": "ad7df724",
   "metadata": {},
   "outputs": [
    {
     "data": {
      "text/plain": [
       "Index(['십', '이십', '삼십', '사십', '오십'], dtype='object')"
      ]
     },
     "execution_count": 21,
     "metadata": {},
     "output_type": "execute_result"
    }
   ],
   "source": [
    "sr.index"
   ]
  }
 ],
 "metadata": {
  "kernelspec": {
   "display_name": "Python 3 (ipykernel)",
   "language": "python",
   "name": "python3"
  },
  "language_info": {
   "codemirror_mode": {
    "name": "ipython",
    "version": 3
   },
   "file_extension": ".py",
   "mimetype": "text/x-python",
   "name": "python",
   "nbconvert_exporter": "python",
   "pygments_lexer": "ipython3",
   "version": "3.9.1"
  }
 },
 "nbformat": 4,
 "nbformat_minor": 5
}
