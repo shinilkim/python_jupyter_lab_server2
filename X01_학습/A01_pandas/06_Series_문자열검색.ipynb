{
 "cells": [
  {
   "cell_type": "code",
   "execution_count": 1,
   "id": "f571ed05",
   "metadata": {},
   "outputs": [],
   "source": [
    "import pandas as pd\n",
    "import numpy as np"
   ]
  },
  {
   "cell_type": "code",
   "execution_count": 2,
   "id": "f30da293",
   "metadata": {
    "collapsed": true
   },
   "outputs": [
    {
     "name": "stdout",
     "output_type": "stream",
     "text": [
      "a1    하나영\n",
      "a2    곽영미\n",
      "a3    박은정\n",
      "a4    김성희\n",
      "a5    이지연\n",
      "a6    박정혜\n",
      "dtype: object\n",
      "a2    곽영미\n",
      "dtype: object\n"
     ]
    }
   ],
   "source": [
    "sr = pd.Series(['하나영','곽영미','박은정','김성희','이지연','박정혜'])\n",
    "sr.index=['a1','a2','a3','a4','a5','a6']\n",
    "print(sr)\n",
    "print(sr[sr=='곽영미'])"
   ]
  },
  {
   "cell_type": "code",
   "execution_count": 3,
   "id": "d9b43e72",
   "metadata": {
    "collapsed": true
   },
   "outputs": [
    {
     "name": "stdout",
     "output_type": "stream",
     "text": [
      "a1    하\n",
      "a2    곽\n",
      "a3    박\n",
      "a4    김\n",
      "a5    이\n",
      "a6    박\n",
      "dtype: object\n",
      "a1    나영\n",
      "a2    영미\n",
      "a3    은정\n",
      "a4    성희\n",
      "a5    지연\n",
      "a6    정혜\n",
      "dtype: object\n"
     ]
    }
   ],
   "source": [
    "print(sr.str[0])\n",
    "print(sr.str[1:])"
   ]
  },
  {
   "cell_type": "code",
   "execution_count": 4,
   "id": "2f6c4fae",
   "metadata": {
    "collapsed": true
   },
   "outputs": [
    {
     "name": "stdout",
     "output_type": "stream",
     "text": [
      "a1     True\n",
      "a2     True\n",
      "a3    False\n",
      "a4    False\n",
      "a5    False\n",
      "a6    False\n",
      "dtype: bool\n",
      "a1    하나영\n",
      "a2    곽영미\n",
      "dtype: object\n",
      "a3    박은정\n",
      "a6    박정혜\n",
      "dtype: object\n",
      "a3    박은정\n",
      "dtype: object\n",
      "a3    박은정\n",
      "a6    박정혜\n",
      "dtype: object\n",
      "a2    곽영미\n",
      "a3    박은정\n",
      "dtype: object\n"
     ]
    }
   ],
   "source": [
    "print(sr.str.contains('영'))     # '영' 을 포함한 데이터 검색(boolean 으로 리턴)\n",
    "print(sr[sr.str.contains('영')]) # '영' 을 포함한 데이터만 검색\n",
    "print(sr[sr.str.contains('^박')]) # '박' 으로 시작하는 데이터만 검색\n",
    "print(sr[sr.str.contains('정$')]) # '정' 으로 끝나는 데이터만 검색\n",
    "print(sr[sr.str.contains('박[정은]')]) # [] 문자의 집합중 하나\n",
    "print(sr[sr.str.contains('영미|은정')]) # | or"
   ]
  },
  {
   "cell_type": "code",
   "execution_count": 5,
   "id": "7e83ab4e",
   "metadata": {
    "collapsed": true
   },
   "outputs": [
    {
     "name": "stdout",
     "output_type": "stream",
     "text": [
      "a1    하나영\n",
      "a2    곽영미\n",
      "a3    소은정\n",
      "a4    김성희\n",
      "a5    이지연\n",
      "a6    소정혜\n",
      "dtype: object\n",
      "a1    하나영\n",
      "a2    곽영미\n",
      "a3    박은말\n",
      "a4    김성희\n",
      "a5    이지연\n",
      "a6    박정혜\n",
      "dtype: object\n"
     ]
    },
    {
     "name": "stderr",
     "output_type": "stream",
     "text": [
      "/var/folders/zt/r1nykwsd39z05wkwqc8cfskw0000gn/T/ipykernel_17263/961578440.py:2: FutureWarning: The default value of regex will change from True to False in a future version.\n",
      "  print(sr.str.replace('정$','말')) # '정' 으로 끝나는 '정' 문자를 '말' 로 변경\n"
     ]
    }
   ],
   "source": [
    "print(sr.str.replace('박','소'))  # 값 변경\n",
    "print(sr.str.replace('정$','말')) # '정' 으로 끝나는 '정' 문자를 '말' 로 변경"
   ]
  }
 ],
 "metadata": {
  "kernelspec": {
   "display_name": "Python 3 (ipykernel)",
   "language": "python",
   "name": "python3"
  },
  "language_info": {
   "codemirror_mode": {
    "name": "ipython",
    "version": 3
   },
   "file_extension": ".py",
   "mimetype": "text/x-python",
   "name": "python",
   "nbconvert_exporter": "python",
   "pygments_lexer": "ipython3",
   "version": "3.9.1"
  }
 },
 "nbformat": 4,
 "nbformat_minor": 5
}