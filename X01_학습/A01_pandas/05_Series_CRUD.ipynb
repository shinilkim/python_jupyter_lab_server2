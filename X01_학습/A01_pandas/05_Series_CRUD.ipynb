{
 "cells": [
  {
   "cell_type": "markdown",
   "id": "c3790f6c",
   "metadata": {},
   "source": [
    "#### CRUD 생성, 추가, 수정, 삭제, 검색, 정렬"
   ]
  },
  {
   "cell_type": "code",
   "execution_count": 1,
   "id": "cc29dee4",
   "metadata": {},
   "outputs": [],
   "source": [
    "import pandas as pd\n",
    "import numpy as np"
   ]
  },
  {
   "cell_type": "code",
   "execution_count": 2,
   "id": "2ee107de",
   "metadata": {},
   "outputs": [],
   "source": [
    "data = [10, 20, 30, 40, 50]    # list\n",
    "sr = pd.Series(data, index=['a', 'b', 'c', 'd', 'e'], name='kor')"
   ]
  },
  {
   "cell_type": "code",
   "execution_count": 3,
   "id": "d6242834",
   "metadata": {
    "collapsed": true
   },
   "outputs": [
    {
     "name": "stdout",
     "output_type": "stream",
     "text": [
      "a    100\n",
      "b    200\n",
      "c     30\n",
      "d     40\n",
      "e     50\n",
      "Name: kor, dtype: int64\n",
      "a    100\n",
      "b      1\n",
      "c      2\n",
      "d      3\n",
      "e     50\n",
      "Name: kor, dtype: int64\n",
      "a    100\n",
      "b      3\n",
      "c      4\n",
      "d      5\n",
      "e     50\n",
      "Name: kor, dtype: int64\n"
     ]
    }
   ],
   "source": [
    "sr['a'] = 100\n",
    "sr[1] = 200\n",
    "print(sr)\n",
    "sr[1:4] = [1,2,3]\n",
    "print(sr)\n",
    "sr[1:4] = sr[1:4] + 2\n",
    "print(sr)"
   ]
  },
  {
   "cell_type": "code",
   "execution_count": 4,
   "id": "f14d4170",
   "metadata": {
    "collapsed": true
   },
   "outputs": [
    {
     "name": "stdout",
     "output_type": "stream",
     "text": [
      "a    100\n",
      "b      3\n",
      "c      4\n",
      "d      5\n",
      "e     50\n",
      "Name: kor, dtype: int64\n",
      "a    105\n",
      "b      3\n",
      "c      4\n",
      "d      5\n",
      "e     55\n",
      "Name: kor, dtype: int64\n"
     ]
    }
   ],
   "source": [
    "# 30 이상인 데이터에 5를 더한 값으로 수정하시오.\n",
    "print(sr)\n",
    "sr[sr >= 30 ] = sr[sr >= 30 ] + 5\n",
    "print(sr)"
   ]
  },
  {
   "cell_type": "code",
   "execution_count": 5,
   "id": "e96a57cd",
   "metadata": {
    "collapsed": true
   },
   "outputs": [
    {
     "name": "stdout",
     "output_type": "stream",
     "text": [
      "b    20\n",
      "c    30\n",
      "d    40\n",
      "e    50\n",
      "Name: kor, dtype: int64\n",
      "c    30\n",
      "d    40\n",
      "e    50\n",
      "Name: kor, dtype: int64\n"
     ]
    }
   ],
   "source": [
    "sr = pd.Series(data, index=['a', 'b', 'c', 'd', 'e'], name='kor')\n",
    "# sr.drop(인덱스)\n",
    "sr = sr.drop('a') # a index를 삭제한다.(적용을 할려면 다시 sr 에 할당해야 한다.)\n",
    "print(sr)\n",
    "sr.drop('b', inplace=True) # sr 에서 인덱스 b를 메모리에서 직접 바로 삭제한다.\n",
    "print(sr)"
   ]
  },
  {
   "cell_type": "code",
   "execution_count": 6,
   "id": "2ddab5c4",
   "metadata": {
    "collapsed": true
   },
   "outputs": [
    {
     "name": "stdout",
     "output_type": "stream",
     "text": [
      "a    10\n",
      "b    20\n",
      "c    30\n",
      "d    40\n",
      "e    50\n",
      "Name: kor, dtype: int64\n",
      "a     80\n",
      "b     90\n",
      "c    100\n",
      "d     40\n",
      "e     50\n",
      "Name: kor, dtype: int64\n",
      "d     40\n",
      "e     50\n",
      "a     80\n",
      "b     90\n",
      "c    100\n",
      "Name: kor, dtype: int64\n",
      "c    100\n",
      "b     90\n",
      "a     80\n",
      "e     50\n",
      "d     40\n",
      "Name: kor, dtype: int64\n",
      "a     80\n",
      "b     90\n",
      "c    100\n",
      "d     40\n",
      "e     50\n",
      "Name: kor, dtype: int64\n"
     ]
    }
   ],
   "source": [
    "sr = pd.Series(data, index=['a', 'b', 'c', 'd', 'e'], name='kor')\n",
    "print(sr)\n",
    "sr[sr <= 30] = sr[sr <= 30] + 70\n",
    "print(sr)\n",
    "sr = sr.sort_values() # 오름차순 정렬(default ascending=True)\n",
    "print(sr)\n",
    "sr = sr.sort_values(ascending=False) # 내림차순 정렬\n",
    "print(sr)\n",
    "sr = sr.sort_index() # index 기준으로 정렬\n",
    "print(sr)"
   ]
  }
 ],
 "metadata": {
  "kernelspec": {
   "display_name": "Python 3 (ipykernel)",
   "language": "python",
   "name": "python3"
  },
  "language_info": {
   "codemirror_mode": {
    "name": "ipython",
    "version": 3
   },
   "file_extension": ".py",
   "mimetype": "text/x-python",
   "name": "python",
   "nbconvert_exporter": "python",
   "pygments_lexer": "ipython3",
   "version": "3.9.1"
  }
 },
 "nbformat": 4,
 "nbformat_minor": 5
}