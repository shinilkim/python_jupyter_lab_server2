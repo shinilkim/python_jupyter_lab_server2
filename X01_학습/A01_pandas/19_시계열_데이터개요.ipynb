{
 "cells": [
  {
   "cell_type": "code",
   "execution_count": 1,
   "id": "cd5105c9-6456-4153-84b3-378a7e8936f9",
   "metadata": {},
   "outputs": [],
   "source": [
    "import pandas as pd\n",
    "from datetime import datetime"
   ]
  },
  {
   "cell_type": "code",
   "execution_count": 7,
   "id": "0ad04b30-81b1-452a-b5ce-7204d6c561fe",
   "metadata": {},
   "outputs": [
    {
     "name": "stdout",
     "output_type": "stream",
     "text": [
      "2021 12 31 1 2 3\n"
     ]
    }
   ],
   "source": [
    "dt = datetime(2021,12,31, 1,2,3)\n",
    "print(dt.year, dt.month, dt.day, dt.hour, dt.minute, dt.second)"
   ]
  },
  {
   "cell_type": "code",
   "execution_count": 19,
   "id": "96b1a034-7cf6-4c40-a479-2e82ae95aa32",
   "metadata": {},
   "outputs": [
    {
     "data": {
      "text/html": [
       "<div>\n",
       "<style scoped>\n",
       "    .dataframe tbody tr th:only-of-type {\n",
       "        vertical-align: middle;\n",
       "    }\n",
       "\n",
       "    .dataframe tbody tr th {\n",
       "        vertical-align: top;\n",
       "    }\n",
       "\n",
       "    .dataframe thead th {\n",
       "        text-align: right;\n",
       "    }\n",
       "</style>\n",
       "<table border=\"1\" class=\"dataframe\">\n",
       "  <thead>\n",
       "    <tr style=\"text-align: right;\">\n",
       "      <th></th>\n",
       "      <th>이름</th>\n",
       "      <th>나이</th>\n",
       "      <th>생일</th>\n",
       "    </tr>\n",
       "  </thead>\n",
       "  <tbody>\n",
       "    <tr>\n",
       "      <th>0</th>\n",
       "      <td>곽영미</td>\n",
       "      <td>49</td>\n",
       "      <td>1972-01-01</td>\n",
       "    </tr>\n",
       "    <tr>\n",
       "      <th>1</th>\n",
       "      <td>하나영</td>\n",
       "      <td>45</td>\n",
       "      <td>1978-10-23</td>\n",
       "    </tr>\n",
       "    <tr>\n",
       "      <th>2</th>\n",
       "      <td>박은정</td>\n",
       "      <td>48</td>\n",
       "      <td>1973-05-12</td>\n",
       "    </tr>\n",
       "  </tbody>\n",
       "</table>\n",
       "</div>"
      ],
      "text/plain": [
       "    이름  나이          생일\n",
       "0  곽영미  49  1972-01-01\n",
       "1  하나영  45  1978-10-23\n",
       "2  박은정  48  1973-05-12"
      ]
     },
     "metadata": {},
     "output_type": "display_data"
    },
    {
     "name": "stdout",
     "output_type": "stream",
     "text": [
      "<class 'pandas.core.frame.DataFrame'>\n",
      "RangeIndex: 3 entries, 0 to 2\n",
      "Data columns (total 3 columns):\n",
      " #   Column  Non-Null Count  Dtype \n",
      "---  ------  --------------  ----- \n",
      " 0   이름      3 non-null      object\n",
      " 1   나이      3 non-null      int64 \n",
      " 2   생일      3 non-null      object\n",
      "dtypes: int64(1), object(2)\n",
      "memory usage: 200.0+ bytes\n"
     ]
    }
   ],
   "source": [
    "data = [{'이름':'곽영미', '나이':49, '생일': '1972-01-01'},\n",
    "        {'이름':'하나영', '나이':45, '생일': '1978-10-23'},\n",
    "        {'이름':'박은정', '나이':48, '생일': '1973-05-12'}]\n",
    "df = pd.DataFrame(data)\n",
    "display(df)\n",
    "df.info() # 생일이 object로 되어 있으므로 시계열을 사용할 수 없다"
   ]
  },
  {
   "cell_type": "code",
   "execution_count": 21,
   "id": "d7b0b8a2-af87-4474-9b8d-c8a8bc41cb1f",
   "metadata": {},
   "outputs": [
    {
     "data": {
      "text/html": [
       "<div>\n",
       "<style scoped>\n",
       "    .dataframe tbody tr th:only-of-type {\n",
       "        vertical-align: middle;\n",
       "    }\n",
       "\n",
       "    .dataframe tbody tr th {\n",
       "        vertical-align: top;\n",
       "    }\n",
       "\n",
       "    .dataframe thead th {\n",
       "        text-align: right;\n",
       "    }\n",
       "</style>\n",
       "<table border=\"1\" class=\"dataframe\">\n",
       "  <thead>\n",
       "    <tr style=\"text-align: right;\">\n",
       "      <th></th>\n",
       "      <th>이름</th>\n",
       "      <th>나이</th>\n",
       "      <th>생일</th>\n",
       "    </tr>\n",
       "  </thead>\n",
       "  <tbody>\n",
       "    <tr>\n",
       "      <th>0</th>\n",
       "      <td>곽영미</td>\n",
       "      <td>49</td>\n",
       "      <td>1972-01-01</td>\n",
       "    </tr>\n",
       "    <tr>\n",
       "      <th>1</th>\n",
       "      <td>하나영</td>\n",
       "      <td>45</td>\n",
       "      <td>1978-10-23</td>\n",
       "    </tr>\n",
       "    <tr>\n",
       "      <th>2</th>\n",
       "      <td>박은정</td>\n",
       "      <td>48</td>\n",
       "      <td>1973-05-12</td>\n",
       "    </tr>\n",
       "  </tbody>\n",
       "</table>\n",
       "</div>"
      ],
      "text/plain": [
       "    이름  나이         생일\n",
       "0  곽영미  49 1972-01-01\n",
       "1  하나영  45 1978-10-23\n",
       "2  박은정  48 1973-05-12"
      ]
     },
     "metadata": {},
     "output_type": "display_data"
    },
    {
     "name": "stdout",
     "output_type": "stream",
     "text": [
      "<class 'pandas.core.frame.DataFrame'>\n",
      "RangeIndex: 3 entries, 0 to 2\n",
      "Data columns (total 3 columns):\n",
      " #   Column  Non-Null Count  Dtype         \n",
      "---  ------  --------------  -----         \n",
      " 0   이름      3 non-null      object        \n",
      " 1   나이      3 non-null      int64         \n",
      " 2   생일      3 non-null      datetime64[ns]\n",
      "dtypes: datetime64[ns](1), int64(1), object(1)\n",
      "memory usage: 200.0+ bytes\n"
     ]
    }
   ],
   "source": [
    "data = [{'이름':'곽영미', '나이':49, '생일': '1972-01-01'},\n",
    "        {'이름':'하나영', '나이':45, '생일': '1978-10-23'},\n",
    "        {'이름':'박은정', '나이':48, '생일': '1973-05-12'}]\n",
    "df = pd.DataFrame(data)\n",
    "df.생일 = pd.to_datetime(df.생일) # 포멧: 년-월-일 시:분:초 or 년/월/일 or 년.월.일\n",
    "display(df)\n",
    "df.info()"
   ]
  },
  {
   "cell_type": "code",
   "execution_count": 32,
   "id": "c57ab7a8-a8a4-4b52-8faf-d400e7d03c25",
   "metadata": {},
   "outputs": [
    {
     "data": {
      "text/html": [
       "<div>\n",
       "<style scoped>\n",
       "    .dataframe tbody tr th:only-of-type {\n",
       "        vertical-align: middle;\n",
       "    }\n",
       "\n",
       "    .dataframe tbody tr th {\n",
       "        vertical-align: top;\n",
       "    }\n",
       "\n",
       "    .dataframe thead th {\n",
       "        text-align: right;\n",
       "    }\n",
       "</style>\n",
       "<table border=\"1\" class=\"dataframe\">\n",
       "  <thead>\n",
       "    <tr style=\"text-align: right;\">\n",
       "      <th></th>\n",
       "      <th>이름</th>\n",
       "      <th>나이</th>\n",
       "      <th>생일</th>\n",
       "    </tr>\n",
       "  </thead>\n",
       "  <tbody>\n",
       "    <tr>\n",
       "      <th>0</th>\n",
       "      <td>곽영미</td>\n",
       "      <td>49</td>\n",
       "      <td>1972-01-01</td>\n",
       "    </tr>\n",
       "    <tr>\n",
       "      <th>1</th>\n",
       "      <td>하나영</td>\n",
       "      <td>45</td>\n",
       "      <td>1978-10-23</td>\n",
       "    </tr>\n",
       "    <tr>\n",
       "      <th>2</th>\n",
       "      <td>박은정</td>\n",
       "      <td>48</td>\n",
       "      <td>1973-05-12</td>\n",
       "    </tr>\n",
       "  </tbody>\n",
       "</table>\n",
       "</div>"
      ],
      "text/plain": [
       "    이름  나이         생일\n",
       "0  곽영미  49 1972-01-01\n",
       "1  하나영  45 1978-10-23\n",
       "2  박은정  48 1973-05-12"
      ]
     },
     "metadata": {},
     "output_type": "display_data"
    },
    {
     "name": "stdout",
     "output_type": "stream",
     "text": [
      "<class 'pandas.core.frame.DataFrame'>\n",
      "RangeIndex: 3 entries, 0 to 2\n",
      "Data columns (total 3 columns):\n",
      " #   Column  Non-Null Count  Dtype         \n",
      "---  ------  --------------  -----         \n",
      " 0   이름      3 non-null      object        \n",
      " 1   나이      3 non-null      int64         \n",
      " 2   생일      3 non-null      datetime64[ns]\n",
      "dtypes: datetime64[ns](1), int64(1), object(1)\n",
      "memory usage: 200.0+ bytes\n"
     ]
    }
   ],
   "source": [
    "data = [{'이름':'곽영미', '나이':49, '생일': datetime.strptime('1972-01-01',\"%Y-%m-%d\")},\n",
    "        {'이름':'하나영', '나이':45, '생일': datetime.strptime('1978-10-23',\"%Y-%m-%d\")},\n",
    "        {'이름':'박은정', '나이':48, '생일': datetime.strptime('1973-05-12',\"%Y-%m-%d\")}]\n",
    "df = pd.DataFrame(data)\n",
    "display(df)\n",
    "df.info() # 생일의 datetime64로 "
   ]
  },
  {
   "cell_type": "code",
   "execution_count": 38,
   "id": "452a32c2-5c1f-4a50-a3a7-e63f23df82d8",
   "metadata": {},
   "outputs": [
    {
     "data": {
      "text/html": [
       "<div>\n",
       "<style scoped>\n",
       "    .dataframe tbody tr th:only-of-type {\n",
       "        vertical-align: middle;\n",
       "    }\n",
       "\n",
       "    .dataframe tbody tr th {\n",
       "        vertical-align: top;\n",
       "    }\n",
       "\n",
       "    .dataframe thead th {\n",
       "        text-align: right;\n",
       "    }\n",
       "</style>\n",
       "<table border=\"1\" class=\"dataframe\">\n",
       "  <thead>\n",
       "    <tr style=\"text-align: right;\">\n",
       "      <th></th>\n",
       "      <th>이름</th>\n",
       "      <th>나이</th>\n",
       "    </tr>\n",
       "    <tr>\n",
       "      <th>생일</th>\n",
       "      <th></th>\n",
       "      <th></th>\n",
       "    </tr>\n",
       "  </thead>\n",
       "  <tbody>\n",
       "    <tr>\n",
       "      <th>1978-10-23</th>\n",
       "      <td>하나영</td>\n",
       "      <td>45</td>\n",
       "    </tr>\n",
       "    <tr>\n",
       "      <th>1973-05-12</th>\n",
       "      <td>박은정</td>\n",
       "      <td>48</td>\n",
       "    </tr>\n",
       "  </tbody>\n",
       "</table>\n",
       "</div>"
      ],
      "text/plain": [
       "             이름  나이\n",
       "생일                 \n",
       "1978-10-23  하나영  45\n",
       "1973-05-12  박은정  48"
      ]
     },
     "metadata": {},
     "output_type": "display_data"
    },
    {
     "data": {
      "text/plain": [
       "DatetimeIndex(['1972-01-01', '1978-10-23', '1973-05-12'], dtype='datetime64[ns]', name='생일', freq=None)"
      ]
     },
     "metadata": {},
     "output_type": "display_data"
    }
   ],
   "source": [
    "# df.set_index('생일', inplace=True)\n",
    "display(df.query(\"생일 > '1973-01-01'\"))\n",
    "display(df.index)"
   ]
  }
 ],
 "metadata": {
  "kernelspec": {
   "display_name": "Python 3 (ipykernel)",
   "language": "python",
   "name": "python3"
  },
  "language_info": {
   "codemirror_mode": {
    "name": "ipython",
    "version": 3
   },
   "file_extension": ".py",
   "mimetype": "text/x-python",
   "name": "python",
   "nbconvert_exporter": "python",
   "pygments_lexer": "ipython3",
   "version": "3.9.10"
  }
 },
 "nbformat": 4,
 "nbformat_minor": 5
}
