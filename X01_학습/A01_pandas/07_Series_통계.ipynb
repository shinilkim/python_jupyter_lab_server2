{
 "cells": [
  {
   "cell_type": "code",
   "execution_count": 1,
   "id": "d5fe7ff2",
   "metadata": {},
   "outputs": [],
   "source": [
    "import pandas as pd\n",
    "import numpy as np"
   ]
  },
  {
   "cell_type": "code",
   "execution_count": 2,
   "id": "1390b5db",
   "metadata": {},
   "outputs": [],
   "source": [
    "data = [10, 20, 30, 40, 50]    # list\n",
    "sr = pd.Series(data, index=['a', 'b', 'c', 'd', 'e'], name='kor')"
   ]
  },
  {
   "cell_type": "code",
   "execution_count": 5,
   "id": "05ef88a8",
   "metadata": {
    "collapsed": true,
    "jupyter": {
     "outputs_hidden": true
    }
   },
   "outputs": [
    {
     "name": "stdout",
     "output_type": "stream",
     "text": [
      "a    10\n",
      "b    20\n",
      "c    30\n",
      "d    40\n",
      "e    50\n",
      "Name: kor, dtype: int64\n",
      "50\n",
      "10\n",
      "e\n"
     ]
    }
   ],
   "source": [
    "print(sr)\n",
    "print(sr.max()) # 가장 끝 값\n",
    "print(sr.min()) # 가장 작은 값\n",
    "print(sr.idxmax()) # 가장 큰 값의 인덱스"
   ]
  },
  {
   "cell_type": "code",
   "execution_count": 8,
   "id": "6bc86faa",
   "metadata": {
    "collapsed": true,
    "jupyter": {
     "outputs_hidden": true
    }
   },
   "outputs": [
    {
     "name": "stdout",
     "output_type": "stream",
     "text": [
      "40\n"
     ]
    }
   ],
   "source": [
    "# 45 이하인 데이터의 가장 큰 값을 구하시오.\n",
    "print(sr[sr<45].max())"
   ]
  },
  {
   "cell_type": "code",
   "execution_count": 12,
   "id": "363ef42f",
   "metadata": {
    "collapsed": true,
    "jupyter": {
     "outputs_hidden": true
    }
   },
   "outputs": [
    {
     "name": "stdout",
     "output_type": "stream",
     "text": [
      "a    10\n",
      "b    20\n",
      "Name: kor, dtype: int64\n",
      "d    40\n",
      "e    50\n",
      "Name: kor, dtype: int64\n"
     ]
    }
   ],
   "source": [
    "print(sr.head(2)) # 앞에서 2개\n",
    "print(sr.tail(2)) # 긑에서 2개"
   ]
  },
  {
   "cell_type": "code",
   "execution_count": 26,
   "id": "864a02da",
   "metadata": {
    "collapsed": true,
    "jupyter": {
     "outputs_hidden": true
    }
   },
   "outputs": [
    {
     "name": "stdout",
     "output_type": "stream",
     "text": [
      "e    50\n",
      "b    40\n",
      "d    40\n",
      "Name: kor, dtype: int64\n",
      "a    10\n",
      "c    30\n",
      "b    40\n",
      "Name: kor, dtype: int64\n",
      "e    50\n",
      "d    40\n",
      "b    40\n",
      "Name: kor, dtype: int64\n"
     ]
    }
   ],
   "source": [
    "print(sr.nlargest(3))  # 값이 끝 숫자 3개( top 3 )\n",
    "print(sr.nsmallest(3)) # 값이 작은 숫자 3개( bottom 3 )\n",
    "print(sr.nlargest(3, keep='last')) # keep: all ,last"
   ]
  },
  {
   "cell_type": "code",
   "execution_count": 32,
   "id": "f27801df",
   "metadata": {
    "collapsed": true,
    "jupyter": {
     "outputs_hidden": true
    }
   },
   "outputs": [
    {
     "name": "stdout",
     "output_type": "stream",
     "text": [
      "150\n",
      "30.0\n",
      "30.0\n",
      "0.25    20.0\n",
      "0.50    30.0\n",
      "0.75    40.0\n",
      "Name: kor, dtype: float64\n"
     ]
    }
   ],
   "source": [
    "print(sr.sum())  # [전체 합]\n",
    "print(sr.mean()) # [평균 값]\n",
    "print(sr.median()) # [중간 값] 데이터를 정렬 했을 경우에 가운데 값\n",
    "print(sr.quantile([0.25, 0.5, 0.75])) # 데이터를 정렬했을 때 35%, 50%, 75%"
   ]
  },
  {
   "cell_type": "code",
   "execution_count": 33,
   "id": "74ba2e1b",
   "metadata": {
    "collapsed": true,
    "jupyter": {
     "outputs_hidden": true
    }
   },
   "outputs": [
    {
     "name": "stdout",
     "output_type": "stream",
     "text": [
      "15.811388300841896\n"
     ]
    }
   ],
   "source": [
    "print(sr.std()) # 표준편차(값들이 얼마간의 간격이 있는지?)"
   ]
  },
  {
   "cell_type": "code",
   "execution_count": 36,
   "id": "323b5bf4",
   "metadata": {
    "collapsed": true,
    "jupyter": {
     "outputs_hidden": true
    }
   },
   "outputs": [
    {
     "name": "stdout",
     "output_type": "stream",
     "text": [
      "a    10\n",
      "b    30\n",
      "c    30\n",
      "d    40\n",
      "e    50\n",
      "Name: kor, dtype: int64\n",
      "[10 30 40 50]\n"
     ]
    }
   ],
   "source": [
    "sr['b'] = 30\n",
    "print(sr)\n",
    "print(sr.unique()) # 중복 데이터 제거"
   ]
  },
  {
   "cell_type": "code",
   "execution_count": 37,
   "id": "6216fcee",
   "metadata": {
    "collapsed": true,
    "jupyter": {
     "outputs_hidden": true
    }
   },
   "outputs": [
    {
     "name": "stdout",
     "output_type": "stream",
     "text": [
      "30    2\n",
      "10    1\n",
      "40    1\n",
      "50    1\n",
      "Name: kor, dtype: int64\n"
     ]
    }
   ],
   "source": [
    "print(sr.value_counts()) # 데이터의 그룹핑 값"
   ]
  },
  {
   "cell_type": "code",
   "execution_count": 48,
   "id": "c25cb1de",
   "metadata": {
    "collapsed": true,
    "jupyter": {
     "outputs_hidden": true
    }
   },
   "outputs": [
    {
     "name": "stdout",
     "output_type": "stream",
     "text": [
      "a    11\n",
      "b    21\n",
      "c    32\n",
      "d    42\n",
      "e    52\n",
      "Name: kor, dtype: int64\n",
      "a    11\n",
      "b    21\n",
      "c    32\n",
      "d    42\n",
      "e    52\n",
      "Name: kor, dtype: int64\n",
      "a    11\n",
      "b    21\n",
      "c    32\n",
      "d    42\n",
      "e    52\n",
      "Name: kor, dtype: int64\n"
     ]
    }
   ],
   "source": [
    "sr['b'] = 20\n",
    "def fn(v): # 조건 별로 다른게 결과를 얻을수 있다.\n",
    "    return v + 1 if v < 30 else v + 2 # python에는 없지만 다른 언어에 있는 삼항연산과 동일( (v<30 ? v+1 : v+2) )\n",
    "\n",
    "print(sr.apply(fn)) # 배열의 갯수만큼 반복하여 호출\n",
    "print(sr.map(fn))   # map을 이용하여 반복 호출\n",
    "print(sr.apply(lambda v: v+1 if v<30 else v+2)) # 람다식 활용( 람다식:익명함수=임시함수)"
   ]
  },
  {
   "cell_type": "code",
   "execution_count": 55,
   "id": "b8f10612",
   "metadata": {
    "collapsed": true,
    "jupyter": {
     "outputs_hidden": true
    }
   },
   "outputs": [
    {
     "name": "stdout",
     "output_type": "stream",
     "text": [
      "a     (0, 20]\n",
      "b     (0, 20]\n",
      "c    (20, 40]\n",
      "d    (20, 40]\n",
      "e    (40, 90]\n",
      "Name: kor, dtype: category\n",
      "Categories (3, interval[int64, right]): [(0, 20] < (20, 40] < (40, 90]]\n",
      "a    C학점\n",
      "b    C학점\n",
      "c    B학점\n",
      "d    B학점\n",
      "e    A학점\n",
      "Name: kor, dtype: category\n",
      "Categories (3, object): ['C학점' < 'B학점' < 'A학점']\n",
      "(0, 20]     2\n",
      "(20, 40]    2\n",
      "(40, 90]    1\n",
      "Name: kor, dtype: int64\n"
     ]
    }
   ],
   "source": [
    "#  0 < sr <= 20\n",
    "# 20 < sr <= 40\n",
    "# 40 < sr <= 90\n",
    "print(pd.cut(sr, [0, 20, 40, 90])) # 각 값이 어느 카테고리에 속하는지 구한다.\n",
    "print(pd.cut(sr, [0, 20, 40, 90], labels=['C학점','B학점','A학점'])) # 학점 계산할 때 사용하면 유용\n",
    "print(pd.cut(sr, [0, 20, 40, 90]).value_counts()) # 데이터의 그룹핑 값"
   ]
  },
  {
   "cell_type": "code",
   "execution_count": 3,
   "id": "3528d407",
   "metadata": {},
   "outputs": [],
   "source": [
    "sr.to_csv('sample/07_Series_통계.csv') # 값을 csv 파일로 저장한다."
   ]
  },
  {
   "cell_type": "code",
   "execution_count": 70,
   "id": "1f84cd3c",
   "metadata": {
    "collapsed": true,
    "jupyter": {
     "outputs_hidden": true
    }
   },
   "outputs": [
    {
     "data": {
      "image/png": "[encoded data removed]",
      "text/plain": [
       "<Figure size 432x288 with 1 Axes>"
      ]
     },
     "metadata": {
      "needs_background": "light"
     },
     "output_type": "display_data"
    },
    {
     "data": {
      "image/png": "[encoded data removed]",
      "text/plain": [
       "<Figure size 216x216 with 1 Axes>"
      ]
     },
     "metadata": {
      "needs_background": "light"
     },
     "output_type": "display_data"
    }
   ],
   "source": [
    "import matplotlib.pyplot as plt # lib가 없다면 설치(차트 lib) => pip3 install matplotlib\n",
    "\n",
    "# 3 줄은 차트에서 한글 사용할 경우( 한글 깨짐 현상 )\n",
    "import matplotlib\n",
    "matplotlib.rcParams['font.family'] = 'Malgun Gothic'\n",
    "matplotlib.rcParams['axes.unicode_minus'] = False\n",
    "\n",
    "sr.plot()\n",
    "plt.show()\n",
    "\n",
    "sr.plot(kind='bar', figsize=(3,3), title='점수', grid=True, legend=True, ylim=(0,100))\n",
    "plt.show()"
   ]
  },
  {
   "cell_type": "code",
   "execution_count": 77,
   "id": "77928f74",
   "metadata": {
    "collapsed": true,
    "jupyter": {
     "outputs_hidden": true
    }
   },
   "outputs": [
    {
     "name": "stdout",
     "output_type": "stream",
     "text": [
      "[10 20 30 40 50]\n",
      "10\n",
      "20\n",
      "30\n",
      "40\n",
      "50\n"
     ]
    }
   ],
   "source": [
    "print(sr.values)\n",
    "for n in sr: # sr.values\n",
    "    print(n)"
   ]
  },
  {
   "cell_type": "code",
   "execution_count": 80,
   "id": "608512ad",
   "metadata": {
    "collapsed": true,
    "jupyter": {
     "outputs_hidden": true
    }
   },
   "outputs": [
    {
     "name": "stdout",
     "output_type": "stream",
     "text": [
      "Index(['a', 'b', 'c', 'd', 'e'], dtype='object')\n",
      "a\n",
      "b\n",
      "c\n",
      "d\n",
      "e\n"
     ]
    }
   ],
   "source": [
    "print(sr.index)\n",
    "for n in sr.index:\n",
    "    print(n)"
   ]
  },
  {
   "cell_type": "code",
   "execution_count": 82,
   "id": "edab2831",
   "metadata": {
    "collapsed": true,
    "jupyter": {
     "outputs_hidden": true
    }
   },
   "outputs": [
    {
     "name": "stdout",
     "output_type": "stream",
     "text": [
      "<zip object at 0x00000199255BDF40>\n",
      "('a', 10)\n",
      "('b', 20)\n",
      "('c', 30)\n",
      "('d', 40)\n",
      "('e', 50)\n",
      "a 10\n",
      "b 20\n",
      "c 30\n",
      "d 40\n",
      "e 50\n"
     ]
    }
   ],
   "source": [
    "print(sr.items())\n",
    "for n in sr.items():\n",
    "    print(n)\n",
    "for i, v in sr.items():\n",
    "    print(i, v)"
   ]
  }
 ],
 "metadata": {
  "kernelspec": {
   "display_name": "Python 3 (ipykernel)",
   "language": "python",
   "name": "python3"
  },
  "language_info": {
   "codemirror_mode": {
    "name": "ipython",
    "version": 3
   },
   "file_extension": ".py",
   "mimetype": "text/x-python",
   "name": "python",
   "nbconvert_exporter": "python",
   "pygments_lexer": "ipython3",
   "version": "3.9.1"
  }
 },
 "nbformat": 4,
 "nbformat_minor": 5
}