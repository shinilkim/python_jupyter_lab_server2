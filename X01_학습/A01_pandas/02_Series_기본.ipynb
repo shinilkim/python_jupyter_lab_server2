{
 "cells": [
  {
   "cell_type": "markdown",
   "id": "ee606685",
   "metadata": {},
   "source": [
    "# pandas Series 테스트"
   ]
  },
  {
   "cell_type": "code",
   "execution_count": 3,
   "id": "2f507187",
   "metadata": {},
   "outputs": [],
   "source": [
    "import pandas as pd   # pandas libary 를 사용할 때 pd 란 이름으로 사용하겠다. \n",
    "import numpy as np"
   ]
  },
  {
   "cell_type": "code",
   "execution_count": 4,
   "id": "9b3a0493",
   "metadata": {},
   "outputs": [],
   "source": [
    "data1 = [10, 20, 30, 40, 50]    # list\n",
    "data2 = (1, 2, 3, 4, 5)         # tuple\n",
    "data3 = {\"name\": \"shinil.kim\"}  # dictional"
   ]
  },
  {
   "cell_type": "code",
   "execution_count": 5,
   "id": "494f4d43",
   "metadata": {},
   "outputs": [
    {
     "name": "stdout",
     "output_type": "stream",
     "text": [
      "pd.Series(data1) =>  0    10\n",
      "1    20\n",
      "2    30\n",
      "3    40\n",
      "4    50\n",
      "dtype: int64\n",
      "pd.Series(data2) =>  0    1\n",
      "1    2\n",
      "2    3\n",
      "3    4\n",
      "4    5\n",
      "dtype: int64\n",
      "pd.Series(data3) =>  name    shinil.kim\n",
      "dtype: object\n"
     ]
    }
   ],
   "source": [
    "# Series 1차원 데이터 처리\n",
    "sr1 = pd.Series(data1)\n",
    "sr2 = pd.Series(data2) \n",
    "sr3 = pd.Series(data3)\n",
    "print(\"pd.Series(data1) => \",sr1)\n",
    "print(\"pd.Series(data2) => \",sr2)\n",
    "print(\"pd.Series(data3) => \",sr3)"
   ]
  },
  {
   "cell_type": "code",
   "execution_count": 25,
   "id": "9532a65e",
   "metadata": {
    "collapsed": true
   },
   "outputs": [
    {
     "name": "stdout",
     "output_type": "stream",
     "text": [
      "십     10\n",
      "이십    20\n",
      "삼십    30\n",
      "사십    40\n",
      "오십    50\n",
      "dtype: int32\n",
      "십     10.0\n",
      "이십    20.0\n",
      "삼십    30.0\n",
      "사십    40.0\n",
      "오십    50.0\n",
      "dtype: float32\n",
      "십     10\n",
      "이십    20\n",
      "삼십    30\n",
      "사십    40\n",
      "오십    50\n",
      "dtype: object\n",
      "십     10\n",
      "이십    20\n",
      "삼십    30\n",
      "사십    40\n",
      "오십    50\n",
      "Name: kor, dtype: object\n",
      "sr1 이름:  kor\n"
     ]
    }
   ],
   "source": [
    "sr1 = pd.Series(data1, index=['십', '이십', '삼십', '사십', '오십'], dtype=np.int32)\n",
    "print(sr1)\n",
    "sr1 = pd.Series(data1, index=['십', '이십', '삼십', '사십', '오십'], dtype=np.float32)\n",
    "print(sr1)\n",
    "sr1 = pd.Series(data1, index=['십', '이십', '삼십', '사십', '오십'], dtype=np.str_)\n",
    "print(sr1)\n",
    "sr1 = pd.Series(data1, index=['십', '이십', '삼십', '사십', '오십'], dtype=np.str_, name='kor')\n",
    "print(sr1)\n",
    "print(\"sr1 이름: \",sr1.name)"
   ]
  },
  {
   "cell_type": "code",
   "execution_count": 37,
   "id": "f9effbce",
   "metadata": {
    "collapsed": true
   },
   "outputs": [
    {
     "name": "stdout",
     "output_type": "stream",
     "text": [
      "0. sr1 데이터:  십     10\n",
      "이십    20\n",
      "삼십    30\n",
      "사십    40\n",
      "오십    50\n",
      "Name: kor, dtype: object\n",
      "1. 몇 차원:  1  차원\n",
      "2. 몇행, 몇열:  (5,)\n",
      "3. 행 * 열:  5\n",
      "4. 데이터 타입:  object\n",
      "5. index:  Index(['십', '이십', '삼십', '사십', '오십'], dtype='object')\n",
      "6. 타입:  <class 'pandas.core.indexes.base.Index'>\n",
      "7. sr1.values.속성:  <class 'numpy.ndarray'>\n"
     ]
    }
   ],
   "source": [
    "print(\"0. sr1 데이터: \",sr1)\n",
    "print(\"1. 몇 차원: \",sr1.ndim, \" 차원\")\n",
    "print(\"2. 몇행, 몇열: \", sr1.shape)\n",
    "print(\"3. 행 * 열: \", sr1.size)\n",
    "print(\"4. 데이터 타입: \", sr1.dtype)\n",
    "print(\"5. index: \", sr1.index)\n",
    "print(\"6. 타입: \", type(sr1.index)) # sr1.index.속성(메서드)\n",
    "print(\"7. sr1 값: \", type(sr.values)) # sr1.values.속성"
   ]
  }
 ],
 "metadata": {
  "kernelspec": {
   "display_name": "Python 3 (ipykernel)",
   "language": "python",
   "name": "python3"
  },
  "language_info": {
   "codemirror_mode": {
    "name": "ipython",
    "version": 3
   },
   "file_extension": ".py",
   "mimetype": "text/x-python",
   "name": "python",
   "nbconvert_exporter": "python",
   "pygments_lexer": "ipython3",
   "version": "3.9.1"
  }
 },
 "nbformat": 4,
 "nbformat_minor": 5
}