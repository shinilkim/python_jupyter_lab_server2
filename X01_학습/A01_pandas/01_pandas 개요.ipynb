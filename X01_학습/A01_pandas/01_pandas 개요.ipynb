{
 "cells": [
  {
   "cell_type": "markdown",
   "id": "7da286cd",
   "metadata": {},
   "source": [
    "# 01. 개요"
   ]
  },
  {
   "cell_type": "code",
   "execution_count": 2,
   "id": "1704dc5f",
   "metadata": {
    "collapsed": true
   },
   "outputs": [
    {
     "data": {
      "text/plain": [
       "'\\n판다스: 데이터의 가공, 변환, 정제, 수집, 전처리, 통계, 시각화\\n1) 데이터 수집: 텍스트, CSV, Excel, Html(Beautifulsoup), XML, hdfs, DB, json\\n2) 데이터 전처리: 분석가능한 형태로 변경(Null 처리, 오류 데이터 정정)\\n3) 데이터 분석: 통계, 시각화(matplotlib, seaborn)\\n4) 예측: sklearn, tensorflow, keras, pytorch, statesmodels, scyphthon (예측쪽은 판다스에서 지원하지 않는다.)\\n\\npip install pandas\\n'"
      ]
     },
     "execution_count": 2,
     "metadata": {},
     "output_type": "execute_result"
    }
   ],
   "source": [
    "\"\"\"\n",
    "판다스: 데이터의 가공, 변환, 정제, 수집, 전처리, 통계, 시각화\n",
    "1) 데이터 수집: 텍스트, CSV, Excel, Html(Beautifulsoup), XML, hdfs, DB, json\n",
    "2) 데이터 전처리: 분석가능한 형태로 변경(Null 처리, 오류 데이터 정정)\n",
    "3) 데이터 분석: 통계, 시각화(matplotlib, seaborn)\n",
    "4) 예측: sklearn, tensorflow, keras, pytorch, statesmodels, scyphthon (예측쪽은 판다스에서 지원하지 않는다.)\n",
    "\n",
    "# 설치\n",
    "pip install pandas\n",
    "\n",
    "# 참조\n",
    "https://pandas.pydata.org/docs/reference/api/pandas.Series.html\n",
    "\"\"\""
   ]
  }
 ],
 "metadata": {
  "kernelspec": {
   "display_name": "Python 3 (ipykernel)",
   "language": "python",
   "name": "python3"
  },
  "language_info": {
   "codemirror_mode": {
    "name": "ipython",
    "version": 3
   },
   "file_extension": ".py",
   "mimetype": "text/x-python",
   "name": "python",
   "nbconvert_exporter": "python",
   "pygments_lexer": "ipython3",
   "version": "3.9.1"
  }
 },
 "nbformat": 4,
 "nbformat_minor": 5
}
