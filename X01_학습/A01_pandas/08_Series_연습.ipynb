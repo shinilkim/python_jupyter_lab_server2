{
 "cells": [
  {
   "cell_type": "code",
   "execution_count": 57,
   "id": "0468f75f-07be-4bde-8d2e-ba795f107689",
   "metadata": {},
   "outputs": [],
   "source": [
    "import pandas as pd\n",
    "import numpy as np\n",
    "import matplotlib\n",
    "import matplotlib.pyplot as plt\n",
    "matplotlib.rcParams['font.family'] = 'Malgun Gothic'\n",
    "matplotlib.rcParams['axes.unicode_minus'] = False"
   ]
  },
  {
   "cell_type": "code",
   "execution_count": 59,
   "id": "9543d855-1860-4d15-9105-06495ea68dba",
   "metadata": {
    "tags": []
   },
   "outputs": [
    {
     "name": "stdout",
     "output_type": "stream",
     "text": [
      "하나영     90\n",
      "곽영미     90\n",
      "박은정     55\n",
      "김성희     60\n",
      "이지연     76\n",
      "박정혜     80\n",
      "김소은     76\n",
      "김철수1    88\n",
      "김철수2    30\n",
      "김철수3    25\n",
      "Name: 국어점수, dtype: int64\n"
     ]
    }
   ],
   "source": [
    "sr = pd.Series([90, 90, 55, 60, 76, 80, 76, 88, 30, 25], name='국어점수')\n",
    "sr.index = ['하나영','곽영미','박은정','김성희','이지연','박정혜','김소은','김철수1','김철수2','김철수3']\n",
    "print(sr)"
   ]
  },
  {
   "cell_type": "markdown",
   "id": "e9b99b12-2ee2-4e9c-b86a-1cc2a001e4dd",
   "metadata": {},
   "source": [
    "#### 1. 국어 점수가 가장 큰 값을 구하시오."
   ]
  },
  {
   "cell_type": "code",
   "execution_count": 7,
   "id": "e7f0b7ce-fa44-41a8-b9ae-20cd328a630a",
   "metadata": {
    "collapsed": true,
    "jupyter": {
     "outputs_hidden": true
    },
    "tags": []
   },
   "outputs": [
    {
     "name": "stdout",
     "output_type": "stream",
     "text": [
      "90\n"
     ]
    }
   ],
   "source": [
    "print(sr.max())"
   ]
  },
  {
   "cell_type": "markdown",
   "id": "436e8404-6301-448a-ae85-d1d78217df2c",
   "metadata": {},
   "source": [
    "#### 2. 국어 점수가 가장 큰 값의 이름을 구하시오."
   ]
  },
  {
   "cell_type": "code",
   "execution_count": 61,
   "id": "3c70daa6-84fd-4d94-b9c8-50d383a8d512",
   "metadata": {},
   "outputs": [
    {
     "name": "stdout",
     "output_type": "stream",
     "text": [
      "['하나영', '곽영미']\n",
      "Index(['하나영', '곽영미'], dtype='object')\n",
      "하나영\n"
     ]
    }
   ],
   "source": [
    "max_val = sr.max()\n",
    "# 방법 1\n",
    "max_names = []\n",
    "for k,v in sr.items():\n",
    "    if max_val == v:\n",
    "        max_names.append(k)\n",
    "print(max_names)\n",
    "# 방법 2\n",
    "print(sr[sr==max_val].index)\n",
    "# 참조 1\n",
    "print(sr.idxmax()) # 값이 가장 큰 값의 인덱스 반환"
   ]
  },
  {
   "cell_type": "markdown",
   "id": "e78291fd-31a9-4d1b-b5b0-be63c6be3ddd",
   "metadata": {},
   "source": [
    "#### 3. 국어 점수가 80점 이상인 값을 구하시오."
   ]
  },
  {
   "cell_type": "code",
   "execution_count": 9,
   "id": "f0ab51c7-9e9a-4922-b86a-4ab226ea065f",
   "metadata": {},
   "outputs": [
    {
     "name": "stdout",
     "output_type": "stream",
     "text": [
      "하나영     90\n",
      "곽영미     90\n",
      "박정혜     80\n",
      "김철수1    88\n",
      "Name: 국어점수, dtype: int64\n"
     ]
    }
   ],
   "source": [
    "print(sr[sr >=80])"
   ]
  },
  {
   "cell_type": "markdown",
   "id": "ab3aaab1-66f2-4ba7-8108-3d8701409f8b",
   "metadata": {},
   "source": [
    "#### 4. 국어 점수가 50점 이상 80점 이하인 값을 구하시오."
   ]
  },
  {
   "cell_type": "code",
   "execution_count": 28,
   "id": "661450aa-8fc7-4b6d-90b8-fa7d475b43f9",
   "metadata": {},
   "outputs": [
    {
     "name": "stdout",
     "output_type": "stream",
     "text": [
      "박은정 55\n",
      "김성희 60\n",
      "이지연 76\n",
      "박정혜 80\n",
      "김소은 76\n",
      "박은정    55\n",
      "김성희    60\n",
      "이지연    76\n",
      "박정혜    80\n",
      "김소은    76\n",
      "Name: 국어점수, dtype: int64\n"
     ]
    }
   ],
   "source": [
    "# 방법 1\n",
    "for k, v in sr.items():\n",
    "    if v >= 50 and v <= 80:\n",
    "        print(k, v)\n",
    "# 방법 2\n",
    "print(sr[ (sr>=50) & (sr<=80)])"
   ]
  },
  {
   "cell_type": "markdown",
   "id": "6c698273-1025-4755-bf45-4683df131381",
   "metadata": {},
   "source": [
    "#### 5. 이름이 '김'으로 시작하는 데이터를 구하시오."
   ]
  },
  {
   "cell_type": "code",
   "execution_count": 30,
   "id": "0c1c77e5-694c-4c62-90b8-792b3296e5c5",
   "metadata": {},
   "outputs": [
    {
     "data": {
      "text/plain": [
       "김성희     60\n",
       "김소은     76\n",
       "김철수1    88\n",
       "김철수2    30\n",
       "김철수3    25\n",
       "Name: 국어점수, dtype: int64"
      ]
     },
     "execution_count": 30,
     "metadata": {},
     "output_type": "execute_result"
    }
   ],
   "source": [
    "sr[sr.index.str.contains('^김')]"
   ]
  },
  {
   "cell_type": "markdown",
   "id": "63c8feca-abc7-480b-9949-991f498ff6b0",
   "metadata": {},
   "source": [
    "#### 6. 국어 점수의 평균을 구하시오"
   ]
  },
  {
   "cell_type": "code",
   "execution_count": 31,
   "id": "f82de0d1-e5fb-478b-a305-5df4b4c76264",
   "metadata": {},
   "outputs": [
    {
     "name": "stdout",
     "output_type": "stream",
     "text": [
      "67.0\n"
     ]
    }
   ],
   "source": [
    "print(sr.mean())"
   ]
  },
  {
   "cell_type": "markdown",
   "id": "a0c6e255-cc69-45ce-bce2-f78b3e843f0c",
   "metadata": {},
   "source": [
    "#### 7. 국어 점수의 총합을 구하시오"
   ]
  },
  {
   "cell_type": "code",
   "execution_count": 41,
   "id": "49e150b3-d8bc-4f75-b98f-3b9b8c162272",
   "metadata": {},
   "outputs": [
    {
     "name": "stdout",
     "output_type": "stream",
     "text": [
      "방법 1:  670\n",
      "방법 2:  670\n"
     ]
    }
   ],
   "source": [
    "# 방법 1\n",
    "mySum = 0\n",
    "for v in sr:\n",
    "    mySum += v\n",
    "print(\"방법 1: \", mySum)\n",
    "# 방법 2\n",
    "print(\"방법 2: \", sr.sum())"
   ]
  },
  {
   "cell_type": "markdown",
   "id": "26976c46-136d-4948-8062-84de56e9b6cc",
   "metadata": {},
   "source": [
    "#### 8. 국어 점수의 표준 편차를 구하시오."
   ]
  },
  {
   "cell_type": "code",
   "execution_count": 40,
   "id": "1c396984-a70c-4fb3-b1e3-fe140c22ef62",
   "metadata": {},
   "outputs": [
    {
     "data": {
      "text/plain": [
       "23.935097428021656"
      ]
     },
     "execution_count": 40,
     "metadata": {},
     "output_type": "execute_result"
    }
   ],
   "source": [
    "sr.std()"
   ]
  },
  {
   "cell_type": "markdown",
   "id": "222be483-24d8-43f9-9a60-568236353bfe",
   "metadata": {},
   "source": [
    "#### 9. 국어 점수가 40점 이하인 데이터를 삭제하시오."
   ]
  },
  {
   "cell_type": "code",
   "execution_count": 42,
   "id": "fc9a69de-8dfe-4201-9241-1cbcc0290939",
   "metadata": {},
   "outputs": [
    {
     "data": {
      "text/plain": [
       "하나영     90\n",
       "곽영미     90\n",
       "박은정     55\n",
       "김성희     60\n",
       "이지연     76\n",
       "박정혜     80\n",
       "김소은     76\n",
       "김철수1    88\n",
       "Name: 국어점수, dtype: int64"
      ]
     },
     "execution_count": 42,
     "metadata": {},
     "output_type": "execute_result"
    }
   ],
   "source": [
    "sr.drop(sr[sr<=40].index)"
   ]
  },
  {
   "cell_type": "markdown",
   "id": "80b05a5b-4991-448b-9d80-ec53b538f3f4",
   "metadata": {},
   "source": [
    "#### 10. 국어 점수가 50점 이상인 데이터에 가산점 10% 를 미만인 경우는 20%를 부가하시오."
   ]
  },
  {
   "cell_type": "code",
   "execution_count": 43,
   "id": "667d841c-04b5-42c9-b6df-23d5cd050fd7",
   "metadata": {},
   "outputs": [
    {
     "data": {
      "text/plain": [
       "하나영     99.0\n",
       "곽영미     99.0\n",
       "박은정     60.5\n",
       "김성희     66.0\n",
       "이지연     83.6\n",
       "박정혜     88.0\n",
       "김소은     83.6\n",
       "김철수1    96.8\n",
       "김철수2    36.0\n",
       "김철수3    30.0\n",
       "Name: 국어점수, dtype: float64"
      ]
     },
     "execution_count": 43,
     "metadata": {},
     "output_type": "execute_result"
    }
   ],
   "source": [
    "sr.apply(lambda v : v*1.1 if v>=50 else v*1.2)"
   ]
  },
  {
   "cell_type": "markdown",
   "id": "9887aca3-6a45-4d03-84ae-7b3e12eb1ba8",
   "metadata": {},
   "source": [
    "#### 11. 국어 점수 top 5를 구하시오."
   ]
  },
  {
   "cell_type": "code",
   "execution_count": 45,
   "id": "62f66665-c4c9-454f-8f11-73e12dd7d47c",
   "metadata": {},
   "outputs": [
    {
     "name": "stdout",
     "output_type": "stream",
     "text": [
      "하나영     90\n",
      "곽영미     90\n",
      "김철수1    88\n",
      "박정혜     80\n",
      "이지연     76\n",
      "Name: 국어점수, dtype: int64\n"
     ]
    }
   ],
   "source": [
    "print(sr.nlargest(5))"
   ]
  },
  {
   "cell_type": "markdown",
   "id": "e7b958dd-c69e-4946-925d-0545c0d98d3b",
   "metadata": {},
   "source": [
    "#### 12. 국어 점수가 50점 이상인 데이터의 바차트를 그리시오."
   ]
  },
  {
   "cell_type": "code",
   "execution_count": 49,
   "id": "e33d57ef-dc76-478b-9155-928db5d33d42",
   "metadata": {},
   "outputs": [
    {
     "data": {
      "image/png": "[encoded data removed]",
      "text/plain": [
       "<Figure size 432x288 with 1 Axes>"
      ]
     },
     "metadata": {
      "needs_background": "light"
     },
     "output_type": "display_data"
    }
   ],
   "source": [
    "sr[sr>=50].plot(kind='bar')\n",
    "plt.show()"
   ]
  },
  {
   "cell_type": "markdown",
   "id": "aec9a1ce-aa15-4e6e-bd54-ae964c30e7b3",
   "metadata": {},
   "source": [
    "#### 13. 국어 점수의 범위( 0~50, 50~70, 70~100) 별 돗수를 구하시오."
   ]
  },
  {
   "cell_type": "code",
   "execution_count": 50,
   "id": "874f062d-595e-4b3e-a884-e7ea6c44b308",
   "metadata": {},
   "outputs": [
    {
     "data": {
      "text/plain": [
       "(70, 100]    6\n",
       "(0, 50]      2\n",
       "(50, 70]     2\n",
       "Name: 국어점수, dtype: int64"
      ]
     },
     "execution_count": 50,
     "metadata": {},
     "output_type": "execute_result"
    }
   ],
   "source": [
    "pd.cut(sr, [0,50,70,100]).value_counts()"
   ]
  },
  {
   "cell_type": "markdown",
   "id": "fa174675-d247-400a-9165-e6c6322c67c5",
   "metadata": {},
   "source": [
    "#### 14. 아래 처럼 출력하시오(70점 이상 합격, 미만 불합격)"
   ]
  },
  {
   "cell_type": "code",
   "execution_count": 54,
   "id": "ef88fbff-c47c-4cce-8d54-78040b9c3a8d",
   "metadata": {},
   "outputs": [
    {
     "name": "stdout",
     "output_type": "stream",
     "text": [
      "하나영\t90\t합격\n",
      "곽영미\t90\t합격\n",
      "박은정\t55\t불합격\n",
      "김성희\t60\t불합격\n",
      "이지연\t76\t합격\n",
      "박정혜\t80\t합격\n",
      "김소은\t76\t합격\n",
      "김철수1\t88\t합격\n",
      "김철수2\t30\t불합격\n",
      "김철수3\t25\t불합격\n"
     ]
    }
   ],
   "source": [
    "for i, v in sr.items():\n",
    "    print(i, v, '합격' if v>=70 else '불합격', sep='\\t')"
   ]
  }
 ],
 "metadata": {
  "kernelspec": {
   "display_name": "Python 3 (ipykernel)",
   "language": "python",
   "name": "python3"
  },
  "language_info": {
   "codemirror_mode": {
    "name": "ipython",
    "version": 3
   },
   "file_extension": ".py",
   "mimetype": "text/x-python",
   "name": "python",
   "nbconvert_exporter": "python",
   "pygments_lexer": "ipython3",
   "version": "3.9.1"
  }
 },
 "nbformat": 4,
 "nbformat_minor": 5
}