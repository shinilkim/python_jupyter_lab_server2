{
 "cells": [
  {
   "cell_type": "markdown",
   "id": "f1c1d73d-12b1-435c-bdae-63a16f86641b",
   "metadata": {},
   "source": [
    "#### 데이터프레임 통계"
   ]
  },
  {
   "cell_type": "code",
   "execution_count": 41,
   "id": "6a50ea16-19d0-4451-9503-0aa2ae71a30d",
   "metadata": {},
   "outputs": [],
   "source": [
    "# 테스트 libary\n",
    "import pandas as pd\n",
    "import numpy as np\n",
    "import matplotlib.pyplot as plt\n",
    "\n",
    "import matplotlib as mp\n",
    "mp.rcParams['font.family'] = 'Malgun Gothic'\n",
    "mp.rcParams['axes.unicode_minus'] = False"
   ]
  },
  {
   "cell_type": "code",
   "execution_count": 2,
   "id": "0d555139-39d3-4c80-aa76-568ecd9a1d29",
   "metadata": {},
   "outputs": [
    {
     "data": {
      "text/html": [
       "<div>\n",
       "<style scoped>\n",
       "    .dataframe tbody tr th:only-of-type {\n",
       "        vertical-align: middle;\n",
       "    }\n",
       "\n",
       "    .dataframe tbody tr th {\n",
       "        vertical-align: top;\n",
       "    }\n",
       "\n",
       "    .dataframe thead th {\n",
       "        text-align: right;\n",
       "    }\n",
       "</style>\n",
       "<table border=\"1\" class=\"dataframe\">\n",
       "  <thead>\n",
       "    <tr style=\"text-align: right;\">\n",
       "      <th></th>\n",
       "      <th>eng</th>\n",
       "      <th>kor</th>\n",
       "      <th>math</th>\n",
       "    </tr>\n",
       "  </thead>\n",
       "  <tbody>\n",
       "    <tr>\n",
       "      <th>a</th>\n",
       "      <td>10</td>\n",
       "      <td>20</td>\n",
       "      <td>90</td>\n",
       "    </tr>\n",
       "    <tr>\n",
       "      <th>b</th>\n",
       "      <td>30</td>\n",
       "      <td>40</td>\n",
       "      <td>50</td>\n",
       "    </tr>\n",
       "    <tr>\n",
       "      <th>c</th>\n",
       "      <td>50</td>\n",
       "      <td>60</td>\n",
       "      <td>20</td>\n",
       "    </tr>\n",
       "    <tr>\n",
       "      <th>d</th>\n",
       "      <td>70</td>\n",
       "      <td>80</td>\n",
       "      <td>70</td>\n",
       "    </tr>\n",
       "  </tbody>\n",
       "</table>\n",
       "</div>"
      ],
      "text/plain": [
       "   eng  kor  math\n",
       "a   10   20    90\n",
       "b   30   40    50\n",
       "c   50   60    20\n",
       "d   70   80    70"
      ]
     },
     "metadata": {},
     "output_type": "display_data"
    }
   ],
   "source": [
    "# 테스트 데이터\n",
    "data = {'eng' :[10,30,50,70],\n",
    "        'kor' :[20,40,60,80],\n",
    "        'math':[90,50,20,70]}\n",
    "df = pd.DataFrame(data, index=['a','b','c','d'])\n",
    "display(df)"
   ]
  },
  {
   "cell_type": "code",
   "execution_count": 6,
   "id": "09620872-395e-4e4d-a45d-d184ee33359a",
   "metadata": {},
   "outputs": [
    {
     "data": {
      "text/plain": [
       "eng     70\n",
       "kor     80\n",
       "math    90\n",
       "dtype: int64"
      ]
     },
     "execution_count": 6,
     "metadata": {},
     "output_type": "execute_result"
    }
   ],
   "source": [
    "# 행 별 max\n",
    "df.max(axis=0)"
   ]
  },
  {
   "cell_type": "code",
   "execution_count": 5,
   "id": "dfe4157c-e6b9-4c2e-a4a0-06b937c0cfd6",
   "metadata": {},
   "outputs": [
    {
     "data": {
      "text/plain": [
       "a    90\n",
       "b    50\n",
       "c    60\n",
       "d    80\n",
       "dtype: int64"
      ]
     },
     "execution_count": 5,
     "metadata": {},
     "output_type": "execute_result"
    }
   ],
   "source": [
    "# 열 별 max\n",
    "df.max(axis=1)"
   ]
  },
  {
   "cell_type": "code",
   "execution_count": 7,
   "id": "2fc24859-7ee2-4afe-b876-b3ed6eb1a902",
   "metadata": {},
   "outputs": [
    {
     "data": {
      "text/plain": [
       "90"
      ]
     },
     "execution_count": 7,
     "metadata": {},
     "output_type": "execute_result"
    }
   ],
   "source": [
    "# 가장 큰 값\n",
    "df.max().max()"
   ]
  },
  {
   "cell_type": "code",
   "execution_count": 11,
   "id": "7f994aac-7751-4861-b152-374f70847c01",
   "metadata": {},
   "outputs": [
    {
     "data": {
      "text/plain": [
       "eng   a    10\n",
       "      b    30\n",
       "      c    50\n",
       "      d    70\n",
       "kor   a    20\n",
       "      b    40\n",
       "      c    60\n",
       "      d    80\n",
       "math  a    90\n",
       "      b    50\n",
       "      c    20\n",
       "      d    70\n",
       "dtype: int64"
      ]
     },
     "metadata": {},
     "output_type": "display_data"
    },
    {
     "name": "stdout",
     "output_type": "stream",
     "text": [
      "\n",
      "max:  90\n"
     ]
    }
   ],
   "source": [
    "# 1차원으로 변경( Series )\n",
    "display(df.unstack())\n",
    "print(\"\\nmax: \",df.unstack().max())"
   ]
  },
  {
   "cell_type": "code",
   "execution_count": 13,
   "id": "3d01c4bd-2a0d-473e-aecb-b592e4671248",
   "metadata": {},
   "outputs": [
    {
     "data": {
      "text/plain": [
       "eng     160\n",
       "kor     200\n",
       "math    230\n",
       "dtype: int64"
      ]
     },
     "execution_count": 13,
     "metadata": {},
     "output_type": "execute_result"
    }
   ],
   "source": [
    "# 컬럼별 총계\n",
    "df.sum(axis=0)"
   ]
  },
  {
   "cell_type": "code",
   "execution_count": 14,
   "id": "0c614463-e82a-4a97-9dc5-c29dd580b9aa",
   "metadata": {},
   "outputs": [
    {
     "data": {
      "text/plain": [
       "a    120\n",
       "b    120\n",
       "c    130\n",
       "d    220\n",
       "dtype: int64"
      ]
     },
     "execution_count": 14,
     "metadata": {},
     "output_type": "execute_result"
    }
   ],
   "source": [
    "df.sum(axis=1)"
   ]
  },
  {
   "cell_type": "code",
   "execution_count": 15,
   "id": "844f63ed-7035-4d80-956b-db45c40e230a",
   "metadata": {},
   "outputs": [
    {
     "data": {
      "text/plain": [
       "eng     40.0\n",
       "kor     50.0\n",
       "math    57.5\n",
       "dtype: float64"
      ]
     },
     "execution_count": 15,
     "metadata": {},
     "output_type": "execute_result"
    }
   ],
   "source": [
    "# 평균값\n",
    "df.mean()"
   ]
  },
  {
   "cell_type": "code",
   "execution_count": 16,
   "id": "e8e543a1-feaa-4182-a980-25bc79d6be4b",
   "metadata": {},
   "outputs": [
    {
     "data": {
      "text/plain": [
       "eng     40.0\n",
       "kor     50.0\n",
       "math    60.0\n",
       "dtype: float64"
      ]
     },
     "execution_count": 16,
     "metadata": {},
     "output_type": "execute_result"
    }
   ],
   "source": [
    "# 중앙값\n",
    "df.median()"
   ]
  },
  {
   "cell_type": "code",
   "execution_count": 17,
   "id": "7e52972d-a4a5-4713-acf0-71bc10ad4a7f",
   "metadata": {},
   "outputs": [
    {
     "data": {
      "text/plain": [
       "eng     25.819889\n",
       "kor     25.819889\n",
       "math    29.860788\n",
       "dtype: float64"
      ]
     },
     "execution_count": 17,
     "metadata": {},
     "output_type": "execute_result"
    }
   ],
   "source": [
    "# 표준편차\n",
    "df.std()"
   ]
  },
  {
   "cell_type": "code",
   "execution_count": 18,
   "id": "1ccdd069-3757-49d8-a5ad-26ae7d47afa0",
   "metadata": {},
   "outputs": [
    {
     "data": {
      "text/html": [
       "<div>\n",
       "<style scoped>\n",
       "    .dataframe tbody tr th:only-of-type {\n",
       "        vertical-align: middle;\n",
       "    }\n",
       "\n",
       "    .dataframe tbody tr th {\n",
       "        vertical-align: top;\n",
       "    }\n",
       "\n",
       "    .dataframe thead th {\n",
       "        text-align: right;\n",
       "    }\n",
       "</style>\n",
       "<table border=\"1\" class=\"dataframe\">\n",
       "  <thead>\n",
       "    <tr style=\"text-align: right;\">\n",
       "      <th></th>\n",
       "      <th>eng</th>\n",
       "      <th>kor</th>\n",
       "      <th>math</th>\n",
       "    </tr>\n",
       "  </thead>\n",
       "  <tbody>\n",
       "    <tr>\n",
       "      <th>0.25</th>\n",
       "      <td>25.0</td>\n",
       "      <td>35.0</td>\n",
       "      <td>42.5</td>\n",
       "    </tr>\n",
       "    <tr>\n",
       "      <th>0.50</th>\n",
       "      <td>40.0</td>\n",
       "      <td>50.0</td>\n",
       "      <td>60.0</td>\n",
       "    </tr>\n",
       "    <tr>\n",
       "      <th>0.75</th>\n",
       "      <td>55.0</td>\n",
       "      <td>65.0</td>\n",
       "      <td>75.0</td>\n",
       "    </tr>\n",
       "  </tbody>\n",
       "</table>\n",
       "</div>"
      ],
      "text/plain": [
       "       eng   kor  math\n",
       "0.25  25.0  35.0  42.5\n",
       "0.50  40.0  50.0  60.0\n",
       "0.75  55.0  65.0  75.0"
      ]
     },
     "execution_count": 18,
     "metadata": {},
     "output_type": "execute_result"
    }
   ],
   "source": [
    "# 비율\n",
    "df.quantile([0.25, 0.5, 0.75])"
   ]
  },
  {
   "cell_type": "code",
   "execution_count": 20,
   "id": "307a3e00-cdf4-44f5-b070-0d1c9caa0b39",
   "metadata": {},
   "outputs": [
    {
     "data": {
      "text/html": [
       "<div>\n",
       "<style scoped>\n",
       "    .dataframe tbody tr th:only-of-type {\n",
       "        vertical-align: middle;\n",
       "    }\n",
       "\n",
       "    .dataframe tbody tr th {\n",
       "        vertical-align: top;\n",
       "    }\n",
       "\n",
       "    .dataframe thead th {\n",
       "        text-align: right;\n",
       "    }\n",
       "</style>\n",
       "<table border=\"1\" class=\"dataframe\">\n",
       "  <thead>\n",
       "    <tr style=\"text-align: right;\">\n",
       "      <th></th>\n",
       "      <th>eng</th>\n",
       "      <th>kor</th>\n",
       "      <th>math</th>\n",
       "    </tr>\n",
       "  </thead>\n",
       "  <tbody>\n",
       "    <tr>\n",
       "      <th>count</th>\n",
       "      <td>4.000000</td>\n",
       "      <td>4.000000</td>\n",
       "      <td>4.000000</td>\n",
       "    </tr>\n",
       "    <tr>\n",
       "      <th>mean</th>\n",
       "      <td>40.000000</td>\n",
       "      <td>50.000000</td>\n",
       "      <td>57.500000</td>\n",
       "    </tr>\n",
       "    <tr>\n",
       "      <th>std</th>\n",
       "      <td>25.819889</td>\n",
       "      <td>25.819889</td>\n",
       "      <td>29.860788</td>\n",
       "    </tr>\n",
       "    <tr>\n",
       "      <th>min</th>\n",
       "      <td>10.000000</td>\n",
       "      <td>20.000000</td>\n",
       "      <td>20.000000</td>\n",
       "    </tr>\n",
       "    <tr>\n",
       "      <th>25%</th>\n",
       "      <td>25.000000</td>\n",
       "      <td>35.000000</td>\n",
       "      <td>42.500000</td>\n",
       "    </tr>\n",
       "    <tr>\n",
       "      <th>50%</th>\n",
       "      <td>40.000000</td>\n",
       "      <td>50.000000</td>\n",
       "      <td>60.000000</td>\n",
       "    </tr>\n",
       "    <tr>\n",
       "      <th>75%</th>\n",
       "      <td>55.000000</td>\n",
       "      <td>65.000000</td>\n",
       "      <td>75.000000</td>\n",
       "    </tr>\n",
       "    <tr>\n",
       "      <th>max</th>\n",
       "      <td>70.000000</td>\n",
       "      <td>80.000000</td>\n",
       "      <td>90.000000</td>\n",
       "    </tr>\n",
       "  </tbody>\n",
       "</table>\n",
       "</div>"
      ],
      "text/plain": [
       "             eng        kor       math\n",
       "count   4.000000   4.000000   4.000000\n",
       "mean   40.000000  50.000000  57.500000\n",
       "std    25.819889  25.819889  29.860788\n",
       "min    10.000000  20.000000  20.000000\n",
       "25%    25.000000  35.000000  42.500000\n",
       "50%    40.000000  50.000000  60.000000\n",
       "75%    55.000000  65.000000  75.000000\n",
       "max    70.000000  80.000000  90.000000"
      ]
     },
     "execution_count": 20,
     "metadata": {},
     "output_type": "execute_result"
    }
   ],
   "source": [
    "# 요약정보\n",
    "df.describe()"
   ]
  },
  {
   "cell_type": "code",
   "execution_count": 19,
   "id": "f6c31ddf-2bb2-4812-9908-5020f6908f06",
   "metadata": {},
   "outputs": [
    {
     "data": {
      "text/plain": [
       "eng     4\n",
       "kor     4\n",
       "math    4\n",
       "dtype: int64"
      ]
     },
     "execution_count": 19,
     "metadata": {},
     "output_type": "execute_result"
    }
   ],
   "source": [
    "# 카운트\n",
    "df.count()"
   ]
  },
  {
   "cell_type": "code",
   "execution_count": 44,
   "id": "1dc2bb8c-77a3-4d03-a03f-606e2d35e6cb",
   "metadata": {},
   "outputs": [
    {
     "name": "stdout",
     "output_type": "stream",
     "text": [
      "Defaulting to user installation because normal site-packages is not writeable\n",
      "Requirement already satisfied: openpyxl in c:\\users\\shini\\appdata\\roaming\\python\\python39\\site-packages (3.0.9)\n",
      "Requirement already satisfied: et-xmlfile in c:\\users\\shini\\appdata\\roaming\\python\\python39\\site-packages (from openpyxl) (1.1.0)\n"
     ]
    }
   ],
   "source": [
    "# 엑셀저장\n",
    "!pip install -U openpyxl\n",
    "df.index.name = '이름'\n",
    "df.to_excel('data/14.xlsx')"
   ]
  },
  {
   "cell_type": "code",
   "execution_count": 28,
   "id": "9f252e68-d757-4658-90d9-dd9d17d8197c",
   "metadata": {},
   "outputs": [
    {
     "data": {
      "text/plain": [
       "eng     160\n",
       "kor     200\n",
       "math    230\n",
       "dtype: int64"
      ]
     },
     "execution_count": 28,
     "metadata": {},
     "output_type": "execute_result"
    }
   ],
   "source": [
    "def fn(v):\n",
    "    return v.sum()\n",
    "df.apply(fn, axis=0) # 1차원으로 넘어간다"
   ]
  },
  {
   "cell_type": "code",
   "execution_count": 29,
   "id": "0212a649-c02c-409c-98b3-fb9ce9ac9219",
   "metadata": {},
   "outputs": [
    {
     "data": {
      "text/plain": [
       "eng     160\n",
       "kor     200\n",
       "math    230\n",
       "dtype: int64"
      ]
     },
     "execution_count": 29,
     "metadata": {},
     "output_type": "execute_result"
    }
   ],
   "source": [
    "df.apply( lambda v: v.sum() )"
   ]
  },
  {
   "cell_type": "code",
   "execution_count": 36,
   "id": "d9a009e1-380e-4195-b737-16d29dc1f7d6",
   "metadata": {},
   "outputs": [
    {
     "data": {
      "text/plain": [
       "a    불합격\n",
       "b    불합격\n",
       "c    불합격\n",
       "d     합격\n",
       "dtype: object"
      ]
     },
     "execution_count": 36,
     "metadata": {},
     "output_type": "execute_result"
    }
   ],
   "source": [
    "# 국어, 영어, 수학 점수의 평균이 70점 이상이면 합격 아니면 불합력\n",
    "# Series로 구하시오.\n",
    "def fn(v):\n",
    "    # print(v)\n",
    "    if v.mean() >= 70:\n",
    "        return '합격'\n",
    "    else:\n",
    "        return '불합격'\n",
    "df.apply(fn, axis=1)"
   ]
  },
  {
   "cell_type": "code",
   "execution_count": 37,
   "id": "4ca6960a-f72d-49cb-89bb-5db7678ce620",
   "metadata": {},
   "outputs": [
    {
     "data": {
      "text/html": [
       "<div>\n",
       "<style scoped>\n",
       "    .dataframe tbody tr th:only-of-type {\n",
       "        vertical-align: middle;\n",
       "    }\n",
       "\n",
       "    .dataframe tbody tr th {\n",
       "        vertical-align: top;\n",
       "    }\n",
       "\n",
       "    .dataframe thead th {\n",
       "        text-align: right;\n",
       "    }\n",
       "</style>\n",
       "<table border=\"1\" class=\"dataframe\">\n",
       "  <thead>\n",
       "    <tr style=\"text-align: right;\">\n",
       "      <th></th>\n",
       "      <th>eng</th>\n",
       "      <th>kor</th>\n",
       "      <th>math</th>\n",
       "      <th>결과</th>\n",
       "    </tr>\n",
       "  </thead>\n",
       "  <tbody>\n",
       "    <tr>\n",
       "      <th>a</th>\n",
       "      <td>10</td>\n",
       "      <td>20</td>\n",
       "      <td>90</td>\n",
       "      <td>불합격</td>\n",
       "    </tr>\n",
       "    <tr>\n",
       "      <th>b</th>\n",
       "      <td>30</td>\n",
       "      <td>40</td>\n",
       "      <td>50</td>\n",
       "      <td>불합격</td>\n",
       "    </tr>\n",
       "    <tr>\n",
       "      <th>c</th>\n",
       "      <td>50</td>\n",
       "      <td>60</td>\n",
       "      <td>20</td>\n",
       "      <td>불합격</td>\n",
       "    </tr>\n",
       "    <tr>\n",
       "      <th>d</th>\n",
       "      <td>70</td>\n",
       "      <td>80</td>\n",
       "      <td>70</td>\n",
       "      <td>합격</td>\n",
       "    </tr>\n",
       "  </tbody>\n",
       "</table>\n",
       "</div>"
      ],
      "text/plain": [
       "   eng  kor  math   결과\n",
       "a   10   20    90  불합격\n",
       "b   30   40    50  불합격\n",
       "c   50   60    20  불합격\n",
       "d   70   80    70   합격"
      ]
     },
     "execution_count": 37,
     "metadata": {},
     "output_type": "execute_result"
    }
   ],
   "source": [
    "df['결과'] = df.apply( lambda v: '합격' if v.mean()>=70 else '불합격', axis=1 )\n",
    "df"
   ]
  },
  {
   "cell_type": "code",
   "execution_count": 47,
   "id": "2b35402d-0438-46e2-a205-b766ae1974c7",
   "metadata": {},
   "outputs": [
    {
     "data": {
      "image/png": "[encoded data removed]",
      "text/plain": [
       "<Figure size 432x288 with 1 Axes>"
      ]
     },
     "metadata": {
      "needs_background": "light"
     },
     "output_type": "display_data"
    }
   ],
   "source": [
    "df.plot(kind='bar', y=['eng','kor'], ylim=(0,100))\n",
    "plt.show()"
   ]
  }
 ],
 "metadata": {
  "kernelspec": {
   "display_name": "Python 3 (ipykernel)",
   "language": "python",
   "name": "python3"
  },
  "language_info": {
   "codemirror_mode": {
    "name": "ipython",
    "version": 3
   },
   "file_extension": ".py",
   "mimetype": "text/x-python",
   "name": "python",
   "nbconvert_exporter": "python",
   "pygments_lexer": "ipython3",
   "version": "3.9.10"
  }
 },
 "nbformat": 4,
 "nbformat_minor": 5
}
