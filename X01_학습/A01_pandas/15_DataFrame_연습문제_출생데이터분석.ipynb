{
 "cells": [
  {
   "cell_type": "code",
   "execution_count": 2,
   "id": "39850fb5-69c6-4674-9b01-7d66d1a44074",
   "metadata": {},
   "outputs": [],
   "source": [
    "# 테스트 libary\n",
    "import pandas as pd\n",
    "import numpy as np\n",
    "import matplotlib.pyplot as plt\n",
    "\n",
    "# 차트 한글깨짐 방지\n",
    "import matplotlib as mp\n",
    "mp.rcParams['font.family'] = 'Malgun Gothic'\n",
    "mp.rcParams['axes.unicode_minus'] = False"
   ]
  },
  {
   "cell_type": "markdown",
   "id": "a3ae7843-5709-4d28-91b1-8ce90ec7ea12",
   "metadata": {},
   "source": [
    "##### 01. 기준 데이터"
   ]
  },
  {
   "cell_type": "code",
   "execution_count": 14,
   "id": "5458c905-776f-4d24-b5e1-cbdbfc868dd7",
   "metadata": {},
   "outputs": [
    {
     "name": "stdout",
     "output_type": "stream",
     "text": [
      "[미국에서 태어난 년도별 신생아 현황]\n"
     ]
    },
    {
     "data": {
      "text/html": [
       "<div>\n",
       "<style scoped>\n",
       "    .dataframe tbody tr th:only-of-type {\n",
       "        vertical-align: middle;\n",
       "    }\n",
       "\n",
       "    .dataframe tbody tr th {\n",
       "        vertical-align: top;\n",
       "    }\n",
       "\n",
       "    .dataframe thead th {\n",
       "        text-align: right;\n",
       "    }\n",
       "</style>\n",
       "<table border=\"1\" class=\"dataframe\">\n",
       "  <thead>\n",
       "    <tr style=\"text-align: right;\">\n",
       "      <th></th>\n",
       "      <th>남아수</th>\n",
       "      <th>여아수</th>\n",
       "    </tr>\n",
       "    <tr>\n",
       "      <th>출생년도</th>\n",
       "      <th></th>\n",
       "      <th></th>\n",
       "    </tr>\n",
       "  </thead>\n",
       "  <tbody>\n",
       "    <tr>\n",
       "      <th>1880</th>\n",
       "      <td>90993</td>\n",
       "      <td>110491</td>\n",
       "    </tr>\n",
       "    <tr>\n",
       "      <th>1881</th>\n",
       "      <td>91954</td>\n",
       "      <td>100745</td>\n",
       "    </tr>\n",
       "  </tbody>\n",
       "</table>\n",
       "</div>"
      ],
      "text/plain": [
       "        남아수     여아수\n",
       "출생년도               \n",
       "1880  90993  110491\n",
       "1881  91954  100745"
      ]
     },
     "metadata": {},
     "output_type": "display_data"
    }
   ],
   "source": [
    "print(\"[미국에서 태어난 년도별 신생아 현황]\")\n",
    "df = pd.read_csv('data/births.csv', index_col=0) # index_col=0 인덱스를 첫번째 열로 사용\n",
    "df.columns = ['남아수', '여아수'] # 컬럼 변경\n",
    "df.index.name = '출생년도'        # 인덱스명 지정\n",
    "display(df.head(2))"
   ]
  },
  {
   "cell_type": "markdown",
   "id": "933e58eb-6c8a-4a9b-bcf9-df92f06f28c8",
   "metadata": {},
   "source": [
    "[문제-01] 남아수 총합을 구하시오."
   ]
  },
  {
   "cell_type": "code",
   "execution_count": 28,
   "id": "80e4d525-2a5f-46d6-ae09-c77ab2b2f271",
   "metadata": {},
   "outputs": [
    {
     "name": "stdout",
     "output_type": "stream",
     "text": [
      "남아 총계:  161802441\n",
      "여아 총계:  164392696\n"
     ]
    }
   ],
   "source": [
    "print(\"남아 총계: \", df[\"남아수\"].sum())   # 남아 총계\n",
    "print(\"여아 총계: \", df.sum()[\"여아수\"])   # 여아 총계"
   ]
  },
  {
   "cell_type": "markdown",
   "id": "94d6235c-218d-4229-bed0-714225551a48",
   "metadata": {},
   "source": [
    "[문제-02] 여아수 평균을 구하시오."
   ]
  },
  {
   "cell_type": "code",
   "execution_count": 29,
   "id": "8b8cd4de-12ff-4013-b1f9-5aca66e0f3be",
   "metadata": {},
   "outputs": [
    {
     "name": "stdout",
     "output_type": "stream",
     "text": [
      "여아수 평균:  1245399.21\n",
      "남아수 평균:  1225776.07\n"
     ]
    }
   ],
   "source": [
    "print(\"여아수 평균: \",round(df[\"여아수\"].mean(), 2))\n",
    "print(\"남아수 평균: \",round(df[\"남아수\"].mean(), 2))"
   ]
  },
  {
   "cell_type": "markdown",
   "id": "273d5969-448c-4759-a53f-0a5a8aafa275",
   "metadata": {},
   "source": [
    "[문제-03] 남아수가 가장 많은 년도와 남아수를 구하시오."
   ]
  },
  {
   "cell_type": "code",
   "execution_count": 45,
   "id": "d3ec0fa3-d403-4af1-b8e6-365f8c2ae038",
   "metadata": {},
   "outputs": [
    {
     "data": {
      "text/html": [
       "<div>\n",
       "<style scoped>\n",
       "    .dataframe tbody tr th:only-of-type {\n",
       "        vertical-align: middle;\n",
       "    }\n",
       "\n",
       "    .dataframe tbody tr th {\n",
       "        vertical-align: top;\n",
       "    }\n",
       "\n",
       "    .dataframe thead th {\n",
       "        text-align: right;\n",
       "    }\n",
       "</style>\n",
       "<table border=\"1\" class=\"dataframe\">\n",
       "  <thead>\n",
       "    <tr style=\"text-align: right;\">\n",
       "      <th></th>\n",
       "      <th>남아수</th>\n",
       "    </tr>\n",
       "    <tr>\n",
       "      <th>출생년도</th>\n",
       "      <th></th>\n",
       "    </tr>\n",
       "  </thead>\n",
       "  <tbody>\n",
       "    <tr>\n",
       "      <th>1957</th>\n",
       "      <td>2044160</td>\n",
       "    </tr>\n",
       "  </tbody>\n",
       "</table>\n",
       "</div>"
      ],
      "text/plain": [
       "          남아수\n",
       "출생년도         \n",
       "1957  2044160"
      ]
     },
     "metadata": {},
     "output_type": "display_data"
    },
    {
     "data": {
      "text/html": [
       "<div>\n",
       "<style scoped>\n",
       "    .dataframe tbody tr th:only-of-type {\n",
       "        vertical-align: middle;\n",
       "    }\n",
       "\n",
       "    .dataframe tbody tr th {\n",
       "        vertical-align: top;\n",
       "    }\n",
       "\n",
       "    .dataframe thead th {\n",
       "        text-align: right;\n",
       "    }\n",
       "</style>\n",
       "<table border=\"1\" class=\"dataframe\">\n",
       "  <thead>\n",
       "    <tr style=\"text-align: right;\">\n",
       "      <th></th>\n",
       "      <th>남아수</th>\n",
       "    </tr>\n",
       "    <tr>\n",
       "      <th>출생년도</th>\n",
       "      <th></th>\n",
       "    </tr>\n",
       "  </thead>\n",
       "  <tbody>\n",
       "    <tr>\n",
       "      <th>1957</th>\n",
       "      <td>2044160</td>\n",
       "    </tr>\n",
       "  </tbody>\n",
       "</table>\n",
       "</div>"
      ],
      "text/plain": [
       "          남아수\n",
       "출생년도         \n",
       "1957  2044160"
      ]
     },
     "metadata": {},
     "output_type": "display_data"
    }
   ],
   "source": [
    "boy_max = df.남아수.max()\n",
    "display(df[ df.남아수 == boy_max ][['남아수']])\n",
    "display(df.query(f'남아수=={boy_max}')[['남아수']])"
   ]
  },
  {
   "cell_type": "markdown",
   "id": "95b23f40-56dc-4210-a7f0-fee1e928abc5",
   "metadata": {},
   "source": [
    "[문제-04] 2010년도 이후 데이터를 구하시오."
   ]
  },
  {
   "cell_type": "code",
   "execution_count": 50,
   "id": "e712e1c9-6c90-4a30-9862-12a58e7860fd",
   "metadata": {},
   "outputs": [
    {
     "data": {
      "text/html": [
       "<div>\n",
       "<style scoped>\n",
       "    .dataframe tbody tr th:only-of-type {\n",
       "        vertical-align: middle;\n",
       "    }\n",
       "\n",
       "    .dataframe tbody tr th {\n",
       "        vertical-align: top;\n",
       "    }\n",
       "\n",
       "    .dataframe thead th {\n",
       "        text-align: right;\n",
       "    }\n",
       "</style>\n",
       "<table border=\"1\" class=\"dataframe\">\n",
       "  <thead>\n",
       "    <tr style=\"text-align: right;\">\n",
       "      <th></th>\n",
       "      <th>남아수</th>\n",
       "      <th>여아수</th>\n",
       "    </tr>\n",
       "    <tr>\n",
       "      <th>출생년도</th>\n",
       "      <th></th>\n",
       "      <th></th>\n",
       "    </tr>\n",
       "  </thead>\n",
       "  <tbody>\n",
       "    <tr>\n",
       "      <th>2010</th>\n",
       "      <td>1772738</td>\n",
       "      <td>1913851</td>\n",
       "    </tr>\n",
       "    <tr>\n",
       "      <th>2011</th>\n",
       "      <td>1753500</td>\n",
       "      <td>1893230</td>\n",
       "    </tr>\n",
       "  </tbody>\n",
       "</table>\n",
       "</div>"
      ],
      "text/plain": [
       "          남아수      여아수\n",
       "출생년도                  \n",
       "2010  1772738  1913851\n",
       "2011  1753500  1893230"
      ]
     },
     "metadata": {},
     "output_type": "display_data"
    },
    {
     "data": {
      "text/html": [
       "<div>\n",
       "<style scoped>\n",
       "    .dataframe tbody tr th:only-of-type {\n",
       "        vertical-align: middle;\n",
       "    }\n",
       "\n",
       "    .dataframe tbody tr th {\n",
       "        vertical-align: top;\n",
       "    }\n",
       "\n",
       "    .dataframe thead th {\n",
       "        text-align: right;\n",
       "    }\n",
       "</style>\n",
       "<table border=\"1\" class=\"dataframe\">\n",
       "  <thead>\n",
       "    <tr style=\"text-align: right;\">\n",
       "      <th></th>\n",
       "      <th>남아수</th>\n",
       "      <th>여아수</th>\n",
       "    </tr>\n",
       "    <tr>\n",
       "      <th>출생년도</th>\n",
       "      <th></th>\n",
       "      <th></th>\n",
       "    </tr>\n",
       "  </thead>\n",
       "  <tbody>\n",
       "    <tr>\n",
       "      <th>2010</th>\n",
       "      <td>1772738</td>\n",
       "      <td>1913851</td>\n",
       "    </tr>\n",
       "    <tr>\n",
       "      <th>2011</th>\n",
       "      <td>1753500</td>\n",
       "      <td>1893230</td>\n",
       "    </tr>\n",
       "  </tbody>\n",
       "</table>\n",
       "</div>"
      ],
      "text/plain": [
       "          남아수      여아수\n",
       "출생년도                  \n",
       "2010  1772738  1913851\n",
       "2011  1753500  1893230"
      ]
     },
     "execution_count": 50,
     "metadata": {},
     "output_type": "execute_result"
    }
   ],
   "source": [
    "display(df.query('출생년도 >= 2010'))\n",
    "df.loc[2010:] # 인덱스로 구하기"
   ]
  },
  {
   "cell_type": "markdown",
   "id": "22b033db-4a95-49be-b772-0172d08565c9",
   "metadata": {},
   "source": [
    "[문제-05] 1999 ~ 2000 년도 데이터를 구하시오."
   ]
  },
  {
   "cell_type": "code",
   "execution_count": 53,
   "id": "e3a4d841-6133-431f-bd5d-f0a8b7a8ed15",
   "metadata": {},
   "outputs": [
    {
     "data": {
      "text/html": [
       "<div>\n",
       "<style scoped>\n",
       "    .dataframe tbody tr th:only-of-type {\n",
       "        vertical-align: middle;\n",
       "    }\n",
       "\n",
       "    .dataframe tbody tr th {\n",
       "        vertical-align: top;\n",
       "    }\n",
       "\n",
       "    .dataframe thead th {\n",
       "        text-align: right;\n",
       "    }\n",
       "</style>\n",
       "<table border=\"1\" class=\"dataframe\">\n",
       "  <thead>\n",
       "    <tr style=\"text-align: right;\">\n",
       "      <th></th>\n",
       "      <th>남아수</th>\n",
       "      <th>여아수</th>\n",
       "    </tr>\n",
       "    <tr>\n",
       "      <th>출생년도</th>\n",
       "      <th></th>\n",
       "      <th></th>\n",
       "    </tr>\n",
       "  </thead>\n",
       "  <tbody>\n",
       "    <tr>\n",
       "      <th>1999</th>\n",
       "      <td>1772632</td>\n",
       "      <td>1918809</td>\n",
       "    </tr>\n",
       "    <tr>\n",
       "      <th>2000</th>\n",
       "      <td>1814601</td>\n",
       "      <td>1962406</td>\n",
       "    </tr>\n",
       "  </tbody>\n",
       "</table>\n",
       "</div>"
      ],
      "text/plain": [
       "          남아수      여아수\n",
       "출생년도                  \n",
       "1999  1772632  1918809\n",
       "2000  1814601  1962406"
      ]
     },
     "metadata": {},
     "output_type": "display_data"
    },
    {
     "data": {
      "text/html": [
       "<div>\n",
       "<style scoped>\n",
       "    .dataframe tbody tr th:only-of-type {\n",
       "        vertical-align: middle;\n",
       "    }\n",
       "\n",
       "    .dataframe tbody tr th {\n",
       "        vertical-align: top;\n",
       "    }\n",
       "\n",
       "    .dataframe thead th {\n",
       "        text-align: right;\n",
       "    }\n",
       "</style>\n",
       "<table border=\"1\" class=\"dataframe\">\n",
       "  <thead>\n",
       "    <tr style=\"text-align: right;\">\n",
       "      <th></th>\n",
       "      <th>남아수</th>\n",
       "      <th>여아수</th>\n",
       "    </tr>\n",
       "    <tr>\n",
       "      <th>출생년도</th>\n",
       "      <th></th>\n",
       "      <th></th>\n",
       "    </tr>\n",
       "  </thead>\n",
       "  <tbody>\n",
       "    <tr>\n",
       "      <th>1999</th>\n",
       "      <td>1772632</td>\n",
       "      <td>1918809</td>\n",
       "    </tr>\n",
       "    <tr>\n",
       "      <th>2000</th>\n",
       "      <td>1814601</td>\n",
       "      <td>1962406</td>\n",
       "    </tr>\n",
       "  </tbody>\n",
       "</table>\n",
       "</div>"
      ],
      "text/plain": [
       "          남아수      여아수\n",
       "출생년도                  \n",
       "1999  1772632  1918809\n",
       "2000  1814601  1962406"
      ]
     },
     "execution_count": 53,
     "metadata": {},
     "output_type": "execute_result"
    }
   ],
   "source": [
    "display(df.query('1999 <= 출생년도 <= 2000'))\n",
    "df.loc[1999:2000]"
   ]
  },
  {
   "cell_type": "markdown",
   "id": "af63d4ad-ba28-4d97-892e-ea070fe5de74",
   "metadata": {},
   "source": [
    "[문제-06] 남아출생이 가장많은 top 5 를 구하시오(년도와 남아수)"
   ]
  },
  {
   "cell_type": "code",
   "execution_count": 77,
   "id": "00ec17d9-e29b-4705-839e-5e806dbcd0f2",
   "metadata": {},
   "outputs": [
    {
     "data": {
      "text/html": [
       "<div>\n",
       "<style scoped>\n",
       "    .dataframe tbody tr th:only-of-type {\n",
       "        vertical-align: middle;\n",
       "    }\n",
       "\n",
       "    .dataframe tbody tr th {\n",
       "        vertical-align: top;\n",
       "    }\n",
       "\n",
       "    .dataframe thead th {\n",
       "        text-align: right;\n",
       "    }\n",
       "</style>\n",
       "<table border=\"1\" class=\"dataframe\">\n",
       "  <thead>\n",
       "    <tr style=\"text-align: right;\">\n",
       "      <th></th>\n",
       "      <th>남아수</th>\n",
       "    </tr>\n",
       "    <tr>\n",
       "      <th>출생년도</th>\n",
       "      <th></th>\n",
       "    </tr>\n",
       "  </thead>\n",
       "  <tbody>\n",
       "    <tr>\n",
       "      <th>1957</th>\n",
       "      <td>2044160</td>\n",
       "    </tr>\n",
       "    <tr>\n",
       "      <th>1959</th>\n",
       "      <td>2023044</td>\n",
       "    </tr>\n",
       "    <tr>\n",
       "      <th>1960</th>\n",
       "      <td>2022093</td>\n",
       "    </tr>\n",
       "    <tr>\n",
       "      <th>1961</th>\n",
       "      <td>2017316</td>\n",
       "    </tr>\n",
       "    <tr>\n",
       "      <th>1958</th>\n",
       "      <td>2010884</td>\n",
       "    </tr>\n",
       "  </tbody>\n",
       "</table>\n",
       "</div>"
      ],
      "text/plain": [
       "          남아수\n",
       "출생년도         \n",
       "1957  2044160\n",
       "1959  2023044\n",
       "1960  2022093\n",
       "1961  2017316\n",
       "1958  2010884"
      ]
     },
     "metadata": {},
     "output_type": "display_data"
    },
    {
     "data": {
      "text/html": [
       "<div>\n",
       "<style scoped>\n",
       "    .dataframe tbody tr th:only-of-type {\n",
       "        vertical-align: middle;\n",
       "    }\n",
       "\n",
       "    .dataframe tbody tr th {\n",
       "        vertical-align: top;\n",
       "    }\n",
       "\n",
       "    .dataframe thead th {\n",
       "        text-align: right;\n",
       "    }\n",
       "</style>\n",
       "<table border=\"1\" class=\"dataframe\">\n",
       "  <thead>\n",
       "    <tr style=\"text-align: right;\">\n",
       "      <th></th>\n",
       "      <th>남아수</th>\n",
       "    </tr>\n",
       "    <tr>\n",
       "      <th>출생년도</th>\n",
       "      <th></th>\n",
       "    </tr>\n",
       "  </thead>\n",
       "  <tbody>\n",
       "    <tr>\n",
       "      <th>1957</th>\n",
       "      <td>2044160</td>\n",
       "    </tr>\n",
       "    <tr>\n",
       "      <th>1959</th>\n",
       "      <td>2023044</td>\n",
       "    </tr>\n",
       "    <tr>\n",
       "      <th>1960</th>\n",
       "      <td>2022093</td>\n",
       "    </tr>\n",
       "    <tr>\n",
       "      <th>1961</th>\n",
       "      <td>2017316</td>\n",
       "    </tr>\n",
       "    <tr>\n",
       "      <th>1958</th>\n",
       "      <td>2010884</td>\n",
       "    </tr>\n",
       "  </tbody>\n",
       "</table>\n",
       "</div>"
      ],
      "text/plain": [
       "          남아수\n",
       "출생년도         \n",
       "1957  2044160\n",
       "1959  2023044\n",
       "1960  2022093\n",
       "1961  2017316\n",
       "1958  2010884"
      ]
     },
     "execution_count": 77,
     "metadata": {},
     "output_type": "execute_result"
    }
   ],
   "source": [
    "df1 = df.filter([\"출생년도\",\"남아수\"])\n",
    "display(df1.sort_values(\"남아수\", ascending=False).head(5))\n",
    "\n",
    "sr1 = df['남아수'].nlargest()\n",
    "pd.DataFrame(sr1)"
   ]
  },
  {
   "cell_type": "markdown",
   "id": "f5d047e3-15f8-4435-8e03-f792fe90739c",
   "metadata": {},
   "source": [
    "[문제-07] 남아율(%) 컬럼을 추가하고 각년도별 남아수가 차지하는 비율로 데이터로 보여주시오."
   ]
  },
  {
   "cell_type": "code",
   "execution_count": 97,
   "id": "59e6d9b0-f177-42c0-9072-7be4d344f9b9",
   "metadata": {},
   "outputs": [
    {
     "data": {
      "text/html": [
       "<div>\n",
       "<style scoped>\n",
       "    .dataframe tbody tr th:only-of-type {\n",
       "        vertical-align: middle;\n",
       "    }\n",
       "\n",
       "    .dataframe tbody tr th {\n",
       "        vertical-align: top;\n",
       "    }\n",
       "\n",
       "    .dataframe thead th {\n",
       "        text-align: right;\n",
       "    }\n",
       "</style>\n",
       "<table border=\"1\" class=\"dataframe\">\n",
       "  <thead>\n",
       "    <tr style=\"text-align: right;\">\n",
       "      <th></th>\n",
       "      <th>남아수</th>\n",
       "      <th>여아수</th>\n",
       "      <th>남아율1</th>\n",
       "      <th>남아율2</th>\n",
       "    </tr>\n",
       "    <tr>\n",
       "      <th>출생년도</th>\n",
       "      <th></th>\n",
       "      <th></th>\n",
       "      <th></th>\n",
       "      <th></th>\n",
       "    </tr>\n",
       "  </thead>\n",
       "  <tbody>\n",
       "    <tr>\n",
       "      <th>1880</th>\n",
       "      <td>90993</td>\n",
       "      <td>110491</td>\n",
       "      <td>45.16</td>\n",
       "      <td>45.16</td>\n",
       "    </tr>\n",
       "    <tr>\n",
       "      <th>1881</th>\n",
       "      <td>91954</td>\n",
       "      <td>100745</td>\n",
       "      <td>47.72</td>\n",
       "      <td>47.72</td>\n",
       "    </tr>\n",
       "  </tbody>\n",
       "</table>\n",
       "</div>"
      ],
      "text/plain": [
       "        남아수     여아수   남아율1   남아율2\n",
       "출생년도                             \n",
       "1880  90993  110491  45.16  45.16\n",
       "1881  91954  100745  47.72  47.72"
      ]
     },
     "metadata": {},
     "output_type": "display_data"
    }
   ],
   "source": [
    "df['남아율1'] = round(df.남아수/df.sum(axis=1)*100, 2)\n",
    "df['남아율2'] = round(df.남아수/(df.남아수+df.여아수)*100, 2)\n",
    "display(df.head(2))\n",
    "df.drop(columns=['남아율1','남아율2'], inplace=True)"
   ]
  },
  {
   "cell_type": "markdown",
   "id": "7fb3511a-e716-4e78-9c75-f28f0ba32eb8",
   "metadata": {},
   "source": [
    "[문제-08] 2000년도 이후 데이터에 대해 출생량 컬럼을 추가\n",
    "- 남아수가 1800000 이상이면, '많음' 아니면 '적음' 이라고 출력한다.\n",
    "- 출력: 출생년도, 남아수, 출생량(많음 or 적음)"
   ]
  },
  {
   "cell_type": "code",
   "execution_count": 101,
   "id": "457c4e5a-b7ef-4962-9a6c-92d2c2fa12f0",
   "metadata": {},
   "outputs": [
    {
     "data": {
      "text/html": [
       "<div>\n",
       "<style scoped>\n",
       "    .dataframe tbody tr th:only-of-type {\n",
       "        vertical-align: middle;\n",
       "    }\n",
       "\n",
       "    .dataframe tbody tr th {\n",
       "        vertical-align: top;\n",
       "    }\n",
       "\n",
       "    .dataframe thead th {\n",
       "        text-align: right;\n",
       "    }\n",
       "</style>\n",
       "<table border=\"1\" class=\"dataframe\">\n",
       "  <thead>\n",
       "    <tr style=\"text-align: right;\">\n",
       "      <th></th>\n",
       "      <th>남아수</th>\n",
       "      <th>출생량</th>\n",
       "    </tr>\n",
       "    <tr>\n",
       "      <th>출생년도</th>\n",
       "      <th></th>\n",
       "      <th></th>\n",
       "    </tr>\n",
       "  </thead>\n",
       "  <tbody>\n",
       "    <tr>\n",
       "      <th>2000</th>\n",
       "      <td>1814601</td>\n",
       "      <td>많음</td>\n",
       "    </tr>\n",
       "    <tr>\n",
       "      <th>2001</th>\n",
       "      <td>1799049</td>\n",
       "      <td>적음</td>\n",
       "    </tr>\n",
       "  </tbody>\n",
       "</table>\n",
       "</div>"
      ],
      "text/plain": [
       "          남아수 출생량\n",
       "출생년도             \n",
       "2000  1814601  많음\n",
       "2001  1799049  적음"
      ]
     },
     "execution_count": 101,
     "metadata": {},
     "output_type": "execute_result"
    }
   ],
   "source": [
    "df1 = df.loc[2000:][['남아수']]\n",
    "df1['출생량'] = df1.남아수.apply(lambda v: '많음' if v >= 1800000 else'적음')\n",
    "df1.head(2)"
   ]
  },
  {
   "cell_type": "markdown",
   "id": "eeb89f07-afc5-4794-a1b6-06a52dc3b212",
   "metadata": {},
   "source": [
    "[문제-9] 1800년대, 1900년대, 2000년대 각 남아수, 여아수 평균을 구하시오."
   ]
  },
  {
   "cell_type": "code",
   "execution_count": 119,
   "id": "96e01375-02cc-4509-b97c-a0b3d5dca1cf",
   "metadata": {},
   "outputs": [
    {
     "data": {
      "text/html": [
       "<div>\n",
       "<style scoped>\n",
       "    .dataframe tbody tr th:only-of-type {\n",
       "        vertical-align: middle;\n",
       "    }\n",
       "\n",
       "    .dataframe tbody tr th {\n",
       "        vertical-align: top;\n",
       "    }\n",
       "\n",
       "    .dataframe thead th {\n",
       "        text-align: right;\n",
       "    }\n",
       "</style>\n",
       "<table border=\"1\" class=\"dataframe\">\n",
       "  <thead>\n",
       "    <tr style=\"text-align: right;\">\n",
       "      <th></th>\n",
       "      <th>남아수</th>\n",
       "      <th>여아수</th>\n",
       "    </tr>\n",
       "  </thead>\n",
       "  <tbody>\n",
       "    <tr>\n",
       "      <th>1800년 평균</th>\n",
       "      <td>176714.15</td>\n",
       "      <td>111820.55</td>\n",
       "    </tr>\n",
       "    <tr>\n",
       "      <th>1900년 평균</th>\n",
       "      <td>1362901.51</td>\n",
       "      <td>1384145.55</td>\n",
       "    </tr>\n",
       "    <tr>\n",
       "      <th>2000년 평균</th>\n",
       "      <td>1831500.58</td>\n",
       "      <td>1978477.50</td>\n",
       "    </tr>\n",
       "  </tbody>\n",
       "</table>\n",
       "</div>"
      ],
      "text/plain": [
       "                 남아수         여아수\n",
       "1800년 평균   176714.15   111820.55\n",
       "1900년 평균  1362901.51  1384145.55\n",
       "2000년 평균  1831500.58  1978477.50"
      ]
     },
     "metadata": {},
     "output_type": "display_data"
    },
    {
     "data": {
      "text/html": [
       "<div>\n",
       "<style scoped>\n",
       "    .dataframe tbody tr th:only-of-type {\n",
       "        vertical-align: middle;\n",
       "    }\n",
       "\n",
       "    .dataframe tbody tr th {\n",
       "        vertical-align: top;\n",
       "    }\n",
       "\n",
       "    .dataframe thead th {\n",
       "        text-align: right;\n",
       "    }\n",
       "</style>\n",
       "<table border=\"1\" class=\"dataframe\">\n",
       "  <thead>\n",
       "    <tr style=\"text-align: right;\">\n",
       "      <th></th>\n",
       "      <th>1800년 평균</th>\n",
       "      <th>1900년 평균</th>\n",
       "      <th>2000년 평균</th>\n",
       "    </tr>\n",
       "  </thead>\n",
       "  <tbody>\n",
       "    <tr>\n",
       "      <th>남아수</th>\n",
       "      <td>176714.15</td>\n",
       "      <td>1362901.51</td>\n",
       "      <td>1831500.58</td>\n",
       "    </tr>\n",
       "    <tr>\n",
       "      <th>여아수</th>\n",
       "      <td>111820.55</td>\n",
       "      <td>1384145.55</td>\n",
       "      <td>1978477.50</td>\n",
       "    </tr>\n",
       "  </tbody>\n",
       "</table>\n",
       "</div>"
      ],
      "text/plain": [
       "      1800년 평균    1900년 평균    2000년 평균\n",
       "남아수  176714.15  1362901.51  1831500.58\n",
       "여아수  111820.55  1384145.55  1978477.50"
      ]
     },
     "metadata": {},
     "output_type": "display_data"
    },
    {
     "data": {
      "text/plain": [
       "<AxesSubplot:>"
      ]
     },
     "execution_count": 119,
     "metadata": {},
     "output_type": "execute_result"
    },
    {
     "data": {
      "image/png": "[encoded data removed]",
      "text/plain": [
       "<Figure size 432x288 with 1 Axes>"
      ]
     },
     "metadata": {
      "needs_background": "light"
     },
     "output_type": "display_data"
    }
   ],
   "source": [
    "df18 = df.loc[1800:1899][['남아수','여아수']]\n",
    "df19 = df.loc[1900:1999][['남아수','여아수']]\n",
    "df20 = df.loc[2000:2099][['남아수','여아수']]\n",
    "\n",
    "df_sum = pd.DataFrame([df18.mean().round(2),df19.mean().round(2),df20.mean().round(2)])\n",
    "df_sum.index=['1800년 평균','1900년 평균','2000년 평균']\n",
    "display(df_sum)\n",
    "\n",
    "display(df_sum.T)\n",
    "\n",
    "df_sum.plot()"
   ]
  }
 ],
 "metadata": {
  "kernelspec": {
   "display_name": "Python 3 (ipykernel)",
   "language": "python",
   "name": "python3"
  },
  "language_info": {
   "codemirror_mode": {
    "name": "ipython",
    "version": 3
   },
   "file_extension": ".py",
   "mimetype": "text/x-python",
   "name": "python",
   "nbconvert_exporter": "python",
   "pygments_lexer": "ipython3",
   "version": "3.9.10"
  }
 },
 "nbformat": 4,
 "nbformat_minor": 5
}
